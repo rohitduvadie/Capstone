{
 "cells": [
  {
   "attachments": {},
   "cell_type": "markdown",
   "metadata": {},
   "source": [
    "#### Adapted from https://towardsdatascience.com/how-to-cluster-images-based-on-visual-similarity-cd6e7209fe34"
   ]
  },
  {
   "cell_type": "code",
   "execution_count": 1,
   "metadata": {},
   "outputs": [],
   "source": [
    "pip install keras"
   ]
  },
  {
   "cell_type": "code",
   "execution_count": 2,
   "metadata": {},
   "outputs": [],
   "source": [
    "pip install scikit-learn"
   ]
  },
  {
   "cell_type": "code",
   "execution_count": 3,
   "metadata": {},
   "outputs": [],
   "source": [
    "pip install matplotlib"
   ]
  },
  {
   "cell_type": "code",
   "execution_count": 4,
   "metadata": {},
   "outputs": [],
   "source": [
    "pip install tensorflow"
   ]
  },
  {
   "cell_type": "code",
   "execution_count": null,
   "metadata": {},
   "outputs": [],
   "source": [
    "pip install PIL"
   ]
  },
  {
   "cell_type": "code",
   "execution_count": null,
   "metadata": {},
   "outputs": [],
   "source": [
    "pip install pandas"
   ]
  },
  {
   "cell_type": "code",
   "execution_count": 2,
   "metadata": {},
   "outputs": [],
   "source": [
    "# for loading/processing the images  \n",
    "import tensorflow as tf\n",
    "from tensorflow import keras\n",
    "from tensorflow.keras import layers\n",
    "from tensorflow.keras.utils import load_img\n",
    "from tensorflow.keras.utils import image_dataset_from_directory\n",
    "from tensorflow.keras.utils import img_to_array \n",
    "from keras.applications.vgg16 import preprocess_input \n",
    "\n",
    "# models \n",
    "from keras.applications.vgg16 import VGG16\n",
    "from keras.applications.vgg19 import VGG19 \n",
    "from keras.models import Model\n",
    "\n",
    "# clustering and dimension reduction\n",
    "from sklearn.cluster import KMeans\n",
    "from sklearn.decomposition import PCA\n",
    "\n",
    "# for everything else\n",
    "import os\n",
    "import numpy as np\n",
    "import matplotlib.pyplot as plt\n",
    "from random import randint\n",
    "import pandas as pd\n",
    "import pickle\n",
    "import PIL"
   ]
  },
  {
   "cell_type": "code",
   "execution_count": 3,
   "metadata": {},
   "outputs": [],
   "source": [
    "def get_images(path_to_images, filetype):  ##path should be the path to the folder which contains the images, filetype should be either '.jpg' or '.png'\n",
    "    os.chdir(path_to_images)\n",
    "    # this list holds the filenames for all the images in the folder\n",
    "    images = [] \n",
    "    # creates a ScandirIterator aliased as files\n",
    "    with os.scandir(path_to_images) as files:\n",
    "    # loops through each file in the directory\n",
    "        for file in files:\n",
    "            if file.name.endswith(filetype):\n",
    "            # adds only the image files to the flowers list\n",
    "                images.append(file.name)\n",
    "    return images"
   ]
  },
  {
   "cell_type": "code",
   "execution_count": 4,
   "metadata": {},
   "outputs": [],
   "source": [
    "def VGG_model(vgg_model_choice): ## choose either VGG16() or VGG19()\n",
    "    # load model\n",
    "    model = vgg_model_choice\n",
    "    # remove the output layer\n",
    "    model = Model(inputs=model.inputs, outputs=model.layers[-2].output)\n",
    "    return model"
   ]
  },
  {
   "cell_type": "code",
   "execution_count": 14,
   "metadata": {},
   "outputs": [],
   "source": [
    "def extract_features(file, model):\n",
    "    # load the image as a 224x224 array\n",
    "    img = load_img(file, target_size=(224,224))\n",
    "    # convert from 'PIL.Image.Image' to numpy array\n",
    "    img = np.array(img) \n",
    "    # reshape the data for the model reshape(num_of_samples, dim 1, dim 2, channels)\n",
    "    reshaped_img = img.reshape(1,224,224,3) \n",
    "    # prepare image for model\n",
    "    imgx = preprocess_input(reshaped_img)\n",
    "    # get the feature vector\n",
    "    features = model.predict(imgx, use_multiprocessing=True)\n",
    "    return features"
   ]
  },
  {
   "cell_type": "code",
   "execution_count": 19,
   "metadata": {},
   "outputs": [],
   "source": [
    "def get_feature_array(image_set,vgg_model): # image set should be output from get_images(), vgg_model should be output from VGG_model()\n",
    "    data = {}\n",
    "    # loop through each image in the dataset\n",
    "    for image in image_set:\n",
    "        # try to extract the features and update the dictionary\n",
    "        try:\n",
    "            feat = extract_features(image,vgg_model) \n",
    "            data[image] = feat   \n",
    "        except: \n",
    "            pass    \n",
    "    # get a list of the filenames\n",
    "    filenames = np.array(list(data.keys()))\n",
    "\n",
    "    # get a list of the features for each image file\n",
    "    feat = np.array(list(data.values()))\n",
    "    feat.shape\n",
    "    (210, 1, 4096)\n",
    "\n",
    "    # reshape so that there are 210 samples of 4096 vectors\n",
    "    feat = feat.reshape(-1,4096)\n",
    "    feat.shape\n",
    "    (210, 4096)\n",
    "\n",
    "    return filenames, feat\n"
   ]
  },
  {
   "attachments": {},
   "cell_type": "markdown",
   "metadata": {},
   "source": [
    "### Below cell can be used for saving/loading from saved the results from the VGG model so they can be accessed without re-running the model. Uncomment out if requried"
   ]
  },
  {
   "cell_type": "code",
   "execution_count": null,
   "metadata": {},
   "outputs": [],
   "source": [
    "#Use this to save the features and filenames. Replace with desired path to files\n",
    "\n",
    "# pd.DataFrame(feat).to_csv(PATH TO SAVE FEATURES)\n",
    "# pd.DataFrame(filenames).to_csv(PATH TO SAVE FILENAMES)\n",
    "\n",
    "#Use this to load saved features and filenames for use with the PCA + KMeans clustering. Replace with path to files\n",
    "\n",
    "#feat = pd.read_csv(FEATURE PATH).to_numpy()\n",
    "#filenames = pd.read_csv(FILENAMES PATH).to_numpy()\n",
    "\n",
    "# feat = feat.iloc[:,-4096:].to_numpy()\n",
    "# filenames=filenames.iloc[:,-1].to_numpy()"
   ]
  },
  {
   "cell_type": "code",
   "execution_count": 21,
   "metadata": {},
   "outputs": [],
   "source": [
    "#Apply PCA to reduce feature space (change \"feat\" to whatever you have named the feat output from get_feature_array()). Change n_components and random state as required\n",
    "pca = PCA(n_components=100, random_state=22)\n",
    "pca.fit(feat)\n",
    "x = pca.transform(feat)"
   ]
  },
  {
   "cell_type": "code",
   "execution_count": 23,
   "metadata": {},
   "outputs": [],
   "source": [
    "#Perform kmeans clustering. Change n_clusters and random state as required\n",
    "kmeans = KMeans(n_init = 'auto',n_clusters=40, random_state=22)\n",
    "kmeans.fit(x)\n",
    "\n",
    "# holds the cluster number and the images { number: [images] } (change \"filenames\" to whatever you have named the filenames output from get_feature_array())\n",
    "groups = {}\n",
    "for file, cluster in zip(filenames,kmeans.labels_):\n",
    "    if cluster not in groups.keys():\n",
    "        groups[cluster] = []\n",
    "        groups[cluster].append(file)\n",
    "    else:\n",
    "        groups[cluster].append(file)"
   ]
  },
  {
   "cell_type": "code",
   "execution_count": 24,
   "metadata": {},
   "outputs": [],
   "source": [
    "# function that lets you view a cluster (based on cluster number)        \n",
    "def view_cluster(cluster):\n",
    "    plt.figure(figsize = (25,25));\n",
    "    # gets the list of filenames for a cluster\n",
    "    files = groups[cluster]\n",
    "    # only allow up to 30 images to be shown at a time. Adjust or remove as desired\n",
    "    if len(files) > 30:\n",
    "        print(f\"Clipping cluster size from {len(files)} to 30\")\n",
    "        files = files[:29]\n",
    "    # plot each image in the cluster\n",
    "    for index, file in enumerate(files):\n",
    "        plt.subplot(10,10,index+1);\n",
    "        img = load_img(file)\n",
    "        img = np.array(img)\n",
    "        plt.imshow(img)\n",
    "        plt.axis('off')"
   ]
  },
  {
   "cell_type": "code",
   "execution_count": 68,
   "metadata": {},
   "outputs": [
    {
     "data": {
      "image/png": "[encoded data removed]",
      "text/plain": [
       "<Figure size 600x600 with 1 Axes>"
      ]
     },
     "metadata": {},
     "output_type": "display_data"
    }
   ],
   "source": [
    "# this is for if you want to investigate which value for k might be the best via the elbow method\n",
    "sse = []\n",
    "list_k = list(range(3, 50))\n",
    "\n",
    "for k in list_k:\n",
    "    km = KMeans(n_init = 'auto', n_clusters=k, random_state=22)\n",
    "    km.fit(x)\n",
    "    \n",
    "    sse.append(km.inertia_)\n",
    "\n",
    "# Plot sse against k\n",
    "plt.figure(figsize=(6, 6))\n",
    "plt.plot(list_k, sse)\n",
    "plt.xlabel(r'Number of clusters *k*')\n",
    "plt.ylabel('Sum of squared distance');\n",
    "        "
   ]
  }
 ],
 "metadata": {
  "kernelspec": {
   "display_name": "Python 3",
   "language": "python",
   "name": "python3"
  },
  "language_info": {
   "codemirror_mode": {
    "name": "ipython",
    "version": 3
   },
   "file_extension": ".py",
   "mimetype": "text/x-python",
   "name": "python",
   "nbconvert_exporter": "python",
   "pygments_lexer": "ipython3",
   "version": "3.9.5"
  },
  "orig_nbformat": 4
 },
 "nbformat": 4,
 "nbformat_minor": 2
}
