{
 "cells": [
  {
   "cell_type": "code",
   "execution_count": 19,
   "id": "coupled-creator",
   "metadata": {},
   "outputs": [],
   "source": [
    "# First import some necessary libraries \n",
    "import numpy as np\n",
    "import pandas as pd\n",
    "import seaborn as sns\n",
    "import matplotlib.pyplot as plt\n",
    "%matplotlib inline\n",
    "\n",
    "# Suppress all warnings\n",
    "import warnings\n",
    "warnings.filterwarnings('ignore')\n",
    "np.set_printoptions(precision = 3)\n",
    "from IPython.core.display import HTML\n",
    "\n",
    "%matplotlib inline"
   ]
  },
  {
   "cell_type": "code",
   "execution_count": 20,
   "id": "turkish-culture",
   "metadata": {},
   "outputs": [
    {
     "name": "stdout",
     "output_type": "stream",
     "text": [
      "(63236, 14)\n"
     ]
    },
    {
     "data": {
      "text/html": [
       "<div>\n",
       "<style scoped>\n",
       "    .dataframe tbody tr th:only-of-type {\n",
       "        vertical-align: middle;\n",
       "    }\n",
       "\n",
       "    .dataframe tbody tr th {\n",
       "        vertical-align: top;\n",
       "    }\n",
       "\n",
       "    .dataframe thead th {\n",
       "        text-align: right;\n",
       "    }\n",
       "</style>\n",
       "<table border=\"1\" class=\"dataframe\">\n",
       "  <thead>\n",
       "    <tr style=\"text-align: right;\">\n",
       "      <th></th>\n",
       "      <th>cell</th>\n",
       "      <th>drug</th>\n",
       "      <th>min_conc</th>\n",
       "      <th>max_conc</th>\n",
       "      <th>min_norm_intensity</th>\n",
       "      <th>max_norm_intensity</th>\n",
       "      <th>mean_sd</th>\n",
       "      <th>convergence</th>\n",
       "      <th>upper_limit</th>\n",
       "      <th>IC50</th>\n",
       "      <th>slope</th>\n",
       "      <th>lower_limit</th>\n",
       "      <th>file_path</th>\n",
       "      <th>image_name</th>\n",
       "    </tr>\n",
       "  </thead>\n",
       "  <tbody>\n",
       "    <tr>\n",
       "      <th>0</th>\n",
       "      <td>8570</td>\n",
       "      <td>1034</td>\n",
       "      <td>0.007812</td>\n",
       "      <td>2.0</td>\n",
       "      <td>0.074097</td>\n",
       "      <td>0.664380</td>\n",
       "      <td>0.044709</td>\n",
       "      <td>True</td>\n",
       "      <td>0.901533</td>\n",
       "      <td>0.010218</td>\n",
       "      <td>-2.155016</td>\n",
       "      <td>0.152275</td>\n",
       "      <td>/Users/akfay/Documents/Capstone/triplicate_bat...</td>\n",
       "      <td>PC-14_1034_419_Glo_250_4_3.png</td>\n",
       "    </tr>\n",
       "    <tr>\n",
       "      <th>1</th>\n",
       "      <td>8570</td>\n",
       "      <td>1034</td>\n",
       "      <td>0.007812</td>\n",
       "      <td>2.0</td>\n",
       "      <td>0.087338</td>\n",
       "      <td>0.672330</td>\n",
       "      <td>0.040231</td>\n",
       "      <td>True</td>\n",
       "      <td>1.610422</td>\n",
       "      <td>0.005150</td>\n",
       "      <td>-1.883030</td>\n",
       "      <td>0.167002</td>\n",
       "      <td>/Users/akfay/Documents/Capstone/triplicate_bat...</td>\n",
       "      <td>PC-14_1034_419_Glo_250_4_6.png</td>\n",
       "    </tr>\n",
       "    <tr>\n",
       "      <th>2</th>\n",
       "      <td>8570</td>\n",
       "      <td>1034</td>\n",
       "      <td>0.007812</td>\n",
       "      <td>2.0</td>\n",
       "      <td>0.068806</td>\n",
       "      <td>0.717342</td>\n",
       "      <td>0.050703</td>\n",
       "      <td>True</td>\n",
       "      <td>14.883637</td>\n",
       "      <td>0.000010</td>\n",
       "      <td>-0.010746</td>\n",
       "      <td>-12.938230</td>\n",
       "      <td>/Users/akfay/Documents/Capstone/triplicate_bat...</td>\n",
       "      <td>PC-14_1034_419_Glo_250_4_9.png</td>\n",
       "    </tr>\n",
       "    <tr>\n",
       "      <th>3</th>\n",
       "      <td>8570</td>\n",
       "      <td>1034</td>\n",
       "      <td>0.007812</td>\n",
       "      <td>2.0</td>\n",
       "      <td>0.071687</td>\n",
       "      <td>0.569093</td>\n",
       "      <td>0.038261</td>\n",
       "      <td>True</td>\n",
       "      <td>0.744103</td>\n",
       "      <td>0.011272</td>\n",
       "      <td>-1.882265</td>\n",
       "      <td>0.129222</td>\n",
       "      <td>/Users/akfay/Documents/Capstone/triplicate_bat...</td>\n",
       "      <td>PC-14_1034_419_Glo_250_4_12.png</td>\n",
       "    </tr>\n",
       "    <tr>\n",
       "      <th>4</th>\n",
       "      <td>8570</td>\n",
       "      <td>1034</td>\n",
       "      <td>0.007812</td>\n",
       "      <td>2.0</td>\n",
       "      <td>0.058225</td>\n",
       "      <td>0.714683</td>\n",
       "      <td>0.055069</td>\n",
       "      <td>True</td>\n",
       "      <td>0.654130</td>\n",
       "      <td>0.026046</td>\n",
       "      <td>-6.163449</td>\n",
       "      <td>0.129686</td>\n",
       "      <td>/Users/akfay/Documents/Capstone/triplicate_bat...</td>\n",
       "      <td>PC-14_1034_419_Glo_250_4_15.png</td>\n",
       "    </tr>\n",
       "  </tbody>\n",
       "</table>\n",
       "</div>"
      ],
      "text/plain": [
       "   cell  drug  min_conc  max_conc  min_norm_intensity  max_norm_intensity  \\\n",
       "0  8570  1034  0.007812       2.0            0.074097            0.664380   \n",
       "1  8570  1034  0.007812       2.0            0.087338            0.672330   \n",
       "2  8570  1034  0.007812       2.0            0.068806            0.717342   \n",
       "3  8570  1034  0.007812       2.0            0.071687            0.569093   \n",
       "4  8570  1034  0.007812       2.0            0.058225            0.714683   \n",
       "\n",
       "    mean_sd  convergence  upper_limit      IC50     slope  lower_limit  \\\n",
       "0  0.044709         True     0.901533  0.010218 -2.155016     0.152275   \n",
       "1  0.040231         True     1.610422  0.005150 -1.883030     0.167002   \n",
       "2  0.050703         True    14.883637  0.000010 -0.010746   -12.938230   \n",
       "3  0.038261         True     0.744103  0.011272 -1.882265     0.129222   \n",
       "4  0.055069         True     0.654130  0.026046 -6.163449     0.129686   \n",
       "\n",
       "                                           file_path  \\\n",
       "0  /Users/akfay/Documents/Capstone/triplicate_bat...   \n",
       "1  /Users/akfay/Documents/Capstone/triplicate_bat...   \n",
       "2  /Users/akfay/Documents/Capstone/triplicate_bat...   \n",
       "3  /Users/akfay/Documents/Capstone/triplicate_bat...   \n",
       "4  /Users/akfay/Documents/Capstone/triplicate_bat...   \n",
       "\n",
       "                        image_name  \n",
       "0   PC-14_1034_419_Glo_250_4_3.png  \n",
       "1   PC-14_1034_419_Glo_250_4_6.png  \n",
       "2   PC-14_1034_419_Glo_250_4_9.png  \n",
       "3  PC-14_1034_419_Glo_250_4_12.png  \n",
       "4  PC-14_1034_419_Glo_250_4_15.png  "
      ]
     },
     "execution_count": 20,
     "metadata": {},
     "output_type": "execute_result"
    }
   ],
   "source": [
    "#load data file\n",
    "data_df_2 = pd.read_csv('../data/triplicate_batch_images.csv', low_memory = False)\n",
    "print(data_df_2.shape)\n",
    "data_df_2.head()"
   ]
  },
  {
   "cell_type": "code",
   "execution_count": 21,
   "id": "formed-spain",
   "metadata": {},
   "outputs": [
    {
     "name": "stdout",
     "output_type": "stream",
     "text": [
      "(62159, 2)\n"
     ]
    },
    {
     "data": {
      "text/html": [
       "<div>\n",
       "<style scoped>\n",
       "    .dataframe tbody tr th:only-of-type {\n",
       "        vertical-align: middle;\n",
       "    }\n",
       "\n",
       "    .dataframe tbody tr th {\n",
       "        vertical-align: top;\n",
       "    }\n",
       "\n",
       "    .dataframe thead th {\n",
       "        text-align: right;\n",
       "    }\n",
       "</style>\n",
       "<table border=\"1\" class=\"dataframe\">\n",
       "  <thead>\n",
       "    <tr style=\"text-align: right;\">\n",
       "      <th></th>\n",
       "      <th>image_name</th>\n",
       "      <th>cluster</th>\n",
       "    </tr>\n",
       "  </thead>\n",
       "  <tbody>\n",
       "    <tr>\n",
       "      <th>0</th>\n",
       "      <td>KP-4_1088_490_Glo_400_4_24.png</td>\n",
       "      <td>35</td>\n",
       "    </tr>\n",
       "    <tr>\n",
       "      <th>1</th>\n",
       "      <td>NCI-H650_1034_517_Glo_400_4_3.png</td>\n",
       "      <td>35</td>\n",
       "    </tr>\n",
       "    <tr>\n",
       "      <th>2</th>\n",
       "      <td>SK-MEL-2_1266_714_b_17_a_1600_3_0.png</td>\n",
       "      <td>35</td>\n",
       "    </tr>\n",
       "    <tr>\n",
       "      <th>3</th>\n",
       "      <td>SK-MEL-2_1266_714_f_17_a_1600_3_0.png</td>\n",
       "      <td>35</td>\n",
       "    </tr>\n",
       "    <tr>\n",
       "      <th>4</th>\n",
       "      <td>SUIT-2_1034_495_Glo_325_4_9.png</td>\n",
       "      <td>35</td>\n",
       "    </tr>\n",
       "  </tbody>\n",
       "</table>\n",
       "</div>"
      ],
      "text/plain": [
       "                              image_name  cluster\n",
       "0         KP-4_1088_490_Glo_400_4_24.png       35\n",
       "1      NCI-H650_1034_517_Glo_400_4_3.png       35\n",
       "2  SK-MEL-2_1266_714_b_17_a_1600_3_0.png       35\n",
       "3  SK-MEL-2_1266_714_f_17_a_1600_3_0.png       35\n",
       "4        SUIT-2_1034_495_Glo_325_4_9.png       35"
      ]
     },
     "execution_count": 21,
     "metadata": {},
     "output_type": "execute_result"
    }
   ],
   "source": [
    "#load cluster images dataset\n",
    "\n",
    "clusters_df = pd.read_csv('../../Final/model/VGG19_kmeans40.csv', low_memory = False)\n",
    "clusters_df = clusters_df.rename(columns={\"image\": \"image_name\"})\n",
    "\n",
    "print(clusters_df.shape)\n",
    "clusters_df.head()\n"
   ]
  },
  {
   "cell_type": "code",
   "execution_count": 22,
   "id": "interior-quarterly",
   "metadata": {},
   "outputs": [
    {
     "name": "stdout",
     "output_type": "stream",
     "text": [
      "(63236, 15)\n"
     ]
    },
    {
     "data": {
      "text/html": [
       "<div>\n",
       "<style scoped>\n",
       "    .dataframe tbody tr th:only-of-type {\n",
       "        vertical-align: middle;\n",
       "    }\n",
       "\n",
       "    .dataframe tbody tr th {\n",
       "        vertical-align: top;\n",
       "    }\n",
       "\n",
       "    .dataframe thead th {\n",
       "        text-align: right;\n",
       "    }\n",
       "</style>\n",
       "<table border=\"1\" class=\"dataframe\">\n",
       "  <thead>\n",
       "    <tr style=\"text-align: right;\">\n",
       "      <th></th>\n",
       "      <th>cell</th>\n",
       "      <th>drug</th>\n",
       "      <th>min_conc</th>\n",
       "      <th>max_conc</th>\n",
       "      <th>min_norm_intensity</th>\n",
       "      <th>max_norm_intensity</th>\n",
       "      <th>mean_sd</th>\n",
       "      <th>convergence</th>\n",
       "      <th>upper_limit</th>\n",
       "      <th>IC50</th>\n",
       "      <th>slope</th>\n",
       "      <th>lower_limit</th>\n",
       "      <th>file_path</th>\n",
       "      <th>image_name</th>\n",
       "      <th>cluster</th>\n",
       "    </tr>\n",
       "  </thead>\n",
       "  <tbody>\n",
       "    <tr>\n",
       "      <th>63231</th>\n",
       "      <td>6412</td>\n",
       "      <td>1192</td>\n",
       "      <td>0.009766</td>\n",
       "      <td>10.0</td>\n",
       "      <td>0.307581</td>\n",
       "      <td>1.335618</td>\n",
       "      <td>0.078498</td>\n",
       "      <td>True</td>\n",
       "      <td>1.165328</td>\n",
       "      <td>6.381202</td>\n",
       "      <td>-1.442833</td>\n",
       "      <td>-0.115036</td>\n",
       "      <td>/Users/akfay/Documents/Capstone/triplicate_bat...</td>\n",
       "      <td>HCC2218_1192_347_Glo_2000_4_3.png</td>\n",
       "      <td>38</td>\n",
       "    </tr>\n",
       "    <tr>\n",
       "      <th>63232</th>\n",
       "      <td>6413</td>\n",
       "      <td>1192</td>\n",
       "      <td>0.009766</td>\n",
       "      <td>10.0</td>\n",
       "      <td>0.671477</td>\n",
       "      <td>1.099878</td>\n",
       "      <td>0.064007</td>\n",
       "      <td>True</td>\n",
       "      <td>1.042716</td>\n",
       "      <td>22.063667</td>\n",
       "      <td>-0.497382</td>\n",
       "      <td>0.277841</td>\n",
       "      <td>/Users/akfay/Documents/Capstone/triplicate_bat...</td>\n",
       "      <td>AU565_1192_347_Glo_500_4_3.png</td>\n",
       "      <td>37</td>\n",
       "    </tr>\n",
       "    <tr>\n",
       "      <th>63233</th>\n",
       "      <td>6290</td>\n",
       "      <td>1192</td>\n",
       "      <td>0.009766</td>\n",
       "      <td>10.0</td>\n",
       "      <td>0.640827</td>\n",
       "      <td>1.023175</td>\n",
       "      <td>0.069889</td>\n",
       "      <td>True</td>\n",
       "      <td>0.911329</td>\n",
       "      <td>0.957016</td>\n",
       "      <td>-9.194456</td>\n",
       "      <td>0.793217</td>\n",
       "      <td>/Users/akfay/Documents/Capstone/triplicate_bat...</td>\n",
       "      <td>HCC1187_1192_347_Glo_3000_4_3.png</td>\n",
       "      <td>1</td>\n",
       "    </tr>\n",
       "    <tr>\n",
       "      <th>63234</th>\n",
       "      <td>6310</td>\n",
       "      <td>1192</td>\n",
       "      <td>0.009766</td>\n",
       "      <td>10.0</td>\n",
       "      <td>0.572646</td>\n",
       "      <td>1.129622</td>\n",
       "      <td>0.119326</td>\n",
       "      <td>True</td>\n",
       "      <td>0.928182</td>\n",
       "      <td>1782.928576</td>\n",
       "      <td>-0.634245</td>\n",
       "      <td>-6.424923</td>\n",
       "      <td>/Users/akfay/Documents/Capstone/triplicate_bat...</td>\n",
       "      <td>MDA-MB-231_1192_347_Glo_100_4_3.png</td>\n",
       "      <td>6</td>\n",
       "    </tr>\n",
       "    <tr>\n",
       "      <th>63235</th>\n",
       "      <td>6411</td>\n",
       "      <td>1192</td>\n",
       "      <td>0.009766</td>\n",
       "      <td>10.0</td>\n",
       "      <td>0.816443</td>\n",
       "      <td>1.157349</td>\n",
       "      <td>0.063773</td>\n",
       "      <td>True</td>\n",
       "      <td>4.173590</td>\n",
       "      <td>0.005404</td>\n",
       "      <td>-5.491619</td>\n",
       "      <td>0.970245</td>\n",
       "      <td>/Users/akfay/Documents/Capstone/triplicate_bat...</td>\n",
       "      <td>MDA-MB-436_1192_347_Glo_400_4_3.png</td>\n",
       "      <td>1</td>\n",
       "    </tr>\n",
       "  </tbody>\n",
       "</table>\n",
       "</div>"
      ],
      "text/plain": [
       "       cell  drug  min_conc  max_conc  min_norm_intensity  max_norm_intensity  \\\n",
       "63231  6412  1192  0.009766      10.0            0.307581            1.335618   \n",
       "63232  6413  1192  0.009766      10.0            0.671477            1.099878   \n",
       "63233  6290  1192  0.009766      10.0            0.640827            1.023175   \n",
       "63234  6310  1192  0.009766      10.0            0.572646            1.129622   \n",
       "63235  6411  1192  0.009766      10.0            0.816443            1.157349   \n",
       "\n",
       "        mean_sd  convergence  upper_limit         IC50     slope  lower_limit  \\\n",
       "63231  0.078498         True     1.165328     6.381202 -1.442833    -0.115036   \n",
       "63232  0.064007         True     1.042716    22.063667 -0.497382     0.277841   \n",
       "63233  0.069889         True     0.911329     0.957016 -9.194456     0.793217   \n",
       "63234  0.119326         True     0.928182  1782.928576 -0.634245    -6.424923   \n",
       "63235  0.063773         True     4.173590     0.005404 -5.491619     0.970245   \n",
       "\n",
       "                                               file_path  \\\n",
       "63231  /Users/akfay/Documents/Capstone/triplicate_bat...   \n",
       "63232  /Users/akfay/Documents/Capstone/triplicate_bat...   \n",
       "63233  /Users/akfay/Documents/Capstone/triplicate_bat...   \n",
       "63234  /Users/akfay/Documents/Capstone/triplicate_bat...   \n",
       "63235  /Users/akfay/Documents/Capstone/triplicate_bat...   \n",
       "\n",
       "                                image_name  cluster  \n",
       "63231    HCC2218_1192_347_Glo_2000_4_3.png       38  \n",
       "63232       AU565_1192_347_Glo_500_4_3.png       37  \n",
       "63233    HCC1187_1192_347_Glo_3000_4_3.png        1  \n",
       "63234  MDA-MB-231_1192_347_Glo_100_4_3.png        6  \n",
       "63235  MDA-MB-436_1192_347_Glo_400_4_3.png        1  "
      ]
     },
     "execution_count": 22,
     "metadata": {},
     "output_type": "execute_result"
    }
   ],
   "source": [
    "#merge two dataframe on image_name\n",
    "\n",
    "triplicate_batch_images_clusters_df = pd.merge(data_df_2, clusters_df, on='image_name', how='outer')\n",
    "print(triplicate_batch_images_clusters_df.shape)\n",
    "triplicate_batch_images_clusters_df.tail()"
   ]
  },
  {
   "cell_type": "code",
   "execution_count": 23,
   "id": "secondary-therapy",
   "metadata": {},
   "outputs": [
    {
     "name": "stdout",
     "output_type": "stream",
     "text": [
      "(40, 2)\n"
     ]
    },
    {
     "data": {
      "text/html": [
       "<div>\n",
       "<style scoped>\n",
       "    .dataframe tbody tr th:only-of-type {\n",
       "        vertical-align: middle;\n",
       "    }\n",
       "\n",
       "    .dataframe tbody tr th {\n",
       "        vertical-align: top;\n",
       "    }\n",
       "\n",
       "    .dataframe thead th {\n",
       "        text-align: right;\n",
       "    }\n",
       "</style>\n",
       "<table border=\"1\" class=\"dataframe\">\n",
       "  <thead>\n",
       "    <tr style=\"text-align: right;\">\n",
       "      <th></th>\n",
       "      <th>cluster</th>\n",
       "      <th>VGG19_Label</th>\n",
       "    </tr>\n",
       "  </thead>\n",
       "  <tbody>\n",
       "    <tr>\n",
       "      <th>0</th>\n",
       "      <td>0</td>\n",
       "      <td>Good</td>\n",
       "    </tr>\n",
       "    <tr>\n",
       "      <th>1</th>\n",
       "      <td>1</td>\n",
       "      <td>No Response</td>\n",
       "    </tr>\n",
       "    <tr>\n",
       "      <th>2</th>\n",
       "      <td>2</td>\n",
       "      <td>Good</td>\n",
       "    </tr>\n",
       "    <tr>\n",
       "      <th>3</th>\n",
       "      <td>3</td>\n",
       "      <td>Mediocre</td>\n",
       "    </tr>\n",
       "    <tr>\n",
       "      <th>4</th>\n",
       "      <td>4</td>\n",
       "      <td>bad</td>\n",
       "    </tr>\n",
       "  </tbody>\n",
       "</table>\n",
       "</div>"
      ],
      "text/plain": [
       "   cluster  VGG19_Label\n",
       "0        0         Good\n",
       "1        1  No Response\n",
       "2        2         Good\n",
       "3        3     Mediocre\n",
       "4        4          bad"
      ]
     },
     "execution_count": 23,
     "metadata": {},
     "output_type": "execute_result"
    }
   ],
   "source": [
    "labels_df = pd.read_csv('../../Final/analyis/VGG19_kmeans40_labels.csv', low_memory = False)\n",
    "labels_df = labels_df.rename(columns={\"Cluster\": \"cluster\", \"VGG19 Label\":\"VGG19_Label\"})\n",
    "labels_df = labels_df.reset_index(drop=True)\n",
    "print(labels_df.shape)\n",
    "labels_df.head()"
   ]
  },
  {
   "cell_type": "code",
   "execution_count": 24,
   "id": "narrow-communist",
   "metadata": {},
   "outputs": [
    {
     "data": {
      "text/plain": [
       "{'cluster': {0: 0,\n",
       "  1: 1,\n",
       "  2: 2,\n",
       "  3: 3,\n",
       "  4: 4,\n",
       "  5: 5,\n",
       "  6: 6,\n",
       "  7: 7,\n",
       "  8: 8,\n",
       "  9: 9,\n",
       "  10: 10,\n",
       "  11: 11,\n",
       "  12: 12,\n",
       "  13: 13,\n",
       "  14: 14,\n",
       "  15: 15,\n",
       "  16: 16,\n",
       "  17: 17,\n",
       "  18: 18,\n",
       "  19: 19,\n",
       "  20: 20,\n",
       "  21: 21,\n",
       "  22: 22,\n",
       "  23: 23,\n",
       "  24: 24,\n",
       "  25: 25,\n",
       "  26: 26,\n",
       "  27: 27,\n",
       "  28: 28,\n",
       "  29: 29,\n",
       "  30: 30,\n",
       "  31: 31,\n",
       "  32: 32,\n",
       "  33: 33,\n",
       "  34: 34,\n",
       "  35: 35,\n",
       "  36: 36,\n",
       "  37: 37,\n",
       "  38: 38,\n",
       "  39: 39},\n",
       " 'VGG19_Label': {0: 'Good',\n",
       "  1: 'No Response',\n",
       "  2: 'Good',\n",
       "  3: 'Mediocre',\n",
       "  4: 'bad',\n",
       "  5: 'Mediocre',\n",
       "  6: 'Mediocre',\n",
       "  7: 'good',\n",
       "  8: 'Mediocre',\n",
       "  9: 'Mediocre',\n",
       "  10: 'Mediocre',\n",
       "  11: 'Good',\n",
       "  12: 'Mediocre',\n",
       "  13: 'No Response',\n",
       "  14: 'Mediocre',\n",
       "  15: 'No Response',\n",
       "  16: 'Good',\n",
       "  17: 'Good',\n",
       "  18: 'No Response',\n",
       "  19: 'Mediocre',\n",
       "  20: 'Mediocre',\n",
       "  21: 'Bad',\n",
       "  22: 'Bad',\n",
       "  23: 'No Response',\n",
       "  24: 'Mediocre',\n",
       "  25: 'Good',\n",
       "  26: 'Bad',\n",
       "  27: 'Bad',\n",
       "  28: 'No Response',\n",
       "  29: 'Bad',\n",
       "  30: 'Good',\n",
       "  31: 'Mediocre',\n",
       "  32: 'No Response',\n",
       "  33: 'Mediocre',\n",
       "  34: 'Mediocre',\n",
       "  35: 'Bad',\n",
       "  36: 'Good',\n",
       "  37: 'Mediocre',\n",
       "  38: 'Mediocre',\n",
       "  39: 'Mediocre'}}"
      ]
     },
     "execution_count": 24,
     "metadata": {},
     "output_type": "execute_result"
    }
   ],
   "source": [
    "#convert to dict\n",
    "\n",
    "mydict = dict(zip(labels_df.cluster, labels_df.VGG19_Label))\n",
    "labeles_df = labels_df.to_dict()\n",
    "labeles_df"
   ]
  },
  {
   "cell_type": "code",
   "execution_count": 25,
   "id": "charitable-stick",
   "metadata": {},
   "outputs": [],
   "source": [
    "#prepare dict for mapping \n",
    "\n",
    "VGG19_Label ={0: 'Good',\n",
    "  1: 'No Response',\n",
    "  2: 'Good',\n",
    "  3: 'Mediocre',\n",
    "  4: 'bad',\n",
    "  5: 'Mediocre',\n",
    "  6: 'Mediocre',\n",
    "  7: 'good',\n",
    "  8: 'Mediocre',\n",
    "  9: 'Mediocre',\n",
    "  10: 'Mediocre',\n",
    "  11: 'Good',\n",
    "  12: 'Mediocre',\n",
    "  13: 'No Response',\n",
    "  14: 'Mediocre',\n",
    "  15: 'No Response',\n",
    "  16: 'Good',\n",
    "  17: 'Good',\n",
    "  18: 'No Response',\n",
    "  19: 'Mediocre',\n",
    "  20: 'Mediocre',\n",
    "  21: 'Bad',\n",
    "  22: 'Bad',\n",
    "  23: 'No Response',\n",
    "  24: 'Mediocre',\n",
    "  25: 'Good',\n",
    "  26: 'Bad',\n",
    "  27: 'Bad',\n",
    "  28: 'No Response',\n",
    "  29: 'Bad',\n",
    "  30: 'Good',\n",
    "  31: 'Mediocre',\n",
    "  32: 'No Response',\n",
    "  33: 'Mediocre',\n",
    "  34: 'Mediocre',\n",
    "  35: 'Bad',\n",
    "  36: 'Good',\n",
    "  37: 'Mediocre',\n",
    "  38: 'Mediocre',\n",
    "  39: 'Mediocre'}"
   ]
  },
  {
   "cell_type": "code",
   "execution_count": 26,
   "id": "modified-weapon",
   "metadata": {},
   "outputs": [
    {
     "data": {
      "text/html": [
       "<div>\n",
       "<style scoped>\n",
       "    .dataframe tbody tr th:only-of-type {\n",
       "        vertical-align: middle;\n",
       "    }\n",
       "\n",
       "    .dataframe tbody tr th {\n",
       "        vertical-align: top;\n",
       "    }\n",
       "\n",
       "    .dataframe thead th {\n",
       "        text-align: right;\n",
       "    }\n",
       "</style>\n",
       "<table border=\"1\" class=\"dataframe\">\n",
       "  <thead>\n",
       "    <tr style=\"text-align: right;\">\n",
       "      <th></th>\n",
       "      <th>cell</th>\n",
       "      <th>drug</th>\n",
       "      <th>min_conc</th>\n",
       "      <th>max_conc</th>\n",
       "      <th>min_norm_intensity</th>\n",
       "      <th>max_norm_intensity</th>\n",
       "      <th>mean_sd</th>\n",
       "      <th>convergence</th>\n",
       "      <th>upper_limit</th>\n",
       "      <th>IC50</th>\n",
       "      <th>slope</th>\n",
       "      <th>lower_limit</th>\n",
       "      <th>file_path</th>\n",
       "      <th>image_name</th>\n",
       "      <th>cluster</th>\n",
       "      <th>label</th>\n",
       "    </tr>\n",
       "  </thead>\n",
       "  <tbody>\n",
       "    <tr>\n",
       "      <th>0</th>\n",
       "      <td>8570</td>\n",
       "      <td>1034</td>\n",
       "      <td>0.007812</td>\n",
       "      <td>2.0</td>\n",
       "      <td>0.074097</td>\n",
       "      <td>0.664380</td>\n",
       "      <td>0.044709</td>\n",
       "      <td>True</td>\n",
       "      <td>0.901533</td>\n",
       "      <td>0.010218</td>\n",
       "      <td>-2.155016</td>\n",
       "      <td>0.152275</td>\n",
       "      <td>/Users/akfay/Documents/Capstone/triplicate_bat...</td>\n",
       "      <td>PC-14_1034_419_Glo_250_4_3.png</td>\n",
       "      <td>12</td>\n",
       "      <td>Mediocre</td>\n",
       "    </tr>\n",
       "    <tr>\n",
       "      <th>1</th>\n",
       "      <td>8570</td>\n",
       "      <td>1034</td>\n",
       "      <td>0.007812</td>\n",
       "      <td>2.0</td>\n",
       "      <td>0.087338</td>\n",
       "      <td>0.672330</td>\n",
       "      <td>0.040231</td>\n",
       "      <td>True</td>\n",
       "      <td>1.610422</td>\n",
       "      <td>0.005150</td>\n",
       "      <td>-1.883030</td>\n",
       "      <td>0.167002</td>\n",
       "      <td>/Users/akfay/Documents/Capstone/triplicate_bat...</td>\n",
       "      <td>PC-14_1034_419_Glo_250_4_6.png</td>\n",
       "      <td>12</td>\n",
       "      <td>Mediocre</td>\n",
       "    </tr>\n",
       "    <tr>\n",
       "      <th>2</th>\n",
       "      <td>8570</td>\n",
       "      <td>1034</td>\n",
       "      <td>0.007812</td>\n",
       "      <td>2.0</td>\n",
       "      <td>0.068806</td>\n",
       "      <td>0.717342</td>\n",
       "      <td>0.050703</td>\n",
       "      <td>True</td>\n",
       "      <td>14.883637</td>\n",
       "      <td>0.000010</td>\n",
       "      <td>-0.010746</td>\n",
       "      <td>-12.938230</td>\n",
       "      <td>/Users/akfay/Documents/Capstone/triplicate_bat...</td>\n",
       "      <td>PC-14_1034_419_Glo_250_4_9.png</td>\n",
       "      <td>29</td>\n",
       "      <td>Bad</td>\n",
       "    </tr>\n",
       "    <tr>\n",
       "      <th>3</th>\n",
       "      <td>8570</td>\n",
       "      <td>1034</td>\n",
       "      <td>0.007812</td>\n",
       "      <td>2.0</td>\n",
       "      <td>0.071687</td>\n",
       "      <td>0.569093</td>\n",
       "      <td>0.038261</td>\n",
       "      <td>True</td>\n",
       "      <td>0.744103</td>\n",
       "      <td>0.011272</td>\n",
       "      <td>-1.882265</td>\n",
       "      <td>0.129222</td>\n",
       "      <td>/Users/akfay/Documents/Capstone/triplicate_bat...</td>\n",
       "      <td>PC-14_1034_419_Glo_250_4_12.png</td>\n",
       "      <td>12</td>\n",
       "      <td>Mediocre</td>\n",
       "    </tr>\n",
       "    <tr>\n",
       "      <th>4</th>\n",
       "      <td>8570</td>\n",
       "      <td>1034</td>\n",
       "      <td>0.007812</td>\n",
       "      <td>2.0</td>\n",
       "      <td>0.058225</td>\n",
       "      <td>0.714683</td>\n",
       "      <td>0.055069</td>\n",
       "      <td>True</td>\n",
       "      <td>0.654130</td>\n",
       "      <td>0.026046</td>\n",
       "      <td>-6.163449</td>\n",
       "      <td>0.129686</td>\n",
       "      <td>/Users/akfay/Documents/Capstone/triplicate_bat...</td>\n",
       "      <td>PC-14_1034_419_Glo_250_4_15.png</td>\n",
       "      <td>19</td>\n",
       "      <td>Mediocre</td>\n",
       "    </tr>\n",
       "  </tbody>\n",
       "</table>\n",
       "</div>"
      ],
      "text/plain": [
       "   cell  drug  min_conc  max_conc  min_norm_intensity  max_norm_intensity  \\\n",
       "0  8570  1034  0.007812       2.0            0.074097            0.664380   \n",
       "1  8570  1034  0.007812       2.0            0.087338            0.672330   \n",
       "2  8570  1034  0.007812       2.0            0.068806            0.717342   \n",
       "3  8570  1034  0.007812       2.0            0.071687            0.569093   \n",
       "4  8570  1034  0.007812       2.0            0.058225            0.714683   \n",
       "\n",
       "    mean_sd  convergence  upper_limit      IC50     slope  lower_limit  \\\n",
       "0  0.044709         True     0.901533  0.010218 -2.155016     0.152275   \n",
       "1  0.040231         True     1.610422  0.005150 -1.883030     0.167002   \n",
       "2  0.050703         True    14.883637  0.000010 -0.010746   -12.938230   \n",
       "3  0.038261         True     0.744103  0.011272 -1.882265     0.129222   \n",
       "4  0.055069         True     0.654130  0.026046 -6.163449     0.129686   \n",
       "\n",
       "                                           file_path  \\\n",
       "0  /Users/akfay/Documents/Capstone/triplicate_bat...   \n",
       "1  /Users/akfay/Documents/Capstone/triplicate_bat...   \n",
       "2  /Users/akfay/Documents/Capstone/triplicate_bat...   \n",
       "3  /Users/akfay/Documents/Capstone/triplicate_bat...   \n",
       "4  /Users/akfay/Documents/Capstone/triplicate_bat...   \n",
       "\n",
       "                        image_name  cluster     label  \n",
       "0   PC-14_1034_419_Glo_250_4_3.png       12  Mediocre  \n",
       "1   PC-14_1034_419_Glo_250_4_6.png       12  Mediocre  \n",
       "2   PC-14_1034_419_Glo_250_4_9.png       29       Bad  \n",
       "3  PC-14_1034_419_Glo_250_4_12.png       12  Mediocre  \n",
       "4  PC-14_1034_419_Glo_250_4_15.png       19  Mediocre  "
      ]
     },
     "execution_count": 26,
     "metadata": {},
     "output_type": "execute_result"
    }
   ],
   "source": [
    "#map the cluster information from dict\n",
    "\n",
    "triplicate_batch_images_clusters_df['label'] = triplicate_batch_images_clusters_df['cluster'].map(VGG19_Label)\n",
    "triplicate_batch_images_clusters_df.head()"
   ]
  },
  {
   "cell_type": "code",
   "execution_count": 27,
   "id": "encouraging-toronto",
   "metadata": {},
   "outputs": [
    {
     "name": "stdout",
     "output_type": "stream",
     "text": [
      "(63236, 16)\n"
     ]
    },
    {
     "data": {
      "text/html": [
       "<div>\n",
       "<style scoped>\n",
       "    .dataframe tbody tr th:only-of-type {\n",
       "        vertical-align: middle;\n",
       "    }\n",
       "\n",
       "    .dataframe tbody tr th {\n",
       "        vertical-align: top;\n",
       "    }\n",
       "\n",
       "    .dataframe thead th {\n",
       "        text-align: right;\n",
       "    }\n",
       "</style>\n",
       "<table border=\"1\" class=\"dataframe\">\n",
       "  <thead>\n",
       "    <tr style=\"text-align: right;\">\n",
       "      <th></th>\n",
       "      <th>cell</th>\n",
       "      <th>drug</th>\n",
       "      <th>min_conc</th>\n",
       "      <th>max_conc</th>\n",
       "      <th>min_norm_intensity</th>\n",
       "      <th>max_norm_intensity</th>\n",
       "      <th>mean_sd</th>\n",
       "      <th>convergence</th>\n",
       "      <th>upper_limit</th>\n",
       "      <th>IC50</th>\n",
       "      <th>slope</th>\n",
       "      <th>lower_limit</th>\n",
       "      <th>file_path</th>\n",
       "      <th>image_name</th>\n",
       "      <th>cluster</th>\n",
       "      <th>label</th>\n",
       "    </tr>\n",
       "  </thead>\n",
       "  <tbody>\n",
       "    <tr>\n",
       "      <th>63231</th>\n",
       "      <td>6412</td>\n",
       "      <td>1192</td>\n",
       "      <td>0.009766</td>\n",
       "      <td>10.0</td>\n",
       "      <td>0.307581</td>\n",
       "      <td>1.335618</td>\n",
       "      <td>0.078498</td>\n",
       "      <td>True</td>\n",
       "      <td>1.165328</td>\n",
       "      <td>6.381202</td>\n",
       "      <td>-1.442833</td>\n",
       "      <td>-0.115036</td>\n",
       "      <td>/Users/akfay/Documents/Capstone/triplicate_bat...</td>\n",
       "      <td>HCC2218_1192_347_Glo_2000_4_3.png</td>\n",
       "      <td>38</td>\n",
       "      <td>Mediocre</td>\n",
       "    </tr>\n",
       "    <tr>\n",
       "      <th>63232</th>\n",
       "      <td>6413</td>\n",
       "      <td>1192</td>\n",
       "      <td>0.009766</td>\n",
       "      <td>10.0</td>\n",
       "      <td>0.671477</td>\n",
       "      <td>1.099878</td>\n",
       "      <td>0.064007</td>\n",
       "      <td>True</td>\n",
       "      <td>1.042716</td>\n",
       "      <td>22.063667</td>\n",
       "      <td>-0.497382</td>\n",
       "      <td>0.277841</td>\n",
       "      <td>/Users/akfay/Documents/Capstone/triplicate_bat...</td>\n",
       "      <td>AU565_1192_347_Glo_500_4_3.png</td>\n",
       "      <td>37</td>\n",
       "      <td>Mediocre</td>\n",
       "    </tr>\n",
       "    <tr>\n",
       "      <th>63233</th>\n",
       "      <td>6290</td>\n",
       "      <td>1192</td>\n",
       "      <td>0.009766</td>\n",
       "      <td>10.0</td>\n",
       "      <td>0.640827</td>\n",
       "      <td>1.023175</td>\n",
       "      <td>0.069889</td>\n",
       "      <td>True</td>\n",
       "      <td>0.911329</td>\n",
       "      <td>0.957016</td>\n",
       "      <td>-9.194456</td>\n",
       "      <td>0.793217</td>\n",
       "      <td>/Users/akfay/Documents/Capstone/triplicate_bat...</td>\n",
       "      <td>HCC1187_1192_347_Glo_3000_4_3.png</td>\n",
       "      <td>1</td>\n",
       "      <td>No Response</td>\n",
       "    </tr>\n",
       "    <tr>\n",
       "      <th>63234</th>\n",
       "      <td>6310</td>\n",
       "      <td>1192</td>\n",
       "      <td>0.009766</td>\n",
       "      <td>10.0</td>\n",
       "      <td>0.572646</td>\n",
       "      <td>1.129622</td>\n",
       "      <td>0.119326</td>\n",
       "      <td>True</td>\n",
       "      <td>0.928182</td>\n",
       "      <td>1782.928576</td>\n",
       "      <td>-0.634245</td>\n",
       "      <td>-6.424923</td>\n",
       "      <td>/Users/akfay/Documents/Capstone/triplicate_bat...</td>\n",
       "      <td>MDA-MB-231_1192_347_Glo_100_4_3.png</td>\n",
       "      <td>6</td>\n",
       "      <td>Mediocre</td>\n",
       "    </tr>\n",
       "    <tr>\n",
       "      <th>63235</th>\n",
       "      <td>6411</td>\n",
       "      <td>1192</td>\n",
       "      <td>0.009766</td>\n",
       "      <td>10.0</td>\n",
       "      <td>0.816443</td>\n",
       "      <td>1.157349</td>\n",
       "      <td>0.063773</td>\n",
       "      <td>True</td>\n",
       "      <td>4.173590</td>\n",
       "      <td>0.005404</td>\n",
       "      <td>-5.491619</td>\n",
       "      <td>0.970245</td>\n",
       "      <td>/Users/akfay/Documents/Capstone/triplicate_bat...</td>\n",
       "      <td>MDA-MB-436_1192_347_Glo_400_4_3.png</td>\n",
       "      <td>1</td>\n",
       "      <td>No Response</td>\n",
       "    </tr>\n",
       "  </tbody>\n",
       "</table>\n",
       "</div>"
      ],
      "text/plain": [
       "       cell  drug  min_conc  max_conc  min_norm_intensity  max_norm_intensity  \\\n",
       "63231  6412  1192  0.009766      10.0            0.307581            1.335618   \n",
       "63232  6413  1192  0.009766      10.0            0.671477            1.099878   \n",
       "63233  6290  1192  0.009766      10.0            0.640827            1.023175   \n",
       "63234  6310  1192  0.009766      10.0            0.572646            1.129622   \n",
       "63235  6411  1192  0.009766      10.0            0.816443            1.157349   \n",
       "\n",
       "        mean_sd  convergence  upper_limit         IC50     slope  lower_limit  \\\n",
       "63231  0.078498         True     1.165328     6.381202 -1.442833    -0.115036   \n",
       "63232  0.064007         True     1.042716    22.063667 -0.497382     0.277841   \n",
       "63233  0.069889         True     0.911329     0.957016 -9.194456     0.793217   \n",
       "63234  0.119326         True     0.928182  1782.928576 -0.634245    -6.424923   \n",
       "63235  0.063773         True     4.173590     0.005404 -5.491619     0.970245   \n",
       "\n",
       "                                               file_path  \\\n",
       "63231  /Users/akfay/Documents/Capstone/triplicate_bat...   \n",
       "63232  /Users/akfay/Documents/Capstone/triplicate_bat...   \n",
       "63233  /Users/akfay/Documents/Capstone/triplicate_bat...   \n",
       "63234  /Users/akfay/Documents/Capstone/triplicate_bat...   \n",
       "63235  /Users/akfay/Documents/Capstone/triplicate_bat...   \n",
       "\n",
       "                                image_name  cluster        label  \n",
       "63231    HCC2218_1192_347_Glo_2000_4_3.png       38     Mediocre  \n",
       "63232       AU565_1192_347_Glo_500_4_3.png       37     Mediocre  \n",
       "63233    HCC1187_1192_347_Glo_3000_4_3.png        1  No Response  \n",
       "63234  MDA-MB-231_1192_347_Glo_100_4_3.png        6     Mediocre  \n",
       "63235  MDA-MB-436_1192_347_Glo_400_4_3.png        1  No Response  "
      ]
     },
     "execution_count": 27,
     "metadata": {},
     "output_type": "execute_result"
    }
   ],
   "source": [
    "#check the shape of the data_frame\n",
    "\n",
    "print(triplicate_batch_images_clusters_df.shape)\n",
    "triplicate_batch_images_clusters_df.tail()"
   ]
  },
  {
   "cell_type": "code",
   "execution_count": 28,
   "id": "downtown-traveler",
   "metadata": {},
   "outputs": [],
   "source": [
    "# save the dataframe to csv file\n",
    "\n",
    "triplicate_batch_images_clusters_df.to_csv('triplicate_batch_images_labels_updated.csv')"
   ]
  },
  {
   "cell_type": "code",
   "execution_count": 29,
   "id": "preceding-rental",
   "metadata": {},
   "outputs": [
    {
     "data": {
      "text/plain": [
       "cell                    int64\n",
       "drug                    int64\n",
       "min_conc              float64\n",
       "max_conc              float64\n",
       "min_norm_intensity    float64\n",
       "max_norm_intensity    float64\n",
       "mean_sd               float64\n",
       "convergence              bool\n",
       "upper_limit           float64\n",
       "IC50                  float64\n",
       "slope                 float64\n",
       "lower_limit           float64\n",
       "file_path              object\n",
       "image_name             object\n",
       "cluster                 int64\n",
       "label                  object\n",
       "dtype: object"
      ]
     },
     "execution_count": 29,
     "metadata": {},
     "output_type": "execute_result"
    }
   ],
   "source": [
    "triplicate_batch_images_clusters_df.dtypes"
   ]
  },
  {
   "cell_type": "code",
   "execution_count": 30,
   "id": "fatty-understanding",
   "metadata": {},
   "outputs": [
    {
     "data": {
      "text/html": [
       "<div>\n",
       "<style scoped>\n",
       "    .dataframe tbody tr th:only-of-type {\n",
       "        vertical-align: middle;\n",
       "    }\n",
       "\n",
       "    .dataframe tbody tr th {\n",
       "        vertical-align: top;\n",
       "    }\n",
       "\n",
       "    .dataframe thead th {\n",
       "        text-align: right;\n",
       "    }\n",
       "</style>\n",
       "<table border=\"1\" class=\"dataframe\">\n",
       "  <thead>\n",
       "    <tr style=\"text-align: right;\">\n",
       "      <th></th>\n",
       "      <th>cell</th>\n",
       "      <th>drug</th>\n",
       "      <th>min_conc</th>\n",
       "      <th>max_conc</th>\n",
       "      <th>min_norm_intensity</th>\n",
       "      <th>max_norm_intensity</th>\n",
       "      <th>mean_sd</th>\n",
       "      <th>convergence</th>\n",
       "      <th>upper_limit</th>\n",
       "      <th>IC50</th>\n",
       "      <th>slope</th>\n",
       "      <th>lower_limit</th>\n",
       "      <th>file_path</th>\n",
       "      <th>image_name</th>\n",
       "      <th>cluster</th>\n",
       "      <th>label</th>\n",
       "    </tr>\n",
       "  </thead>\n",
       "  <tbody>\n",
       "    <tr>\n",
       "      <th>0</th>\n",
       "      <td>8570</td>\n",
       "      <td>1034</td>\n",
       "      <td>0.007812</td>\n",
       "      <td>2.0</td>\n",
       "      <td>0.074097</td>\n",
       "      <td>0.664380</td>\n",
       "      <td>0.044709</td>\n",
       "      <td>True</td>\n",
       "      <td>0.901533</td>\n",
       "      <td>0.010218</td>\n",
       "      <td>-2.155016</td>\n",
       "      <td>0.152275</td>\n",
       "      <td>/Users/akfay/Documents/Capstone/triplicate_bat...</td>\n",
       "      <td>PC-14_1034_419_Glo_250_4_3.png</td>\n",
       "      <td>12</td>\n",
       "      <td>Mediocre</td>\n",
       "    </tr>\n",
       "    <tr>\n",
       "      <th>1</th>\n",
       "      <td>8570</td>\n",
       "      <td>1034</td>\n",
       "      <td>0.007812</td>\n",
       "      <td>2.0</td>\n",
       "      <td>0.087338</td>\n",
       "      <td>0.672330</td>\n",
       "      <td>0.040231</td>\n",
       "      <td>True</td>\n",
       "      <td>1.610422</td>\n",
       "      <td>0.005150</td>\n",
       "      <td>-1.883030</td>\n",
       "      <td>0.167002</td>\n",
       "      <td>/Users/akfay/Documents/Capstone/triplicate_bat...</td>\n",
       "      <td>PC-14_1034_419_Glo_250_4_6.png</td>\n",
       "      <td>12</td>\n",
       "      <td>Mediocre</td>\n",
       "    </tr>\n",
       "    <tr>\n",
       "      <th>2</th>\n",
       "      <td>8570</td>\n",
       "      <td>1034</td>\n",
       "      <td>0.007812</td>\n",
       "      <td>2.0</td>\n",
       "      <td>0.068806</td>\n",
       "      <td>0.717342</td>\n",
       "      <td>0.050703</td>\n",
       "      <td>True</td>\n",
       "      <td>14.883637</td>\n",
       "      <td>0.000010</td>\n",
       "      <td>-0.010746</td>\n",
       "      <td>-12.938230</td>\n",
       "      <td>/Users/akfay/Documents/Capstone/triplicate_bat...</td>\n",
       "      <td>PC-14_1034_419_Glo_250_4_9.png</td>\n",
       "      <td>29</td>\n",
       "      <td>Bad</td>\n",
       "    </tr>\n",
       "    <tr>\n",
       "      <th>3</th>\n",
       "      <td>8570</td>\n",
       "      <td>1034</td>\n",
       "      <td>0.007812</td>\n",
       "      <td>2.0</td>\n",
       "      <td>0.071687</td>\n",
       "      <td>0.569093</td>\n",
       "      <td>0.038261</td>\n",
       "      <td>True</td>\n",
       "      <td>0.744103</td>\n",
       "      <td>0.011272</td>\n",
       "      <td>-1.882265</td>\n",
       "      <td>0.129222</td>\n",
       "      <td>/Users/akfay/Documents/Capstone/triplicate_bat...</td>\n",
       "      <td>PC-14_1034_419_Glo_250_4_12.png</td>\n",
       "      <td>12</td>\n",
       "      <td>Mediocre</td>\n",
       "    </tr>\n",
       "    <tr>\n",
       "      <th>4</th>\n",
       "      <td>8570</td>\n",
       "      <td>1034</td>\n",
       "      <td>0.007812</td>\n",
       "      <td>2.0</td>\n",
       "      <td>0.058225</td>\n",
       "      <td>0.714683</td>\n",
       "      <td>0.055069</td>\n",
       "      <td>True</td>\n",
       "      <td>0.654130</td>\n",
       "      <td>0.026046</td>\n",
       "      <td>-6.163449</td>\n",
       "      <td>0.129686</td>\n",
       "      <td>/Users/akfay/Documents/Capstone/triplicate_bat...</td>\n",
       "      <td>PC-14_1034_419_Glo_250_4_15.png</td>\n",
       "      <td>19</td>\n",
       "      <td>Mediocre</td>\n",
       "    </tr>\n",
       "  </tbody>\n",
       "</table>\n",
       "</div>"
      ],
      "text/plain": [
       "   cell  drug  min_conc  max_conc  min_norm_intensity  max_norm_intensity  \\\n",
       "0  8570  1034  0.007812       2.0            0.074097            0.664380   \n",
       "1  8570  1034  0.007812       2.0            0.087338            0.672330   \n",
       "2  8570  1034  0.007812       2.0            0.068806            0.717342   \n",
       "3  8570  1034  0.007812       2.0            0.071687            0.569093   \n",
       "4  8570  1034  0.007812       2.0            0.058225            0.714683   \n",
       "\n",
       "    mean_sd  convergence  upper_limit      IC50     slope  lower_limit  \\\n",
       "0  0.044709         True     0.901533  0.010218 -2.155016     0.152275   \n",
       "1  0.040231         True     1.610422  0.005150 -1.883030     0.167002   \n",
       "2  0.050703         True    14.883637  0.000010 -0.010746   -12.938230   \n",
       "3  0.038261         True     0.744103  0.011272 -1.882265     0.129222   \n",
       "4  0.055069         True     0.654130  0.026046 -6.163449     0.129686   \n",
       "\n",
       "                                           file_path  \\\n",
       "0  /Users/akfay/Documents/Capstone/triplicate_bat...   \n",
       "1  /Users/akfay/Documents/Capstone/triplicate_bat...   \n",
       "2  /Users/akfay/Documents/Capstone/triplicate_bat...   \n",
       "3  /Users/akfay/Documents/Capstone/triplicate_bat...   \n",
       "4  /Users/akfay/Documents/Capstone/triplicate_bat...   \n",
       "\n",
       "                        image_name  cluster     label  \n",
       "0   PC-14_1034_419_Glo_250_4_3.png       12  Mediocre  \n",
       "1   PC-14_1034_419_Glo_250_4_6.png       12  Mediocre  \n",
       "2   PC-14_1034_419_Glo_250_4_9.png       29       Bad  \n",
       "3  PC-14_1034_419_Glo_250_4_12.png       12  Mediocre  \n",
       "4  PC-14_1034_419_Glo_250_4_15.png       19  Mediocre  "
      ]
     },
     "execution_count": 30,
     "metadata": {},
     "output_type": "execute_result"
    }
   ],
   "source": [
    "# drop duplicate image_names\n",
    "\n",
    "triplicate_batch_images_clusters_df = triplicate_batch_images_clusters_df.drop_duplicates(subset=['image_name'])\n",
    "triplicate_batch_images_clusters_df.head()"
   ]
  },
  {
   "cell_type": "code",
   "execution_count": 31,
   "id": "incident-casino",
   "metadata": {},
   "outputs": [
    {
     "data": {
      "text/html": [
       "<div>\n",
       "<style scoped>\n",
       "    .dataframe tbody tr th:only-of-type {\n",
       "        vertical-align: middle;\n",
       "    }\n",
       "\n",
       "    .dataframe tbody tr th {\n",
       "        vertical-align: top;\n",
       "    }\n",
       "\n",
       "    .dataframe thead th {\n",
       "        text-align: right;\n",
       "    }\n",
       "</style>\n",
       "<table border=\"1\" class=\"dataframe\">\n",
       "  <thead>\n",
       "    <tr style=\"text-align: right;\">\n",
       "      <th></th>\n",
       "      <th>cell</th>\n",
       "      <th>drug</th>\n",
       "      <th>min_conc</th>\n",
       "      <th>max_conc</th>\n",
       "      <th>min_norm_intensity</th>\n",
       "      <th>max_norm_intensity</th>\n",
       "      <th>mean_sd</th>\n",
       "      <th>convergence</th>\n",
       "      <th>upper_limit</th>\n",
       "      <th>IC50</th>\n",
       "      <th>slope</th>\n",
       "      <th>lower_limit</th>\n",
       "      <th>file_path</th>\n",
       "      <th>image_name</th>\n",
       "      <th>cluster</th>\n",
       "      <th>label</th>\n",
       "    </tr>\n",
       "  </thead>\n",
       "  <tbody>\n",
       "    <tr>\n",
       "      <th>0</th>\n",
       "      <td>8570</td>\n",
       "      <td>1034</td>\n",
       "      <td>0.007812</td>\n",
       "      <td>2.0</td>\n",
       "      <td>0.074097</td>\n",
       "      <td>0.664380</td>\n",
       "      <td>0.044709</td>\n",
       "      <td>True</td>\n",
       "      <td>0.901533</td>\n",
       "      <td>0.010218</td>\n",
       "      <td>-2.155016</td>\n",
       "      <td>0.152275</td>\n",
       "      <td>/Users/akfay/Documents/Capstone/triplicate_bat...</td>\n",
       "      <td>PC-14_1034_419_Glo_250_4_3.png</td>\n",
       "      <td>12</td>\n",
       "      <td>Mediocre</td>\n",
       "    </tr>\n",
       "    <tr>\n",
       "      <th>1</th>\n",
       "      <td>8570</td>\n",
       "      <td>1034</td>\n",
       "      <td>0.007812</td>\n",
       "      <td>2.0</td>\n",
       "      <td>0.087338</td>\n",
       "      <td>0.672330</td>\n",
       "      <td>0.040231</td>\n",
       "      <td>True</td>\n",
       "      <td>1.610422</td>\n",
       "      <td>0.005150</td>\n",
       "      <td>-1.883030</td>\n",
       "      <td>0.167002</td>\n",
       "      <td>/Users/akfay/Documents/Capstone/triplicate_bat...</td>\n",
       "      <td>PC-14_1034_419_Glo_250_4_6.png</td>\n",
       "      <td>12</td>\n",
       "      <td>Mediocre</td>\n",
       "    </tr>\n",
       "    <tr>\n",
       "      <th>2</th>\n",
       "      <td>8570</td>\n",
       "      <td>1034</td>\n",
       "      <td>0.007812</td>\n",
       "      <td>2.0</td>\n",
       "      <td>0.068806</td>\n",
       "      <td>0.717342</td>\n",
       "      <td>0.050703</td>\n",
       "      <td>True</td>\n",
       "      <td>14.883637</td>\n",
       "      <td>0.000010</td>\n",
       "      <td>-0.010746</td>\n",
       "      <td>-12.938230</td>\n",
       "      <td>/Users/akfay/Documents/Capstone/triplicate_bat...</td>\n",
       "      <td>PC-14_1034_419_Glo_250_4_9.png</td>\n",
       "      <td>29</td>\n",
       "      <td>Bad</td>\n",
       "    </tr>\n",
       "    <tr>\n",
       "      <th>3</th>\n",
       "      <td>8570</td>\n",
       "      <td>1034</td>\n",
       "      <td>0.007812</td>\n",
       "      <td>2.0</td>\n",
       "      <td>0.071687</td>\n",
       "      <td>0.569093</td>\n",
       "      <td>0.038261</td>\n",
       "      <td>True</td>\n",
       "      <td>0.744103</td>\n",
       "      <td>0.011272</td>\n",
       "      <td>-1.882265</td>\n",
       "      <td>0.129222</td>\n",
       "      <td>/Users/akfay/Documents/Capstone/triplicate_bat...</td>\n",
       "      <td>PC-14_1034_419_Glo_250_4_12.png</td>\n",
       "      <td>12</td>\n",
       "      <td>Mediocre</td>\n",
       "    </tr>\n",
       "    <tr>\n",
       "      <th>4</th>\n",
       "      <td>8570</td>\n",
       "      <td>1034</td>\n",
       "      <td>0.007812</td>\n",
       "      <td>2.0</td>\n",
       "      <td>0.058225</td>\n",
       "      <td>0.714683</td>\n",
       "      <td>0.055069</td>\n",
       "      <td>True</td>\n",
       "      <td>0.654130</td>\n",
       "      <td>0.026046</td>\n",
       "      <td>-6.163449</td>\n",
       "      <td>0.129686</td>\n",
       "      <td>/Users/akfay/Documents/Capstone/triplicate_bat...</td>\n",
       "      <td>PC-14_1034_419_Glo_250_4_15.png</td>\n",
       "      <td>19</td>\n",
       "      <td>Mediocre</td>\n",
       "    </tr>\n",
       "  </tbody>\n",
       "</table>\n",
       "</div>"
      ],
      "text/plain": [
       "   cell  drug  min_conc  max_conc  min_norm_intensity  max_norm_intensity  \\\n",
       "0  8570  1034  0.007812       2.0            0.074097            0.664380   \n",
       "1  8570  1034  0.007812       2.0            0.087338            0.672330   \n",
       "2  8570  1034  0.007812       2.0            0.068806            0.717342   \n",
       "3  8570  1034  0.007812       2.0            0.071687            0.569093   \n",
       "4  8570  1034  0.007812       2.0            0.058225            0.714683   \n",
       "\n",
       "    mean_sd  convergence  upper_limit      IC50     slope  lower_limit  \\\n",
       "0  0.044709         True     0.901533  0.010218 -2.155016     0.152275   \n",
       "1  0.040231         True     1.610422  0.005150 -1.883030     0.167002   \n",
       "2  0.050703         True    14.883637  0.000010 -0.010746   -12.938230   \n",
       "3  0.038261         True     0.744103  0.011272 -1.882265     0.129222   \n",
       "4  0.055069         True     0.654130  0.026046 -6.163449     0.129686   \n",
       "\n",
       "                                           file_path  \\\n",
       "0  /Users/akfay/Documents/Capstone/triplicate_bat...   \n",
       "1  /Users/akfay/Documents/Capstone/triplicate_bat...   \n",
       "2  /Users/akfay/Documents/Capstone/triplicate_bat...   \n",
       "3  /Users/akfay/Documents/Capstone/triplicate_bat...   \n",
       "4  /Users/akfay/Documents/Capstone/triplicate_bat...   \n",
       "\n",
       "                        image_name  cluster     label  \n",
       "0   PC-14_1034_419_Glo_250_4_3.png       12  Mediocre  \n",
       "1   PC-14_1034_419_Glo_250_4_6.png       12  Mediocre  \n",
       "2   PC-14_1034_419_Glo_250_4_9.png       29       Bad  \n",
       "3  PC-14_1034_419_Glo_250_4_12.png       12  Mediocre  \n",
       "4  PC-14_1034_419_Glo_250_4_15.png       19  Mediocre  "
      ]
     },
     "execution_count": 31,
     "metadata": {},
     "output_type": "execute_result"
    }
   ],
   "source": [
    "#copy the dataframe\n",
    "\n",
    "df_cluster_label = triplicate_batch_images_clusters_df.copy()\n",
    "df_cluster_label.head()"
   ]
  },
  {
   "cell_type": "code",
   "execution_count": 32,
   "id": "adjustable-assurance",
   "metadata": {},
   "outputs": [],
   "source": [
    "# keep the commented codes below for columns include or not\n",
    "\n",
    "#df_cluster_label.drop(labels = [\"cell\",\"drug\", \"image_name\", \"file_path\"], axis=1, inplace=True) #droping cell, drug\n",
    "# cast variables as object to treat as categorical\n",
    "df_cluster_label.drop(labels = [\"image_name\", \"file_path\"], axis=1, inplace=True) # not dropping cell, drug"
   ]
  },
  {
   "cell_type": "code",
   "execution_count": 33,
   "id": "rubber-guyana",
   "metadata": {},
   "outputs": [
    {
     "data": {
      "text/html": [
       "<div>\n",
       "<style scoped>\n",
       "    .dataframe tbody tr th:only-of-type {\n",
       "        vertical-align: middle;\n",
       "    }\n",
       "\n",
       "    .dataframe tbody tr th {\n",
       "        vertical-align: top;\n",
       "    }\n",
       "\n",
       "    .dataframe thead th {\n",
       "        text-align: right;\n",
       "    }\n",
       "</style>\n",
       "<table border=\"1\" class=\"dataframe\">\n",
       "  <thead>\n",
       "    <tr style=\"text-align: right;\">\n",
       "      <th></th>\n",
       "      <th>cell</th>\n",
       "      <th>drug</th>\n",
       "      <th>min_conc</th>\n",
       "      <th>max_conc</th>\n",
       "      <th>min_norm_intensity</th>\n",
       "      <th>max_norm_intensity</th>\n",
       "      <th>mean_sd</th>\n",
       "      <th>convergence</th>\n",
       "      <th>upper_limit</th>\n",
       "      <th>IC50</th>\n",
       "      <th>slope</th>\n",
       "      <th>lower_limit</th>\n",
       "      <th>cluster</th>\n",
       "      <th>label</th>\n",
       "    </tr>\n",
       "  </thead>\n",
       "  <tbody>\n",
       "    <tr>\n",
       "      <th>0</th>\n",
       "      <td>8570</td>\n",
       "      <td>1034</td>\n",
       "      <td>0.007812</td>\n",
       "      <td>2.0</td>\n",
       "      <td>0.074097</td>\n",
       "      <td>0.664380</td>\n",
       "      <td>0.044709</td>\n",
       "      <td>True</td>\n",
       "      <td>0.901533</td>\n",
       "      <td>0.010218</td>\n",
       "      <td>-2.155016</td>\n",
       "      <td>0.152275</td>\n",
       "      <td>12</td>\n",
       "      <td>Mediocre</td>\n",
       "    </tr>\n",
       "    <tr>\n",
       "      <th>1</th>\n",
       "      <td>8570</td>\n",
       "      <td>1034</td>\n",
       "      <td>0.007812</td>\n",
       "      <td>2.0</td>\n",
       "      <td>0.087338</td>\n",
       "      <td>0.672330</td>\n",
       "      <td>0.040231</td>\n",
       "      <td>True</td>\n",
       "      <td>1.610422</td>\n",
       "      <td>0.005150</td>\n",
       "      <td>-1.883030</td>\n",
       "      <td>0.167002</td>\n",
       "      <td>12</td>\n",
       "      <td>Mediocre</td>\n",
       "    </tr>\n",
       "    <tr>\n",
       "      <th>2</th>\n",
       "      <td>8570</td>\n",
       "      <td>1034</td>\n",
       "      <td>0.007812</td>\n",
       "      <td>2.0</td>\n",
       "      <td>0.068806</td>\n",
       "      <td>0.717342</td>\n",
       "      <td>0.050703</td>\n",
       "      <td>True</td>\n",
       "      <td>14.883637</td>\n",
       "      <td>0.000010</td>\n",
       "      <td>-0.010746</td>\n",
       "      <td>-12.938230</td>\n",
       "      <td>29</td>\n",
       "      <td>Bad</td>\n",
       "    </tr>\n",
       "    <tr>\n",
       "      <th>3</th>\n",
       "      <td>8570</td>\n",
       "      <td>1034</td>\n",
       "      <td>0.007812</td>\n",
       "      <td>2.0</td>\n",
       "      <td>0.071687</td>\n",
       "      <td>0.569093</td>\n",
       "      <td>0.038261</td>\n",
       "      <td>True</td>\n",
       "      <td>0.744103</td>\n",
       "      <td>0.011272</td>\n",
       "      <td>-1.882265</td>\n",
       "      <td>0.129222</td>\n",
       "      <td>12</td>\n",
       "      <td>Mediocre</td>\n",
       "    </tr>\n",
       "    <tr>\n",
       "      <th>4</th>\n",
       "      <td>8570</td>\n",
       "      <td>1034</td>\n",
       "      <td>0.007812</td>\n",
       "      <td>2.0</td>\n",
       "      <td>0.058225</td>\n",
       "      <td>0.714683</td>\n",
       "      <td>0.055069</td>\n",
       "      <td>True</td>\n",
       "      <td>0.654130</td>\n",
       "      <td>0.026046</td>\n",
       "      <td>-6.163449</td>\n",
       "      <td>0.129686</td>\n",
       "      <td>19</td>\n",
       "      <td>Mediocre</td>\n",
       "    </tr>\n",
       "  </tbody>\n",
       "</table>\n",
       "</div>"
      ],
      "text/plain": [
       "   cell  drug  min_conc  max_conc  min_norm_intensity  max_norm_intensity  \\\n",
       "0  8570  1034  0.007812       2.0            0.074097            0.664380   \n",
       "1  8570  1034  0.007812       2.0            0.087338            0.672330   \n",
       "2  8570  1034  0.007812       2.0            0.068806            0.717342   \n",
       "3  8570  1034  0.007812       2.0            0.071687            0.569093   \n",
       "4  8570  1034  0.007812       2.0            0.058225            0.714683   \n",
       "\n",
       "    mean_sd  convergence  upper_limit      IC50     slope  lower_limit  \\\n",
       "0  0.044709         True     0.901533  0.010218 -2.155016     0.152275   \n",
       "1  0.040231         True     1.610422  0.005150 -1.883030     0.167002   \n",
       "2  0.050703         True    14.883637  0.000010 -0.010746   -12.938230   \n",
       "3  0.038261         True     0.744103  0.011272 -1.882265     0.129222   \n",
       "4  0.055069         True     0.654130  0.026046 -6.163449     0.129686   \n",
       "\n",
       "   cluster     label  \n",
       "0       12  Mediocre  \n",
       "1       12  Mediocre  \n",
       "2       29       Bad  \n",
       "3       12  Mediocre  \n",
       "4       19  Mediocre  "
      ]
     },
     "execution_count": 33,
     "metadata": {},
     "output_type": "execute_result"
    }
   ],
   "source": [
    "#check the dataframe\n",
    "\n",
    "df_cluster_label.head()"
   ]
  },
  {
   "cell_type": "code",
   "execution_count": 34,
   "id": "hearing-ownership",
   "metadata": {},
   "outputs": [
    {
     "data": {
      "text/plain": [
       "cell                    int64\n",
       "drug                    int64\n",
       "min_conc              float64\n",
       "max_conc              float64\n",
       "min_norm_intensity    float64\n",
       "max_norm_intensity    float64\n",
       "mean_sd               float64\n",
       "convergence              bool\n",
       "upper_limit           float64\n",
       "IC50                  float64\n",
       "slope                 float64\n",
       "lower_limit           float64\n",
       "cluster                 int64\n",
       "label                  object\n",
       "dtype: object"
      ]
     },
     "execution_count": 34,
     "metadata": {},
     "output_type": "execute_result"
    }
   ],
   "source": [
    "#checke the whole dataframe types\n",
    "\n",
    "df_cluster_label.dtypes"
   ]
  },
  {
   "cell_type": "code",
   "execution_count": 35,
   "id": "willing-wayne",
   "metadata": {},
   "outputs": [
    {
     "data": {
      "text/plain": [
       "cell                    int64\n",
       "drug                    int64\n",
       "min_conc              float64\n",
       "max_conc              float64\n",
       "min_norm_intensity    float64\n",
       "max_norm_intensity    float64\n",
       "mean_sd               float64\n",
       "convergence              bool\n",
       "upper_limit           float64\n",
       "IC50                  float64\n",
       "slope                 float64\n",
       "lower_limit           float64\n",
       "cluster                 int64\n",
       "label                  object\n",
       "dtype: object"
      ]
     },
     "execution_count": 35,
     "metadata": {},
     "output_type": "execute_result"
    }
   ],
   "source": [
    "# cast variables as object to treat as categorical\n",
    "\n",
    "df_cluster_label[['label']] = df_cluster_label[['label']].astype('O')\n",
    "df_cluster_label.dtypes"
   ]
  },
  {
   "cell_type": "code",
   "execution_count": 36,
   "id": "psychological-enlargement",
   "metadata": {},
   "outputs": [
    {
     "data": {
      "text/html": [
       "<div>\n",
       "<style scoped>\n",
       "    .dataframe tbody tr th:only-of-type {\n",
       "        vertical-align: middle;\n",
       "    }\n",
       "\n",
       "    .dataframe tbody tr th {\n",
       "        vertical-align: top;\n",
       "    }\n",
       "\n",
       "    .dataframe thead th {\n",
       "        text-align: right;\n",
       "    }\n",
       "</style>\n",
       "<table border=\"1\" class=\"dataframe\">\n",
       "  <thead>\n",
       "    <tr style=\"text-align: right;\">\n",
       "      <th></th>\n",
       "      <th>cell</th>\n",
       "      <th>drug</th>\n",
       "      <th>min_conc</th>\n",
       "      <th>max_conc</th>\n",
       "      <th>min_norm_intensity</th>\n",
       "      <th>max_norm_intensity</th>\n",
       "      <th>mean_sd</th>\n",
       "      <th>convergence</th>\n",
       "      <th>upper_limit</th>\n",
       "      <th>IC50</th>\n",
       "      <th>slope</th>\n",
       "      <th>lower_limit</th>\n",
       "      <th>cluster</th>\n",
       "      <th>label</th>\n",
       "    </tr>\n",
       "  </thead>\n",
       "  <tbody>\n",
       "    <tr>\n",
       "      <th>0</th>\n",
       "      <td>8570</td>\n",
       "      <td>1034</td>\n",
       "      <td>0.007812</td>\n",
       "      <td>2.0</td>\n",
       "      <td>0.074097</td>\n",
       "      <td>0.664380</td>\n",
       "      <td>0.044709</td>\n",
       "      <td>True</td>\n",
       "      <td>0.901533</td>\n",
       "      <td>0.010218</td>\n",
       "      <td>-2.155016</td>\n",
       "      <td>0.152275</td>\n",
       "      <td>12</td>\n",
       "      <td>Mediocre</td>\n",
       "    </tr>\n",
       "    <tr>\n",
       "      <th>1</th>\n",
       "      <td>8570</td>\n",
       "      <td>1034</td>\n",
       "      <td>0.007812</td>\n",
       "      <td>2.0</td>\n",
       "      <td>0.087338</td>\n",
       "      <td>0.672330</td>\n",
       "      <td>0.040231</td>\n",
       "      <td>True</td>\n",
       "      <td>1.610422</td>\n",
       "      <td>0.005150</td>\n",
       "      <td>-1.883030</td>\n",
       "      <td>0.167002</td>\n",
       "      <td>12</td>\n",
       "      <td>Mediocre</td>\n",
       "    </tr>\n",
       "    <tr>\n",
       "      <th>2</th>\n",
       "      <td>8570</td>\n",
       "      <td>1034</td>\n",
       "      <td>0.007812</td>\n",
       "      <td>2.0</td>\n",
       "      <td>0.068806</td>\n",
       "      <td>0.717342</td>\n",
       "      <td>0.050703</td>\n",
       "      <td>True</td>\n",
       "      <td>14.883637</td>\n",
       "      <td>0.000010</td>\n",
       "      <td>-0.010746</td>\n",
       "      <td>-12.938230</td>\n",
       "      <td>29</td>\n",
       "      <td>Bad</td>\n",
       "    </tr>\n",
       "    <tr>\n",
       "      <th>3</th>\n",
       "      <td>8570</td>\n",
       "      <td>1034</td>\n",
       "      <td>0.007812</td>\n",
       "      <td>2.0</td>\n",
       "      <td>0.071687</td>\n",
       "      <td>0.569093</td>\n",
       "      <td>0.038261</td>\n",
       "      <td>True</td>\n",
       "      <td>0.744103</td>\n",
       "      <td>0.011272</td>\n",
       "      <td>-1.882265</td>\n",
       "      <td>0.129222</td>\n",
       "      <td>12</td>\n",
       "      <td>Mediocre</td>\n",
       "    </tr>\n",
       "    <tr>\n",
       "      <th>4</th>\n",
       "      <td>8570</td>\n",
       "      <td>1034</td>\n",
       "      <td>0.007812</td>\n",
       "      <td>2.0</td>\n",
       "      <td>0.058225</td>\n",
       "      <td>0.714683</td>\n",
       "      <td>0.055069</td>\n",
       "      <td>True</td>\n",
       "      <td>0.654130</td>\n",
       "      <td>0.026046</td>\n",
       "      <td>-6.163449</td>\n",
       "      <td>0.129686</td>\n",
       "      <td>19</td>\n",
       "      <td>Mediocre</td>\n",
       "    </tr>\n",
       "  </tbody>\n",
       "</table>\n",
       "</div>"
      ],
      "text/plain": [
       "   cell  drug  min_conc  max_conc  min_norm_intensity  max_norm_intensity  \\\n",
       "0  8570  1034  0.007812       2.0            0.074097            0.664380   \n",
       "1  8570  1034  0.007812       2.0            0.087338            0.672330   \n",
       "2  8570  1034  0.007812       2.0            0.068806            0.717342   \n",
       "3  8570  1034  0.007812       2.0            0.071687            0.569093   \n",
       "4  8570  1034  0.007812       2.0            0.058225            0.714683   \n",
       "\n",
       "    mean_sd  convergence  upper_limit      IC50     slope  lower_limit  \\\n",
       "0  0.044709         True     0.901533  0.010218 -2.155016     0.152275   \n",
       "1  0.040231         True     1.610422  0.005150 -1.883030     0.167002   \n",
       "2  0.050703         True    14.883637  0.000010 -0.010746   -12.938230   \n",
       "3  0.038261         True     0.744103  0.011272 -1.882265     0.129222   \n",
       "4  0.055069         True     0.654130  0.026046 -6.163449     0.129686   \n",
       "\n",
       "   cluster     label  \n",
       "0       12  Mediocre  \n",
       "1       12  Mediocre  \n",
       "2       29       Bad  \n",
       "3       12  Mediocre  \n",
       "4       19  Mediocre  "
      ]
     },
     "execution_count": 36,
     "metadata": {},
     "output_type": "execute_result"
    }
   ],
   "source": [
    "#check the dataframe\n",
    "\n",
    "df_cluster_label.head()"
   ]
  },
  {
   "cell_type": "code",
   "execution_count": 37,
   "id": "portable-little",
   "metadata": {},
   "outputs": [
    {
     "name": "stdout",
     "output_type": "stream",
     "text": [
      "label\n",
      "Bad             9326\n",
      "Good           10869\n",
      "Mediocre       22836\n",
      "No Response    15772\n",
      "bad             1980\n",
      "good            1376\n",
      "dtype: int64\n"
     ]
    },
    {
     "data": {
      "image/png": "[encoded data removed]",
      "text/plain": [
       "<Figure size 432x288 with 1 Axes>"
      ]
     },
     "metadata": {
      "needs_background": "light"
     },
     "output_type": "display_data"
    }
   ],
   "source": [
    "## Check if number of labels in each category is similar or not\n",
    "print(df_cluster_label.groupby(['label']).size())\n",
    "ax = df_cluster_label.groupby(['label']).size().plot(kind = 'bar')\n"
   ]
  },
  {
   "cell_type": "code",
   "execution_count": 38,
   "id": "palestinian-composition",
   "metadata": {},
   "outputs": [],
   "source": [
    "# seems the lables are not propery labeled"
   ]
  },
  {
   "cell_type": "code",
   "execution_count": 39,
   "id": "current-plymouth",
   "metadata": {},
   "outputs": [
    {
     "data": {
      "text/html": [
       "<div>\n",
       "<style scoped>\n",
       "    .dataframe tbody tr th:only-of-type {\n",
       "        vertical-align: middle;\n",
       "    }\n",
       "\n",
       "    .dataframe tbody tr th {\n",
       "        vertical-align: top;\n",
       "    }\n",
       "\n",
       "    .dataframe thead th {\n",
       "        text-align: right;\n",
       "    }\n",
       "</style>\n",
       "<table border=\"1\" class=\"dataframe\">\n",
       "  <thead>\n",
       "    <tr style=\"text-align: right;\">\n",
       "      <th></th>\n",
       "      <th>cell</th>\n",
       "      <th>drug</th>\n",
       "      <th>min_conc</th>\n",
       "      <th>max_conc</th>\n",
       "      <th>min_norm_intensity</th>\n",
       "      <th>max_norm_intensity</th>\n",
       "      <th>mean_sd</th>\n",
       "      <th>convergence</th>\n",
       "      <th>upper_limit</th>\n",
       "      <th>IC50</th>\n",
       "      <th>slope</th>\n",
       "      <th>lower_limit</th>\n",
       "      <th>cluster</th>\n",
       "      <th>label</th>\n",
       "      <th>updated_label</th>\n",
       "    </tr>\n",
       "  </thead>\n",
       "  <tbody>\n",
       "    <tr>\n",
       "      <th>0</th>\n",
       "      <td>8570</td>\n",
       "      <td>1034</td>\n",
       "      <td>0.007812</td>\n",
       "      <td>2.0</td>\n",
       "      <td>0.074097</td>\n",
       "      <td>0.664380</td>\n",
       "      <td>0.044709</td>\n",
       "      <td>True</td>\n",
       "      <td>0.901533</td>\n",
       "      <td>0.010218</td>\n",
       "      <td>-2.155016</td>\n",
       "      <td>0.152275</td>\n",
       "      <td>12</td>\n",
       "      <td>Mediocre</td>\n",
       "      <td>Mediocre</td>\n",
       "    </tr>\n",
       "    <tr>\n",
       "      <th>1</th>\n",
       "      <td>8570</td>\n",
       "      <td>1034</td>\n",
       "      <td>0.007812</td>\n",
       "      <td>2.0</td>\n",
       "      <td>0.087338</td>\n",
       "      <td>0.672330</td>\n",
       "      <td>0.040231</td>\n",
       "      <td>True</td>\n",
       "      <td>1.610422</td>\n",
       "      <td>0.005150</td>\n",
       "      <td>-1.883030</td>\n",
       "      <td>0.167002</td>\n",
       "      <td>12</td>\n",
       "      <td>Mediocre</td>\n",
       "      <td>Mediocre</td>\n",
       "    </tr>\n",
       "    <tr>\n",
       "      <th>2</th>\n",
       "      <td>8570</td>\n",
       "      <td>1034</td>\n",
       "      <td>0.007812</td>\n",
       "      <td>2.0</td>\n",
       "      <td>0.068806</td>\n",
       "      <td>0.717342</td>\n",
       "      <td>0.050703</td>\n",
       "      <td>True</td>\n",
       "      <td>14.883637</td>\n",
       "      <td>0.000010</td>\n",
       "      <td>-0.010746</td>\n",
       "      <td>-12.938230</td>\n",
       "      <td>29</td>\n",
       "      <td>Bad</td>\n",
       "      <td>Bad</td>\n",
       "    </tr>\n",
       "    <tr>\n",
       "      <th>3</th>\n",
       "      <td>8570</td>\n",
       "      <td>1034</td>\n",
       "      <td>0.007812</td>\n",
       "      <td>2.0</td>\n",
       "      <td>0.071687</td>\n",
       "      <td>0.569093</td>\n",
       "      <td>0.038261</td>\n",
       "      <td>True</td>\n",
       "      <td>0.744103</td>\n",
       "      <td>0.011272</td>\n",
       "      <td>-1.882265</td>\n",
       "      <td>0.129222</td>\n",
       "      <td>12</td>\n",
       "      <td>Mediocre</td>\n",
       "      <td>Mediocre</td>\n",
       "    </tr>\n",
       "    <tr>\n",
       "      <th>4</th>\n",
       "      <td>8570</td>\n",
       "      <td>1034</td>\n",
       "      <td>0.007812</td>\n",
       "      <td>2.0</td>\n",
       "      <td>0.058225</td>\n",
       "      <td>0.714683</td>\n",
       "      <td>0.055069</td>\n",
       "      <td>True</td>\n",
       "      <td>0.654130</td>\n",
       "      <td>0.026046</td>\n",
       "      <td>-6.163449</td>\n",
       "      <td>0.129686</td>\n",
       "      <td>19</td>\n",
       "      <td>Mediocre</td>\n",
       "      <td>Mediocre</td>\n",
       "    </tr>\n",
       "  </tbody>\n",
       "</table>\n",
       "</div>"
      ],
      "text/plain": [
       "   cell  drug  min_conc  max_conc  min_norm_intensity  max_norm_intensity  \\\n",
       "0  8570  1034  0.007812       2.0            0.074097            0.664380   \n",
       "1  8570  1034  0.007812       2.0            0.087338            0.672330   \n",
       "2  8570  1034  0.007812       2.0            0.068806            0.717342   \n",
       "3  8570  1034  0.007812       2.0            0.071687            0.569093   \n",
       "4  8570  1034  0.007812       2.0            0.058225            0.714683   \n",
       "\n",
       "    mean_sd  convergence  upper_limit      IC50     slope  lower_limit  \\\n",
       "0  0.044709         True     0.901533  0.010218 -2.155016     0.152275   \n",
       "1  0.040231         True     1.610422  0.005150 -1.883030     0.167002   \n",
       "2  0.050703         True    14.883637  0.000010 -0.010746   -12.938230   \n",
       "3  0.038261         True     0.744103  0.011272 -1.882265     0.129222   \n",
       "4  0.055069         True     0.654130  0.026046 -6.163449     0.129686   \n",
       "\n",
       "   cluster     label updated_label  \n",
       "0       12  Mediocre      Mediocre  \n",
       "1       12  Mediocre      Mediocre  \n",
       "2       29       Bad           Bad  \n",
       "3       12  Mediocre      Mediocre  \n",
       "4       19  Mediocre      Mediocre  "
      ]
     },
     "execution_count": 39,
     "metadata": {},
     "output_type": "execute_result"
    }
   ],
   "source": [
    "# create a list of our conditions for proper labels for supervised learning and features selection\n",
    "\n",
    "conditions = [(df_cluster_label['label'] == 'Mediocre'),\n",
    "    (df_cluster_label['label'] == 'Bad'), (df_cluster_label['label'] == 'No Response'), (df_cluster_label['label']== 'Good'),\n",
    "             (df_cluster_label['label']== 'bad'), (df_cluster_label['label']== 'good')]\n",
    "\n",
    "# create a list of the values we want to assign for each condition\n",
    "#values = ['2', '0', '3', '1', '0', '1']\n",
    "values = ['Mediocre', 'Bad', 'No Response', 'Good', 'Bad', 'Good']\n",
    "# create a new column and use np.select to assign values to it using our lists as arguments\n",
    "df_cluster_label['updated_label'] = np.select(conditions, values)\n",
    "df_cluster_label\n",
    "# display updated DataFrame\n",
    "df_cluster_label.head()"
   ]
  },
  {
   "cell_type": "code",
   "execution_count": 40,
   "id": "limited-allergy",
   "metadata": {},
   "outputs": [
    {
     "data": {
      "text/html": [
       "<div>\n",
       "<style scoped>\n",
       "    .dataframe tbody tr th:only-of-type {\n",
       "        vertical-align: middle;\n",
       "    }\n",
       "\n",
       "    .dataframe tbody tr th {\n",
       "        vertical-align: top;\n",
       "    }\n",
       "\n",
       "    .dataframe thead th {\n",
       "        text-align: right;\n",
       "    }\n",
       "</style>\n",
       "<table border=\"1\" class=\"dataframe\">\n",
       "  <thead>\n",
       "    <tr style=\"text-align: right;\">\n",
       "      <th></th>\n",
       "      <th>cell</th>\n",
       "      <th>drug</th>\n",
       "      <th>min_conc</th>\n",
       "      <th>max_conc</th>\n",
       "      <th>min_norm_intensity</th>\n",
       "      <th>max_norm_intensity</th>\n",
       "      <th>mean_sd</th>\n",
       "      <th>convergence</th>\n",
       "      <th>upper_limit</th>\n",
       "      <th>IC50</th>\n",
       "      <th>slope</th>\n",
       "      <th>lower_limit</th>\n",
       "      <th>cluster</th>\n",
       "      <th>label</th>\n",
       "      <th>updated_label</th>\n",
       "    </tr>\n",
       "  </thead>\n",
       "  <tbody>\n",
       "    <tr>\n",
       "      <th>0</th>\n",
       "      <td>8570</td>\n",
       "      <td>1034</td>\n",
       "      <td>0.007812</td>\n",
       "      <td>2.0</td>\n",
       "      <td>0.074097</td>\n",
       "      <td>0.664380</td>\n",
       "      <td>0.044709</td>\n",
       "      <td>True</td>\n",
       "      <td>0.901533</td>\n",
       "      <td>0.010218</td>\n",
       "      <td>-2.155016</td>\n",
       "      <td>0.152275</td>\n",
       "      <td>12</td>\n",
       "      <td>Mediocre</td>\n",
       "      <td>Mediocre</td>\n",
       "    </tr>\n",
       "    <tr>\n",
       "      <th>1</th>\n",
       "      <td>8570</td>\n",
       "      <td>1034</td>\n",
       "      <td>0.007812</td>\n",
       "      <td>2.0</td>\n",
       "      <td>0.087338</td>\n",
       "      <td>0.672330</td>\n",
       "      <td>0.040231</td>\n",
       "      <td>True</td>\n",
       "      <td>1.610422</td>\n",
       "      <td>0.005150</td>\n",
       "      <td>-1.883030</td>\n",
       "      <td>0.167002</td>\n",
       "      <td>12</td>\n",
       "      <td>Mediocre</td>\n",
       "      <td>Mediocre</td>\n",
       "    </tr>\n",
       "    <tr>\n",
       "      <th>2</th>\n",
       "      <td>8570</td>\n",
       "      <td>1034</td>\n",
       "      <td>0.007812</td>\n",
       "      <td>2.0</td>\n",
       "      <td>0.068806</td>\n",
       "      <td>0.717342</td>\n",
       "      <td>0.050703</td>\n",
       "      <td>True</td>\n",
       "      <td>14.883637</td>\n",
       "      <td>0.000010</td>\n",
       "      <td>-0.010746</td>\n",
       "      <td>-12.938230</td>\n",
       "      <td>29</td>\n",
       "      <td>Bad</td>\n",
       "      <td>Bad</td>\n",
       "    </tr>\n",
       "    <tr>\n",
       "      <th>3</th>\n",
       "      <td>8570</td>\n",
       "      <td>1034</td>\n",
       "      <td>0.007812</td>\n",
       "      <td>2.0</td>\n",
       "      <td>0.071687</td>\n",
       "      <td>0.569093</td>\n",
       "      <td>0.038261</td>\n",
       "      <td>True</td>\n",
       "      <td>0.744103</td>\n",
       "      <td>0.011272</td>\n",
       "      <td>-1.882265</td>\n",
       "      <td>0.129222</td>\n",
       "      <td>12</td>\n",
       "      <td>Mediocre</td>\n",
       "      <td>Mediocre</td>\n",
       "    </tr>\n",
       "    <tr>\n",
       "      <th>4</th>\n",
       "      <td>8570</td>\n",
       "      <td>1034</td>\n",
       "      <td>0.007812</td>\n",
       "      <td>2.0</td>\n",
       "      <td>0.058225</td>\n",
       "      <td>0.714683</td>\n",
       "      <td>0.055069</td>\n",
       "      <td>True</td>\n",
       "      <td>0.654130</td>\n",
       "      <td>0.026046</td>\n",
       "      <td>-6.163449</td>\n",
       "      <td>0.129686</td>\n",
       "      <td>19</td>\n",
       "      <td>Mediocre</td>\n",
       "      <td>Mediocre</td>\n",
       "    </tr>\n",
       "  </tbody>\n",
       "</table>\n",
       "</div>"
      ],
      "text/plain": [
       "   cell  drug  min_conc  max_conc  min_norm_intensity  max_norm_intensity  \\\n",
       "0  8570  1034  0.007812       2.0            0.074097            0.664380   \n",
       "1  8570  1034  0.007812       2.0            0.087338            0.672330   \n",
       "2  8570  1034  0.007812       2.0            0.068806            0.717342   \n",
       "3  8570  1034  0.007812       2.0            0.071687            0.569093   \n",
       "4  8570  1034  0.007812       2.0            0.058225            0.714683   \n",
       "\n",
       "    mean_sd  convergence  upper_limit      IC50     slope  lower_limit  \\\n",
       "0  0.044709         True     0.901533  0.010218 -2.155016     0.152275   \n",
       "1  0.040231         True     1.610422  0.005150 -1.883030     0.167002   \n",
       "2  0.050703         True    14.883637  0.000010 -0.010746   -12.938230   \n",
       "3  0.038261         True     0.744103  0.011272 -1.882265     0.129222   \n",
       "4  0.055069         True     0.654130  0.026046 -6.163449     0.129686   \n",
       "\n",
       "   cluster     label updated_label  \n",
       "0       12  Mediocre      Mediocre  \n",
       "1       12  Mediocre      Mediocre  \n",
       "2       29       Bad           Bad  \n",
       "3       12  Mediocre      Mediocre  \n",
       "4       19  Mediocre      Mediocre  "
      ]
     },
     "execution_count": 40,
     "metadata": {},
     "output_type": "execute_result"
    }
   ],
   "source": [
    "df_cluster_label.head()"
   ]
  },
  {
   "cell_type": "code",
   "execution_count": 41,
   "id": "through-chicken",
   "metadata": {},
   "outputs": [
    {
     "data": {
      "text/html": [
       "<div>\n",
       "<style scoped>\n",
       "    .dataframe tbody tr th:only-of-type {\n",
       "        vertical-align: middle;\n",
       "    }\n",
       "\n",
       "    .dataframe tbody tr th {\n",
       "        vertical-align: top;\n",
       "    }\n",
       "\n",
       "    .dataframe thead th {\n",
       "        text-align: right;\n",
       "    }\n",
       "</style>\n",
       "<table border=\"1\" class=\"dataframe\">\n",
       "  <thead>\n",
       "    <tr style=\"text-align: right;\">\n",
       "      <th></th>\n",
       "      <th>cell</th>\n",
       "      <th>drug</th>\n",
       "      <th>min_conc</th>\n",
       "      <th>max_conc</th>\n",
       "      <th>min_norm_intensity</th>\n",
       "      <th>max_norm_intensity</th>\n",
       "      <th>mean_sd</th>\n",
       "      <th>convergence</th>\n",
       "      <th>upper_limit</th>\n",
       "      <th>IC50</th>\n",
       "      <th>slope</th>\n",
       "      <th>lower_limit</th>\n",
       "      <th>cluster</th>\n",
       "      <th>label</th>\n",
       "      <th>updated_label</th>\n",
       "    </tr>\n",
       "  </thead>\n",
       "  <tbody>\n",
       "    <tr>\n",
       "      <th>0</th>\n",
       "      <td>8570</td>\n",
       "      <td>1034</td>\n",
       "      <td>0.007812</td>\n",
       "      <td>2.0</td>\n",
       "      <td>0.074097</td>\n",
       "      <td>0.664380</td>\n",
       "      <td>0.044709</td>\n",
       "      <td>True</td>\n",
       "      <td>0.901533</td>\n",
       "      <td>0.010218</td>\n",
       "      <td>-2.155016</td>\n",
       "      <td>0.152275</td>\n",
       "      <td>12</td>\n",
       "      <td>Mediocre</td>\n",
       "      <td>Mediocre</td>\n",
       "    </tr>\n",
       "    <tr>\n",
       "      <th>1</th>\n",
       "      <td>8570</td>\n",
       "      <td>1034</td>\n",
       "      <td>0.007812</td>\n",
       "      <td>2.0</td>\n",
       "      <td>0.087338</td>\n",
       "      <td>0.672330</td>\n",
       "      <td>0.040231</td>\n",
       "      <td>True</td>\n",
       "      <td>1.610422</td>\n",
       "      <td>0.005150</td>\n",
       "      <td>-1.883030</td>\n",
       "      <td>0.167002</td>\n",
       "      <td>12</td>\n",
       "      <td>Mediocre</td>\n",
       "      <td>Mediocre</td>\n",
       "    </tr>\n",
       "    <tr>\n",
       "      <th>2</th>\n",
       "      <td>8570</td>\n",
       "      <td>1034</td>\n",
       "      <td>0.007812</td>\n",
       "      <td>2.0</td>\n",
       "      <td>0.068806</td>\n",
       "      <td>0.717342</td>\n",
       "      <td>0.050703</td>\n",
       "      <td>True</td>\n",
       "      <td>14.883637</td>\n",
       "      <td>0.000010</td>\n",
       "      <td>-0.010746</td>\n",
       "      <td>-12.938230</td>\n",
       "      <td>29</td>\n",
       "      <td>Bad</td>\n",
       "      <td>Bad</td>\n",
       "    </tr>\n",
       "    <tr>\n",
       "      <th>3</th>\n",
       "      <td>8570</td>\n",
       "      <td>1034</td>\n",
       "      <td>0.007812</td>\n",
       "      <td>2.0</td>\n",
       "      <td>0.071687</td>\n",
       "      <td>0.569093</td>\n",
       "      <td>0.038261</td>\n",
       "      <td>True</td>\n",
       "      <td>0.744103</td>\n",
       "      <td>0.011272</td>\n",
       "      <td>-1.882265</td>\n",
       "      <td>0.129222</td>\n",
       "      <td>12</td>\n",
       "      <td>Mediocre</td>\n",
       "      <td>Mediocre</td>\n",
       "    </tr>\n",
       "    <tr>\n",
       "      <th>4</th>\n",
       "      <td>8570</td>\n",
       "      <td>1034</td>\n",
       "      <td>0.007812</td>\n",
       "      <td>2.0</td>\n",
       "      <td>0.058225</td>\n",
       "      <td>0.714683</td>\n",
       "      <td>0.055069</td>\n",
       "      <td>True</td>\n",
       "      <td>0.654130</td>\n",
       "      <td>0.026046</td>\n",
       "      <td>-6.163449</td>\n",
       "      <td>0.129686</td>\n",
       "      <td>19</td>\n",
       "      <td>Mediocre</td>\n",
       "      <td>Mediocre</td>\n",
       "    </tr>\n",
       "  </tbody>\n",
       "</table>\n",
       "</div>"
      ],
      "text/plain": [
       "   cell  drug  min_conc  max_conc  min_norm_intensity  max_norm_intensity  \\\n",
       "0  8570  1034  0.007812       2.0            0.074097            0.664380   \n",
       "1  8570  1034  0.007812       2.0            0.087338            0.672330   \n",
       "2  8570  1034  0.007812       2.0            0.068806            0.717342   \n",
       "3  8570  1034  0.007812       2.0            0.071687            0.569093   \n",
       "4  8570  1034  0.007812       2.0            0.058225            0.714683   \n",
       "\n",
       "    mean_sd  convergence  upper_limit      IC50     slope  lower_limit  \\\n",
       "0  0.044709         True     0.901533  0.010218 -2.155016     0.152275   \n",
       "1  0.040231         True     1.610422  0.005150 -1.883030     0.167002   \n",
       "2  0.050703         True    14.883637  0.000010 -0.010746   -12.938230   \n",
       "3  0.038261         True     0.744103  0.011272 -1.882265     0.129222   \n",
       "4  0.055069         True     0.654130  0.026046 -6.163449     0.129686   \n",
       "\n",
       "   cluster     label updated_label  \n",
       "0       12  Mediocre      Mediocre  \n",
       "1       12  Mediocre      Mediocre  \n",
       "2       29       Bad           Bad  \n",
       "3       12  Mediocre      Mediocre  \n",
       "4       19  Mediocre      Mediocre  "
      ]
     },
     "execution_count": 41,
     "metadata": {},
     "output_type": "execute_result"
    }
   ],
   "source": [
    "# name dataframe future non_normalized supervised learning\n",
    "non_narmalized_df = df_cluster_label.copy()\n",
    "non_narmalized_df.head()"
   ]
  },
  {
   "cell_type": "code",
   "execution_count": 138,
   "id": "facial-sound",
   "metadata": {},
   "outputs": [
    {
     "name": "stdout",
     "output_type": "stream",
     "text": [
      "updated_label\n",
      "Bad            11306\n",
      "Good           12245\n",
      "Mediocre       22836\n",
      "No Response    15772\n",
      "dtype: int64\n"
     ]
    },
    {
     "data": {
      "text/plain": [
       "Text(0.5, 1.0, 'Cluster Label')"
      ]
     },
     "execution_count": 138,
     "metadata": {},
     "output_type": "execute_result"
    },
    {
     "data": {
      "image/png": "[encoded data removed]",
      "text/plain": [
       "<Figure size 640x480 with 1 Axes>"
      ]
     },
     "metadata": {},
     "output_type": "display_data"
    }
   ],
   "source": [
    "## Check if number of labels in each category is similar after proper labelling\n",
    "\n",
    "print(df_cluster_label.groupby(['updated_label']).size())\n",
    "ax = df_cluster_label.groupby(['updated_label']).size().plot(kind = 'bar')\n",
    "ax.set(xlabel=None)\n",
    "plt.title(\"Cluster Label\", fontsize = 22)"
   ]
  },
  {
   "cell_type": "code",
   "execution_count": 134,
   "id": "dedicated-highlight",
   "metadata": {},
   "outputs": [
    {
     "data": {
      "text/html": [
       "<div>\n",
       "<style scoped>\n",
       "    .dataframe tbody tr th:only-of-type {\n",
       "        vertical-align: middle;\n",
       "    }\n",
       "\n",
       "    .dataframe tbody tr th {\n",
       "        vertical-align: top;\n",
       "    }\n",
       "\n",
       "    .dataframe thead th {\n",
       "        text-align: right;\n",
       "    }\n",
       "</style>\n",
       "<table border=\"1\" class=\"dataframe\">\n",
       "  <thead>\n",
       "    <tr style=\"text-align: right;\">\n",
       "      <th></th>\n",
       "      <th>cell</th>\n",
       "      <th>drug</th>\n",
       "      <th>min_conc</th>\n",
       "      <th>max_conc</th>\n",
       "      <th>min_norm_intensity</th>\n",
       "      <th>max_norm_intensity</th>\n",
       "      <th>mean_sd</th>\n",
       "      <th>convergence</th>\n",
       "      <th>upper_limit</th>\n",
       "      <th>IC50</th>\n",
       "      <th>slope</th>\n",
       "      <th>lower_limit</th>\n",
       "      <th>cluster</th>\n",
       "      <th>label</th>\n",
       "      <th>updated_label</th>\n",
       "    </tr>\n",
       "  </thead>\n",
       "  <tbody>\n",
       "    <tr>\n",
       "      <th>0</th>\n",
       "      <td>8570</td>\n",
       "      <td>1034</td>\n",
       "      <td>0.007812</td>\n",
       "      <td>2.0</td>\n",
       "      <td>0.074097</td>\n",
       "      <td>0.664380</td>\n",
       "      <td>0.044709</td>\n",
       "      <td>True</td>\n",
       "      <td>0.901533</td>\n",
       "      <td>0.010218</td>\n",
       "      <td>-2.155016</td>\n",
       "      <td>0.152275</td>\n",
       "      <td>12</td>\n",
       "      <td>Mediocre</td>\n",
       "      <td>Mediocre</td>\n",
       "    </tr>\n",
       "    <tr>\n",
       "      <th>1</th>\n",
       "      <td>8570</td>\n",
       "      <td>1034</td>\n",
       "      <td>0.007812</td>\n",
       "      <td>2.0</td>\n",
       "      <td>0.087338</td>\n",
       "      <td>0.672330</td>\n",
       "      <td>0.040231</td>\n",
       "      <td>True</td>\n",
       "      <td>1.610422</td>\n",
       "      <td>0.005150</td>\n",
       "      <td>-1.883030</td>\n",
       "      <td>0.167002</td>\n",
       "      <td>12</td>\n",
       "      <td>Mediocre</td>\n",
       "      <td>Mediocre</td>\n",
       "    </tr>\n",
       "    <tr>\n",
       "      <th>2</th>\n",
       "      <td>8570</td>\n",
       "      <td>1034</td>\n",
       "      <td>0.007812</td>\n",
       "      <td>2.0</td>\n",
       "      <td>0.068806</td>\n",
       "      <td>0.717342</td>\n",
       "      <td>0.050703</td>\n",
       "      <td>True</td>\n",
       "      <td>14.883637</td>\n",
       "      <td>0.000010</td>\n",
       "      <td>-0.010746</td>\n",
       "      <td>-12.938230</td>\n",
       "      <td>29</td>\n",
       "      <td>Bad</td>\n",
       "      <td>Bad</td>\n",
       "    </tr>\n",
       "    <tr>\n",
       "      <th>3</th>\n",
       "      <td>8570</td>\n",
       "      <td>1034</td>\n",
       "      <td>0.007812</td>\n",
       "      <td>2.0</td>\n",
       "      <td>0.071687</td>\n",
       "      <td>0.569093</td>\n",
       "      <td>0.038261</td>\n",
       "      <td>True</td>\n",
       "      <td>0.744103</td>\n",
       "      <td>0.011272</td>\n",
       "      <td>-1.882265</td>\n",
       "      <td>0.129222</td>\n",
       "      <td>12</td>\n",
       "      <td>Mediocre</td>\n",
       "      <td>Mediocre</td>\n",
       "    </tr>\n",
       "    <tr>\n",
       "      <th>4</th>\n",
       "      <td>8570</td>\n",
       "      <td>1034</td>\n",
       "      <td>0.007812</td>\n",
       "      <td>2.0</td>\n",
       "      <td>0.058225</td>\n",
       "      <td>0.714683</td>\n",
       "      <td>0.055069</td>\n",
       "      <td>True</td>\n",
       "      <td>0.654130</td>\n",
       "      <td>0.026046</td>\n",
       "      <td>-6.163449</td>\n",
       "      <td>0.129686</td>\n",
       "      <td>19</td>\n",
       "      <td>Mediocre</td>\n",
       "      <td>Mediocre</td>\n",
       "    </tr>\n",
       "  </tbody>\n",
       "</table>\n",
       "</div>"
      ],
      "text/plain": [
       "   cell  drug  min_conc  max_conc  min_norm_intensity  max_norm_intensity  \\\n",
       "0  8570  1034  0.007812       2.0            0.074097            0.664380   \n",
       "1  8570  1034  0.007812       2.0            0.087338            0.672330   \n",
       "2  8570  1034  0.007812       2.0            0.068806            0.717342   \n",
       "3  8570  1034  0.007812       2.0            0.071687            0.569093   \n",
       "4  8570  1034  0.007812       2.0            0.058225            0.714683   \n",
       "\n",
       "    mean_sd  convergence  upper_limit      IC50     slope  lower_limit  \\\n",
       "0  0.044709         True     0.901533  0.010218 -2.155016     0.152275   \n",
       "1  0.040231         True     1.610422  0.005150 -1.883030     0.167002   \n",
       "2  0.050703         True    14.883637  0.000010 -0.010746   -12.938230   \n",
       "3  0.038261         True     0.744103  0.011272 -1.882265     0.129222   \n",
       "4  0.055069         True     0.654130  0.026046 -6.163449     0.129686   \n",
       "\n",
       "   cluster     label updated_label  \n",
       "0       12  Mediocre      Mediocre  \n",
       "1       12  Mediocre      Mediocre  \n",
       "2       29       Bad           Bad  \n",
       "3       12  Mediocre      Mediocre  \n",
       "4       19  Mediocre      Mediocre  "
      ]
     },
     "execution_count": 134,
     "metadata": {},
     "output_type": "execute_result"
    }
   ],
   "source": [
    "#non-normalized data frame\n",
    "\n",
    "non_narmalized_df = df_cluster_label.copy()\n",
    "non_narmalized_df.head()"
   ]
  },
  {
   "cell_type": "markdown",
   "id": "varying-occasion",
   "metadata": {},
   "source": [
    "## Model check with all features and non_normalized data"
   ]
  },
  {
   "cell_type": "code",
   "execution_count": 44,
   "id": "defensive-ribbon",
   "metadata": {},
   "outputs": [
    {
     "data": {
      "text/html": [
       "<div>\n",
       "<style scoped>\n",
       "    .dataframe tbody tr th:only-of-type {\n",
       "        vertical-align: middle;\n",
       "    }\n",
       "\n",
       "    .dataframe tbody tr th {\n",
       "        vertical-align: top;\n",
       "    }\n",
       "\n",
       "    .dataframe thead th {\n",
       "        text-align: right;\n",
       "    }\n",
       "</style>\n",
       "<table border=\"1\" class=\"dataframe\">\n",
       "  <thead>\n",
       "    <tr style=\"text-align: right;\">\n",
       "      <th></th>\n",
       "      <th>cell</th>\n",
       "      <th>drug</th>\n",
       "      <th>min_conc</th>\n",
       "      <th>max_conc</th>\n",
       "      <th>min_norm_intensity</th>\n",
       "      <th>max_norm_intensity</th>\n",
       "      <th>mean_sd</th>\n",
       "      <th>convergence</th>\n",
       "      <th>upper_limit</th>\n",
       "      <th>IC50</th>\n",
       "      <th>slope</th>\n",
       "      <th>lower_limit</th>\n",
       "      <th>cluster</th>\n",
       "      <th>label</th>\n",
       "      <th>updated_label</th>\n",
       "    </tr>\n",
       "  </thead>\n",
       "  <tbody>\n",
       "    <tr>\n",
       "      <th>0</th>\n",
       "      <td>8570</td>\n",
       "      <td>1034</td>\n",
       "      <td>0.007812</td>\n",
       "      <td>2.0</td>\n",
       "      <td>0.074097</td>\n",
       "      <td>0.664380</td>\n",
       "      <td>0.044709</td>\n",
       "      <td>True</td>\n",
       "      <td>0.901533</td>\n",
       "      <td>0.010218</td>\n",
       "      <td>-2.155016</td>\n",
       "      <td>0.152275</td>\n",
       "      <td>12</td>\n",
       "      <td>Mediocre</td>\n",
       "      <td>Mediocre</td>\n",
       "    </tr>\n",
       "    <tr>\n",
       "      <th>1</th>\n",
       "      <td>8570</td>\n",
       "      <td>1034</td>\n",
       "      <td>0.007812</td>\n",
       "      <td>2.0</td>\n",
       "      <td>0.087338</td>\n",
       "      <td>0.672330</td>\n",
       "      <td>0.040231</td>\n",
       "      <td>True</td>\n",
       "      <td>1.610422</td>\n",
       "      <td>0.005150</td>\n",
       "      <td>-1.883030</td>\n",
       "      <td>0.167002</td>\n",
       "      <td>12</td>\n",
       "      <td>Mediocre</td>\n",
       "      <td>Mediocre</td>\n",
       "    </tr>\n",
       "    <tr>\n",
       "      <th>2</th>\n",
       "      <td>8570</td>\n",
       "      <td>1034</td>\n",
       "      <td>0.007812</td>\n",
       "      <td>2.0</td>\n",
       "      <td>0.068806</td>\n",
       "      <td>0.717342</td>\n",
       "      <td>0.050703</td>\n",
       "      <td>True</td>\n",
       "      <td>14.883637</td>\n",
       "      <td>0.000010</td>\n",
       "      <td>-0.010746</td>\n",
       "      <td>-12.938230</td>\n",
       "      <td>29</td>\n",
       "      <td>Bad</td>\n",
       "      <td>Bad</td>\n",
       "    </tr>\n",
       "    <tr>\n",
       "      <th>3</th>\n",
       "      <td>8570</td>\n",
       "      <td>1034</td>\n",
       "      <td>0.007812</td>\n",
       "      <td>2.0</td>\n",
       "      <td>0.071687</td>\n",
       "      <td>0.569093</td>\n",
       "      <td>0.038261</td>\n",
       "      <td>True</td>\n",
       "      <td>0.744103</td>\n",
       "      <td>0.011272</td>\n",
       "      <td>-1.882265</td>\n",
       "      <td>0.129222</td>\n",
       "      <td>12</td>\n",
       "      <td>Mediocre</td>\n",
       "      <td>Mediocre</td>\n",
       "    </tr>\n",
       "    <tr>\n",
       "      <th>4</th>\n",
       "      <td>8570</td>\n",
       "      <td>1034</td>\n",
       "      <td>0.007812</td>\n",
       "      <td>2.0</td>\n",
       "      <td>0.058225</td>\n",
       "      <td>0.714683</td>\n",
       "      <td>0.055069</td>\n",
       "      <td>True</td>\n",
       "      <td>0.654130</td>\n",
       "      <td>0.026046</td>\n",
       "      <td>-6.163449</td>\n",
       "      <td>0.129686</td>\n",
       "      <td>19</td>\n",
       "      <td>Mediocre</td>\n",
       "      <td>Mediocre</td>\n",
       "    </tr>\n",
       "  </tbody>\n",
       "</table>\n",
       "</div>"
      ],
      "text/plain": [
       "   cell  drug  min_conc  max_conc  min_norm_intensity  max_norm_intensity  \\\n",
       "0  8570  1034  0.007812       2.0            0.074097            0.664380   \n",
       "1  8570  1034  0.007812       2.0            0.087338            0.672330   \n",
       "2  8570  1034  0.007812       2.0            0.068806            0.717342   \n",
       "3  8570  1034  0.007812       2.0            0.071687            0.569093   \n",
       "4  8570  1034  0.007812       2.0            0.058225            0.714683   \n",
       "\n",
       "    mean_sd  convergence  upper_limit      IC50     slope  lower_limit  \\\n",
       "0  0.044709         True     0.901533  0.010218 -2.155016     0.152275   \n",
       "1  0.040231         True     1.610422  0.005150 -1.883030     0.167002   \n",
       "2  0.050703         True    14.883637  0.000010 -0.010746   -12.938230   \n",
       "3  0.038261         True     0.744103  0.011272 -1.882265     0.129222   \n",
       "4  0.055069         True     0.654130  0.026046 -6.163449     0.129686   \n",
       "\n",
       "   cluster     label updated_label  \n",
       "0       12  Mediocre      Mediocre  \n",
       "1       12  Mediocre      Mediocre  \n",
       "2       29       Bad           Bad  \n",
       "3       12  Mediocre      Mediocre  \n",
       "4       19  Mediocre      Mediocre  "
      ]
     },
     "execution_count": 44,
     "metadata": {},
     "output_type": "execute_result"
    }
   ],
   "source": [
    "#check the dataframe\n",
    "\n",
    "non_narmalized_df.head()"
   ]
  },
  {
   "cell_type": "code",
   "execution_count": 45,
   "id": "permanent-hawaiian",
   "metadata": {
    "scrolled": true
   },
   "outputs": [
    {
     "data": {
      "text/html": [
       "<div>\n",
       "<style scoped>\n",
       "    .dataframe tbody tr th:only-of-type {\n",
       "        vertical-align: middle;\n",
       "    }\n",
       "\n",
       "    .dataframe tbody tr th {\n",
       "        vertical-align: top;\n",
       "    }\n",
       "\n",
       "    .dataframe thead th {\n",
       "        text-align: right;\n",
       "    }\n",
       "</style>\n",
       "<table border=\"1\" class=\"dataframe\">\n",
       "  <thead>\n",
       "    <tr style=\"text-align: right;\">\n",
       "      <th></th>\n",
       "      <th>cell</th>\n",
       "      <th>drug</th>\n",
       "      <th>min_conc</th>\n",
       "      <th>max_conc</th>\n",
       "      <th>min_norm_intensity</th>\n",
       "      <th>max_norm_intensity</th>\n",
       "      <th>mean_sd</th>\n",
       "      <th>convergence</th>\n",
       "      <th>upper_limit</th>\n",
       "      <th>IC50</th>\n",
       "      <th>slope</th>\n",
       "      <th>lower_limit</th>\n",
       "      <th>cluster</th>\n",
       "      <th>label</th>\n",
       "      <th>updated_label</th>\n",
       "    </tr>\n",
       "  </thead>\n",
       "  <tbody>\n",
       "    <tr>\n",
       "      <th>0</th>\n",
       "      <td>8570</td>\n",
       "      <td>1034</td>\n",
       "      <td>0.007812</td>\n",
       "      <td>2.0</td>\n",
       "      <td>0.074097</td>\n",
       "      <td>0.664380</td>\n",
       "      <td>0.044709</td>\n",
       "      <td>1</td>\n",
       "      <td>0.901533</td>\n",
       "      <td>0.010218</td>\n",
       "      <td>-2.155016</td>\n",
       "      <td>0.152275</td>\n",
       "      <td>12</td>\n",
       "      <td>Mediocre</td>\n",
       "      <td>Mediocre</td>\n",
       "    </tr>\n",
       "    <tr>\n",
       "      <th>1</th>\n",
       "      <td>8570</td>\n",
       "      <td>1034</td>\n",
       "      <td>0.007812</td>\n",
       "      <td>2.0</td>\n",
       "      <td>0.087338</td>\n",
       "      <td>0.672330</td>\n",
       "      <td>0.040231</td>\n",
       "      <td>1</td>\n",
       "      <td>1.610422</td>\n",
       "      <td>0.005150</td>\n",
       "      <td>-1.883030</td>\n",
       "      <td>0.167002</td>\n",
       "      <td>12</td>\n",
       "      <td>Mediocre</td>\n",
       "      <td>Mediocre</td>\n",
       "    </tr>\n",
       "    <tr>\n",
       "      <th>2</th>\n",
       "      <td>8570</td>\n",
       "      <td>1034</td>\n",
       "      <td>0.007812</td>\n",
       "      <td>2.0</td>\n",
       "      <td>0.068806</td>\n",
       "      <td>0.717342</td>\n",
       "      <td>0.050703</td>\n",
       "      <td>1</td>\n",
       "      <td>14.883637</td>\n",
       "      <td>0.000010</td>\n",
       "      <td>-0.010746</td>\n",
       "      <td>-12.938230</td>\n",
       "      <td>29</td>\n",
       "      <td>Bad</td>\n",
       "      <td>Bad</td>\n",
       "    </tr>\n",
       "    <tr>\n",
       "      <th>3</th>\n",
       "      <td>8570</td>\n",
       "      <td>1034</td>\n",
       "      <td>0.007812</td>\n",
       "      <td>2.0</td>\n",
       "      <td>0.071687</td>\n",
       "      <td>0.569093</td>\n",
       "      <td>0.038261</td>\n",
       "      <td>1</td>\n",
       "      <td>0.744103</td>\n",
       "      <td>0.011272</td>\n",
       "      <td>-1.882265</td>\n",
       "      <td>0.129222</td>\n",
       "      <td>12</td>\n",
       "      <td>Mediocre</td>\n",
       "      <td>Mediocre</td>\n",
       "    </tr>\n",
       "    <tr>\n",
       "      <th>4</th>\n",
       "      <td>8570</td>\n",
       "      <td>1034</td>\n",
       "      <td>0.007812</td>\n",
       "      <td>2.0</td>\n",
       "      <td>0.058225</td>\n",
       "      <td>0.714683</td>\n",
       "      <td>0.055069</td>\n",
       "      <td>1</td>\n",
       "      <td>0.654130</td>\n",
       "      <td>0.026046</td>\n",
       "      <td>-6.163449</td>\n",
       "      <td>0.129686</td>\n",
       "      <td>19</td>\n",
       "      <td>Mediocre</td>\n",
       "      <td>Mediocre</td>\n",
       "    </tr>\n",
       "  </tbody>\n",
       "</table>\n",
       "</div>"
      ],
      "text/plain": [
       "   cell  drug  min_conc  max_conc  min_norm_intensity  max_norm_intensity  \\\n",
       "0  8570  1034  0.007812       2.0            0.074097            0.664380   \n",
       "1  8570  1034  0.007812       2.0            0.087338            0.672330   \n",
       "2  8570  1034  0.007812       2.0            0.068806            0.717342   \n",
       "3  8570  1034  0.007812       2.0            0.071687            0.569093   \n",
       "4  8570  1034  0.007812       2.0            0.058225            0.714683   \n",
       "\n",
       "    mean_sd  convergence  upper_limit      IC50     slope  lower_limit  \\\n",
       "0  0.044709            1     0.901533  0.010218 -2.155016     0.152275   \n",
       "1  0.040231            1     1.610422  0.005150 -1.883030     0.167002   \n",
       "2  0.050703            1    14.883637  0.000010 -0.010746   -12.938230   \n",
       "3  0.038261            1     0.744103  0.011272 -1.882265     0.129222   \n",
       "4  0.055069            1     0.654130  0.026046 -6.163449     0.129686   \n",
       "\n",
       "   cluster     label updated_label  \n",
       "0       12  Mediocre      Mediocre  \n",
       "1       12  Mediocre      Mediocre  \n",
       "2       29       Bad           Bad  \n",
       "3       12  Mediocre      Mediocre  \n",
       "4       19  Mediocre      Mediocre  "
      ]
     },
     "execution_count": 45,
     "metadata": {},
     "output_type": "execute_result"
    }
   ],
   "source": [
    "# convert the boolean value to binary value\n",
    "\n",
    "non_narmalized_df['convergence'] = np.where(non_narmalized_df['convergence']==True, 1, 0)\n",
    "non_narmalized_df.head()"
   ]
  },
  {
   "cell_type": "code",
   "execution_count": 46,
   "id": "charged-witness",
   "metadata": {},
   "outputs": [
    {
     "data": {
      "text/html": [
       "<div>\n",
       "<style scoped>\n",
       "    .dataframe tbody tr th:only-of-type {\n",
       "        vertical-align: middle;\n",
       "    }\n",
       "\n",
       "    .dataframe tbody tr th {\n",
       "        vertical-align: top;\n",
       "    }\n",
       "\n",
       "    .dataframe thead th {\n",
       "        text-align: right;\n",
       "    }\n",
       "</style>\n",
       "<table border=\"1\" class=\"dataframe\">\n",
       "  <thead>\n",
       "    <tr style=\"text-align: right;\">\n",
       "      <th></th>\n",
       "      <th>cell</th>\n",
       "      <th>drug</th>\n",
       "      <th>min_conc</th>\n",
       "      <th>max_conc</th>\n",
       "      <th>min_norm_intensity</th>\n",
       "      <th>max_norm_intensity</th>\n",
       "      <th>mean_sd</th>\n",
       "      <th>convergence</th>\n",
       "      <th>upper_limit</th>\n",
       "      <th>IC50</th>\n",
       "      <th>slope</th>\n",
       "      <th>lower_limit</th>\n",
       "      <th>cluster</th>\n",
       "      <th>label</th>\n",
       "      <th>updated_label</th>\n",
       "    </tr>\n",
       "  </thead>\n",
       "  <tbody>\n",
       "    <tr>\n",
       "      <th>0</th>\n",
       "      <td>8570</td>\n",
       "      <td>1034</td>\n",
       "      <td>0.007812</td>\n",
       "      <td>2.0</td>\n",
       "      <td>0.074097</td>\n",
       "      <td>0.664380</td>\n",
       "      <td>0.044709</td>\n",
       "      <td>1</td>\n",
       "      <td>0.901533</td>\n",
       "      <td>0.010218</td>\n",
       "      <td>-2.155016</td>\n",
       "      <td>0.152275</td>\n",
       "      <td>12</td>\n",
       "      <td>Mediocre</td>\n",
       "      <td>Mediocre</td>\n",
       "    </tr>\n",
       "    <tr>\n",
       "      <th>1</th>\n",
       "      <td>8570</td>\n",
       "      <td>1034</td>\n",
       "      <td>0.007812</td>\n",
       "      <td>2.0</td>\n",
       "      <td>0.087338</td>\n",
       "      <td>0.672330</td>\n",
       "      <td>0.040231</td>\n",
       "      <td>1</td>\n",
       "      <td>1.610422</td>\n",
       "      <td>0.005150</td>\n",
       "      <td>-1.883030</td>\n",
       "      <td>0.167002</td>\n",
       "      <td>12</td>\n",
       "      <td>Mediocre</td>\n",
       "      <td>Mediocre</td>\n",
       "    </tr>\n",
       "    <tr>\n",
       "      <th>2</th>\n",
       "      <td>8570</td>\n",
       "      <td>1034</td>\n",
       "      <td>0.007812</td>\n",
       "      <td>2.0</td>\n",
       "      <td>0.068806</td>\n",
       "      <td>0.717342</td>\n",
       "      <td>0.050703</td>\n",
       "      <td>1</td>\n",
       "      <td>14.883637</td>\n",
       "      <td>0.000010</td>\n",
       "      <td>-0.010746</td>\n",
       "      <td>-12.938230</td>\n",
       "      <td>29</td>\n",
       "      <td>Bad</td>\n",
       "      <td>Bad</td>\n",
       "    </tr>\n",
       "    <tr>\n",
       "      <th>3</th>\n",
       "      <td>8570</td>\n",
       "      <td>1034</td>\n",
       "      <td>0.007812</td>\n",
       "      <td>2.0</td>\n",
       "      <td>0.071687</td>\n",
       "      <td>0.569093</td>\n",
       "      <td>0.038261</td>\n",
       "      <td>1</td>\n",
       "      <td>0.744103</td>\n",
       "      <td>0.011272</td>\n",
       "      <td>-1.882265</td>\n",
       "      <td>0.129222</td>\n",
       "      <td>12</td>\n",
       "      <td>Mediocre</td>\n",
       "      <td>Mediocre</td>\n",
       "    </tr>\n",
       "    <tr>\n",
       "      <th>4</th>\n",
       "      <td>8570</td>\n",
       "      <td>1034</td>\n",
       "      <td>0.007812</td>\n",
       "      <td>2.0</td>\n",
       "      <td>0.058225</td>\n",
       "      <td>0.714683</td>\n",
       "      <td>0.055069</td>\n",
       "      <td>1</td>\n",
       "      <td>0.654130</td>\n",
       "      <td>0.026046</td>\n",
       "      <td>-6.163449</td>\n",
       "      <td>0.129686</td>\n",
       "      <td>19</td>\n",
       "      <td>Mediocre</td>\n",
       "      <td>Mediocre</td>\n",
       "    </tr>\n",
       "  </tbody>\n",
       "</table>\n",
       "</div>"
      ],
      "text/plain": [
       "   cell  drug  min_conc  max_conc  min_norm_intensity  max_norm_intensity  \\\n",
       "0  8570  1034  0.007812       2.0            0.074097            0.664380   \n",
       "1  8570  1034  0.007812       2.0            0.087338            0.672330   \n",
       "2  8570  1034  0.007812       2.0            0.068806            0.717342   \n",
       "3  8570  1034  0.007812       2.0            0.071687            0.569093   \n",
       "4  8570  1034  0.007812       2.0            0.058225            0.714683   \n",
       "\n",
       "    mean_sd  convergence  upper_limit      IC50     slope  lower_limit  \\\n",
       "0  0.044709            1     0.901533  0.010218 -2.155016     0.152275   \n",
       "1  0.040231            1     1.610422  0.005150 -1.883030     0.167002   \n",
       "2  0.050703            1    14.883637  0.000010 -0.010746   -12.938230   \n",
       "3  0.038261            1     0.744103  0.011272 -1.882265     0.129222   \n",
       "4  0.055069            1     0.654130  0.026046 -6.163449     0.129686   \n",
       "\n",
       "   cluster     label updated_label  \n",
       "0       12  Mediocre      Mediocre  \n",
       "1       12  Mediocre      Mediocre  \n",
       "2       29       Bad           Bad  \n",
       "3       12  Mediocre      Mediocre  \n",
       "4       19  Mediocre      Mediocre  "
      ]
     },
     "execution_count": 46,
     "metadata": {},
     "output_type": "execute_result"
    }
   ],
   "source": [
    "# convert IC50 to meaning values set as some of them very high variability on the data\n",
    "\n",
    "non_narmalized_df['IC50'] = non_narmalized_df['IC50'].where(non_narmalized_df['IC50']<30, 30)\n",
    "non_narmalized_df['IC50'] = non_narmalized_df['IC50'].where(non_narmalized_df['IC50']>0.0000001, 0)\n",
    "non_narmalized_df.head()"
   ]
  },
  {
   "cell_type": "code",
   "execution_count": 47,
   "id": "chief-rapid",
   "metadata": {},
   "outputs": [
    {
     "name": "stdout",
     "output_type": "stream",
     "text": [
      "Test set is 18648 items and train set is 43511 items large.\n"
     ]
    }
   ],
   "source": [
    "import sklearn\n",
    "from sklearn.model_selection import train_test_split\n",
    "from sklearn.linear_model import LinearRegression\n",
    "from sklearn.metrics import roc_auc_score\n",
    "\n",
    "\n",
    "\n",
    "test_size = 0.3\n",
    "X_train, X_test, y_train, y_test = train_test_split(non_narmalized_df[non_narmalized_df.columns[:-3]], \n",
    "                                                    non_narmalized_df['updated_label'],\n",
    "                                                    stratify=non_narmalized_df['updated_label'], test_size = test_size)\n",
    "# Now let's see what we're working with\n",
    "print(f\"Test set is {len(X_test)} items and train set is {len(X_train)} items large.\")"
   ]
  },
  {
   "cell_type": "code",
   "execution_count": 48,
   "id": "tutorial-peninsula",
   "metadata": {},
   "outputs": [
    {
     "data": {
      "text/plain": [
       "1.0"
      ]
     },
     "execution_count": 48,
     "metadata": {},
     "output_type": "execute_result"
    }
   ],
   "source": [
    "# basic descision tree classifier\n",
    "from sklearn.tree import DecisionTreeClassifier\n",
    "\n",
    "\n",
    "dt_clf = DecisionTreeClassifier(random_state=1000).fit(X_train, y_train)\n",
    "#  fit the training data\n",
    "\n",
    "dt_clf.score(X_train,y_train)"
   ]
  },
  {
   "cell_type": "code",
   "execution_count": 143,
   "id": "headed-ethics",
   "metadata": {
    "scrolled": true
   },
   "outputs": [
    {
     "data": {
      "text/plain": [
       "0.8626680326431285"
      ]
     },
     "execution_count": 143,
     "metadata": {},
     "output_type": "execute_result"
    },
    {
     "data": {
      "image/png": "[encoded data removed]",
      "text/plain": [
       "<Figure size 640x480 with 2 Axes>"
      ]
     },
     "metadata": {},
     "output_type": "display_data"
    }
   ],
   "source": [
    "# interested in our test set, so let's bring in the confusion matrix functions and ROC/AUC\n",
    "from sklearn.metrics import confusion_matrix, ConfusionMatrixDisplay, roc_auc_score\n",
    "\n",
    "# Now let's predict on the hold out test set\n",
    "predictions = dt_clf.predict(X_test)\n",
    "# And let's render that for analysis as a confusion matrix\n",
    "cm = confusion_matrix(y_test, predictions, labels=dt_clf.classes_)\n",
    "disp = ConfusionMatrixDisplay(confusion_matrix=cm, display_labels=dt_clf.classes_)\n",
    "disp.plot()\n",
    "plt.title(\"Decision Tree Confusion Matrix\", fontsize = 18)\n",
    "plt.xlabel('Predicted label', fontsize=18)\n",
    "plt.ylabel('True label', fontsize=18)\n",
    "\n",
    "plt.xticks(rotation = 90)\n",
    "# And we'll generate our AUC curve data\n",
    "roc_auc_score(y_test, dt_clf.predict_proba(X_test), multi_class='ovr')\n"
   ]
  },
  {
   "cell_type": "code",
   "execution_count": 59,
   "id": "simple-leone",
   "metadata": {},
   "outputs": [],
   "source": [
    "from sklearn.metrics import f1_score, balanced_accuracy_score, accuracy_score, make_scorer\n",
    "from sklearn.metrics import precision_score\n",
    "from sklearn.metrics import recall_score\n",
    "\n",
    "# make predictions for DecisionTree\n",
    "\n",
    "y_pred = dt_clf.predict(X_test)\n"
   ]
  },
  {
   "cell_type": "code",
   "execution_count": 60,
   "id": "developmental-proposal",
   "metadata": {},
   "outputs": [
    {
     "data": {
      "text/plain": [
       "0.7997104247104247"
      ]
     },
     "execution_count": 60,
     "metadata": {},
     "output_type": "execute_result"
    }
   ],
   "source": [
    "#accuracy score without balanced\n",
    "accuracy_score(y_test, y_pred)"
   ]
  },
  {
   "cell_type": "code",
   "execution_count": 61,
   "id": "synthetic-accommodation",
   "metadata": {},
   "outputs": [
    {
     "data": {
      "text/plain": [
       "0.7943207862686972"
      ]
     },
     "execution_count": 61,
     "metadata": {},
     "output_type": "execute_result"
    }
   ],
   "source": [
    "# balanced accuracy score for DecisionTree\n",
    "\n",
    "balanced_accuracy_score(y_test, y_pred)"
   ]
  },
  {
   "cell_type": "code",
   "execution_count": 62,
   "id": "preceding-delay",
   "metadata": {},
   "outputs": [
    {
     "data": {
      "text/plain": [
       "0.7997326474719106"
      ]
     },
     "execution_count": 62,
     "metadata": {},
     "output_type": "execute_result"
    }
   ],
   "source": [
    "#precision_score weighted\n",
    "precision_score(y_test, y_pred, average='weighted')"
   ]
  },
  {
   "cell_type": "code",
   "execution_count": 63,
   "id": "pregnant-affairs",
   "metadata": {},
   "outputs": [
    {
     "data": {
      "text/plain": [
       "0.7997104247104247"
      ]
     },
     "execution_count": 63,
     "metadata": {},
     "output_type": "execute_result"
    }
   ],
   "source": [
    "#recall_score weighted\n",
    "recall_score(y_test, y_pred, average='weighted')"
   ]
  },
  {
   "cell_type": "code",
   "execution_count": 64,
   "id": "defined-sharing",
   "metadata": {},
   "outputs": [
    {
     "data": {
      "text/plain": [
       "0.7997193706626994"
      ]
     },
     "execution_count": 64,
     "metadata": {},
     "output_type": "execute_result"
    }
   ],
   "source": [
    "# f1 score for DecisionTree\n",
    "f1_score(y_test, y_pred, average='weighted')"
   ]
  },
  {
   "cell_type": "code",
   "execution_count": 65,
   "id": "angry-flexibility",
   "metadata": {},
   "outputs": [],
   "source": [
    "# Now, let's create our training and validation sets. \n",
    "test_size = 0.3\n",
    "\n",
    "X_train, X_val, y_train, y_val = train_test_split(non_narmalized_df[non_narmalized_df.columns[:-3]],\n",
    "                                                  non_narmalized_df['updated_label'],\n",
    "                                                  test_size = test_size,\n",
    "                                                  random_state=1000, \n",
    "                                                  stratify=non_narmalized_df['updated_label'])\n",
    "#fill missing values with the mean.\n",
    "# (a) choosing the mean is an arbitrary choice on my part! It might not make sense always!\n",
    "# (b) you *must* do this *after* you split your training/validation sets, these two\n",
    "# datasets must be treated as independent\n",
    "X_train=X_train.fillna(X_train.mean())\n",
    "X_val=X_val.fillna(X_val.mean())"
   ]
  },
  {
   "cell_type": "code",
   "execution_count": 66,
   "id": "leading-radar",
   "metadata": {},
   "outputs": [
    {
     "data": {
      "text/plain": [
       "Mediocre       6851\n",
       "No Response    4732\n",
       "Good           3673\n",
       "Bad            3392\n",
       "Name: updated_label, dtype: int64"
      ]
     },
     "execution_count": 66,
     "metadata": {},
     "output_type": "execute_result"
    }
   ],
   "source": [
    "#check the value counts of labels\n",
    "y_val.value_counts()"
   ]
  },
  {
   "cell_type": "code",
   "execution_count": 67,
   "id": "fifty-venezuela",
   "metadata": {},
   "outputs": [],
   "source": [
    "# import our ensemble classifier\n",
    "from sklearn.ensemble import VotingClassifier\n",
    "\n",
    "#dictionary of classifiers to use\n",
    "clfs={}\n",
    "\n",
    "# create a couple of different of descision trees\n",
    "from sklearn.tree import DecisionTreeClassifier\n",
    "\n",
    "# - one which has only a depth of 3\n",
    "clfs[\"dt0\"]=DecisionTreeClassifier(max_depth=3, random_state=1000)\n",
    "# - one which requires there to be at least 7 samples at each leaf\n",
    "clfs[\"dt1\"]=DecisionTreeClassifier(min_samples_leaf=7, random_state=1000)\n",
    "# - and one which balances the classes since we have unbalanced data\n",
    "clfs[\"dt2\"]=DecisionTreeClassifier(class_weight=\"balanced\", random_state=1000)"
   ]
  },
  {
   "cell_type": "code",
   "execution_count": 68,
   "id": "recovered-daily",
   "metadata": {},
   "outputs": [
    {
     "data": {
      "text/plain": [
       "VotingClassifier(estimators=dict_items([('dt0', DecisionTreeClassifier(max_depth=3, random_state=1000)), ('dt1', DecisionTreeClassifier(min_samples_leaf=7, random_state=1000)), ('dt2', DecisionTreeClassifier(class_weight='balanced', random_state=1000))]),\n",
       "                 n_jobs=-1)"
      ]
     },
     "execution_count": 68,
     "metadata": {},
     "output_type": "execute_result"
    }
   ],
   "source": [
    "\n",
    "# voting ensembles, can do work in parallel. Here I'm setting the n_jobs\n",
    "# parameter to -1, which tells the classifier to use all system CPUs\n",
    "voters=VotingClassifier(estimators=clfs.items(), n_jobs=-1)\n",
    "\n",
    "# fit the data\n",
    "voters.fit(X_train,y_train)"
   ]
  },
  {
   "cell_type": "code",
   "execution_count": 69,
   "id": "common-liabilities",
   "metadata": {},
   "outputs": [
    {
     "data": {
      "text/plain": [
       "0.944404863138057"
      ]
     },
     "execution_count": 69,
     "metadata": {},
     "output_type": "execute_result"
    }
   ],
   "source": [
    "# voters variable is this collection of three different \n",
    "# models which have been trained on this dataset\n",
    "# look at the accuracy or other evaluation measures\n",
    "voters.score(X_train, y_train)"
   ]
  },
  {
   "cell_type": "code",
   "execution_count": 70,
   "id": "speaking-canon",
   "metadata": {},
   "outputs": [
    {
     "data": {
      "text/plain": [
       "0.8253432003432003"
      ]
     },
     "execution_count": 70,
     "metadata": {},
     "output_type": "execute_result"
    }
   ],
   "source": [
    "# performance in our validation dataset\n",
    "\n",
    "voters.score(X_val, y_val)"
   ]
  },
  {
   "cell_type": "code",
   "execution_count": 71,
   "id": "affiliated-custody",
   "metadata": {},
   "outputs": [],
   "source": [
    "# make predictions for VotingClassifier with DT\n",
    "\n",
    "y_pred = voters.predict(X_val)\n"
   ]
  },
  {
   "cell_type": "code",
   "execution_count": 72,
   "id": "automated-tower",
   "metadata": {},
   "outputs": [
    {
     "data": {
      "text/plain": [
       "0.8253432003432003"
      ]
     },
     "execution_count": 72,
     "metadata": {},
     "output_type": "execute_result"
    }
   ],
   "source": [
    "#accuracy score without balanced\n",
    "accuracy_score(y_val, y_pred)"
   ]
  },
  {
   "cell_type": "code",
   "execution_count": 73,
   "id": "dedicated-latest",
   "metadata": {},
   "outputs": [
    {
     "data": {
      "text/plain": [
       "0.8142691181093824"
      ]
     },
     "execution_count": 73,
     "metadata": {},
     "output_type": "execute_result"
    }
   ],
   "source": [
    "# balanced accuracy score for VotingClassifier with DT\n",
    "\n",
    "balanced_accuracy_score(y_val, y_pred)"
   ]
  },
  {
   "cell_type": "code",
   "execution_count": 74,
   "id": "general-discharge",
   "metadata": {},
   "outputs": [
    {
     "data": {
      "text/plain": [
       "0.8267325254600244"
      ]
     },
     "execution_count": 74,
     "metadata": {},
     "output_type": "execute_result"
    }
   ],
   "source": [
    "#precision_score weighted\n",
    "precision_score(y_val, y_pred, average='weighted')\n"
   ]
  },
  {
   "cell_type": "code",
   "execution_count": 75,
   "id": "lucky-occupation",
   "metadata": {},
   "outputs": [
    {
     "data": {
      "text/plain": [
       "0.8253760462502436"
      ]
     },
     "execution_count": 75,
     "metadata": {},
     "output_type": "execute_result"
    }
   ],
   "source": [
    "# f1 score for VotingTree with DT\n",
    "\n",
    "f1_score(y_val, y_pred, average='weighted')"
   ]
  },
  {
   "cell_type": "code",
   "execution_count": 76,
   "id": "hearing-assurance",
   "metadata": {},
   "outputs": [
    {
     "data": {
      "text/plain": [
       "0.8253432003432003"
      ]
     },
     "execution_count": 76,
     "metadata": {},
     "output_type": "execute_result"
    }
   ],
   "source": [
    "#recall_score weighted\n",
    "recall_score(y_val, y_pred, average='weighted')"
   ]
  },
  {
   "cell_type": "code",
   "execution_count": 77,
   "id": "interpreted-alias",
   "metadata": {
    "scrolled": true
   },
   "outputs": [
    {
     "data": {
      "text/plain": [
       "BaggingClassifier(base_estimator=DecisionTreeClassifier(max_depth=3,\n",
       "                                                        random_state=1000),\n",
       "                  max_features=0.7, n_jobs=-1, random_state=1000)"
      ]
     },
     "execution_count": 77,
     "metadata": {},
     "output_type": "execute_result"
    }
   ],
   "source": [
    "from sklearn.ensemble import BaggingClassifier\n",
    "\n",
    "# descision trees. We can set how many classifiers we want the bagger\n",
    "# using the n_estimators parameter. \n",
    "\n",
    "bagger=BaggingClassifier(base_estimator=clfs[\"dt0\"],\n",
    "                        n_estimators=10,\n",
    "                        max_features=0.7,\n",
    "                        n_jobs=-1,\n",
    "                        random_state=1000)\n",
    "bagger.fit(X_train,y_train)"
   ]
  },
  {
   "cell_type": "code",
   "execution_count": 78,
   "id": "educational-mason",
   "metadata": {},
   "outputs": [
    {
     "data": {
      "text/plain": [
       "[DecisionTreeClassifier(max_depth=3, random_state=1970544363),\n",
       " DecisionTreeClassifier(max_depth=3, random_state=1077348022),\n",
       " DecisionTreeClassifier(max_depth=3, random_state=473922508),\n",
       " DecisionTreeClassifier(max_depth=3, random_state=2113565594),\n",
       " DecisionTreeClassifier(max_depth=3, random_state=1173624936),\n",
       " DecisionTreeClassifier(max_depth=3, random_state=1474976016),\n",
       " DecisionTreeClassifier(max_depth=3, random_state=1528487102),\n",
       " DecisionTreeClassifier(max_depth=3, random_state=1071226617),\n",
       " DecisionTreeClassifier(max_depth=3, random_state=499256588),\n",
       " DecisionTreeClassifier(max_depth=3, random_state=906594506)]"
      ]
     },
     "execution_count": 78,
     "metadata": {},
     "output_type": "execute_result"
    }
   ],
   "source": [
    "# With the bagger and the voter we can actually explore the individual models \n",
    "\n",
    "bagger.estimators_"
   ]
  },
  {
   "cell_type": "code",
   "execution_count": 79,
   "id": "supreme-withdrawal",
   "metadata": {},
   "outputs": [
    {
     "data": {
      "image/png": "[encoded data removed]",
      "text/plain": [
       "<Figure size 1440x720 with 1 Axes>"
      ]
     },
     "metadata": {
      "needs_background": "light"
     },
     "output_type": "display_data"
    }
   ],
   "source": [
    "\n",
    "# all just regular descision trees underneath\n",
    "# plotting them\n",
    "\n",
    "# tree plotting functionality\n",
    "from sklearn.tree import plot_tree\n",
    "# Create a new figure\n",
    "fig= plt.figure(figsize=(20,10))\n",
    "# And now take a look at that first tree\n",
    "plot_tree(bagger.estimators_[0], \n",
    "          feature_names=X_train.columns, \n",
    "          class_names=np.unique(y_train.astype(str)));\n",
    "\n",
    "#  save the output to a file\n",
    "\n",
    "plt.savefig('tree.svg',bbox_inches = \"tight\")"
   ]
  },
  {
   "cell_type": "code",
   "execution_count": 80,
   "id": "precise-bedroom",
   "metadata": {},
   "outputs": [
    {
     "data": {
      "text/plain": [
       "0.7307807221162465"
      ]
     },
     "execution_count": 80,
     "metadata": {},
     "output_type": "execute_result"
    }
   ],
   "source": [
    "# bagger both on training data\n",
    "bagger.score(X_train, y_train)"
   ]
  },
  {
   "cell_type": "code",
   "execution_count": 81,
   "id": "reverse-caribbean",
   "metadata": {},
   "outputs": [
    {
     "data": {
      "text/plain": [
       "0.7313921063921064"
      ]
     },
     "execution_count": 81,
     "metadata": {},
     "output_type": "execute_result"
    }
   ],
   "source": [
    "# validation data\n",
    "bagger.score(X_val, y_val)"
   ]
  },
  {
   "cell_type": "code",
   "execution_count": 82,
   "id": "tracked-spanish",
   "metadata": {},
   "outputs": [
    {
     "data": {
      "text/plain": [
       "GradientBoostingClassifier(max_depth=5, min_samples_leaf=7, random_state=1000)"
      ]
     },
     "execution_count": 82,
     "metadata": {},
     "output_type": "execute_result"
    }
   ],
   "source": [
    "from sklearn.ensemble import GradientBoostingClassifier\n",
    "\n",
    "# select various tree parameters. \n",
    "# multiple boosters and ensemble them together\n",
    "booster=GradientBoostingClassifier(min_samples_leaf=7, \n",
    "                                   max_depth=5, \n",
    "                                   n_estimators=100, \n",
    "                                   random_state=1000)\n",
    "\n",
    "booster.fit(X_train,y_train)"
   ]
  },
  {
   "cell_type": "code",
   "execution_count": 83,
   "id": "friendly-country",
   "metadata": {},
   "outputs": [
    {
     "data": {
      "text/plain": [
       "100"
      ]
     },
     "execution_count": 83,
     "metadata": {},
     "output_type": "execute_result"
    }
   ],
   "source": [
    "# see how many models it\n",
    "# ended up generating\n",
    "booster.n_estimators"
   ]
  },
  {
   "cell_type": "code",
   "execution_count": 84,
   "id": "daily-leisure",
   "metadata": {},
   "outputs": [
    {
     "data": {
      "text/plain": [
       "0.9012893291351612"
      ]
     },
     "execution_count": 84,
     "metadata": {},
     "output_type": "execute_result"
    }
   ],
   "source": [
    "# the score on the training set\n",
    "booster.score(X_train, y_train)"
   ]
  },
  {
   "cell_type": "code",
   "execution_count": 85,
   "id": "accessory-medline",
   "metadata": {},
   "outputs": [
    {
     "data": {
      "text/plain": [
       "0.7313921063921064"
      ]
     },
     "execution_count": 85,
     "metadata": {},
     "output_type": "execute_result"
    }
   ],
   "source": [
    "# validation data\n",
    "bagger.score(X_val, y_val)"
   ]
  },
  {
   "cell_type": "code",
   "execution_count": 86,
   "id": "billion-wesley",
   "metadata": {},
   "outputs": [
    {
     "data": {
      "text/plain": [
       "StackingClassifier(cv=5,\n",
       "                   estimators=dict_items([('dt0', DecisionTreeClassifier(max_depth=3, random_state=1000)), ('dt1', DecisionTreeClassifier(min_samples_leaf=7, random_state=1000)), ('dt2', DecisionTreeClassifier(class_weight='balanced', random_state=1000))]),\n",
       "                   final_estimator=LogisticRegression(max_iter=1000,\n",
       "                                                      random_state=1000),\n",
       "                   n_jobs=-1)"
      ]
     },
     "execution_count": 86,
     "metadata": {},
     "output_type": "execute_result"
    }
   ],
   "source": [
    "\n",
    "from sklearn.ensemble import StackingClassifier\n",
    "\n",
    "# LogisticRegression\n",
    "from sklearn.linear_model import LogisticRegression\n",
    "stacker=StackingClassifier(estimators=clfs.items(), \n",
    "                           final_estimator=LogisticRegression(max_iter=1000,random_state=1000), \n",
    "                           cv=5, \n",
    "                           n_jobs=-1)\n",
    "stacker.fit(X_train,y_train)"
   ]
  },
  {
   "cell_type": "code",
   "execution_count": 87,
   "id": "geological-webcam",
   "metadata": {},
   "outputs": [
    {
     "data": {
      "text/plain": [
       "0.9499666750936545"
      ]
     },
     "execution_count": 87,
     "metadata": {},
     "output_type": "execute_result"
    }
   ],
   "source": [
    "# scores to consider\n",
    "stacker.score(X_train, y_train)"
   ]
  },
  {
   "cell_type": "code",
   "execution_count": 88,
   "id": "white-nudist",
   "metadata": {
    "scrolled": true
   },
   "outputs": [
    {
     "data": {
      "text/plain": [
       "0.8377305877305877"
      ]
     },
     "execution_count": 88,
     "metadata": {},
     "output_type": "execute_result"
    }
   ],
   "source": [
    "# validation scores to consider\n",
    "stacker.score(X_val, y_val)"
   ]
  },
  {
   "cell_type": "code",
   "execution_count": 89,
   "id": "invisible-storm",
   "metadata": {},
   "outputs": [],
   "source": [
    "# make predictions for StackingClassifier\n",
    "\n",
    "y_pred = stacker.predict(X_val)\n"
   ]
  },
  {
   "cell_type": "code",
   "execution_count": 90,
   "id": "potential-times",
   "metadata": {},
   "outputs": [
    {
     "data": {
      "text/plain": [
       "0.8377305877305877"
      ]
     },
     "execution_count": 90,
     "metadata": {},
     "output_type": "execute_result"
    }
   ],
   "source": [
    "#accuracy score without balanced\n",
    "accuracy_score(y_val, y_pred)"
   ]
  },
  {
   "cell_type": "code",
   "execution_count": 91,
   "id": "played-survey",
   "metadata": {},
   "outputs": [
    {
     "data": {
      "text/plain": [
       "0.8255279914218162"
      ]
     },
     "execution_count": 91,
     "metadata": {},
     "output_type": "execute_result"
    }
   ],
   "source": [
    "# balanced accuracy score for StackingClassifier \n",
    "balanced_accuracy_score(y_val, y_pred)\n"
   ]
  },
  {
   "cell_type": "code",
   "execution_count": 92,
   "id": "stone-appreciation",
   "metadata": {},
   "outputs": [
    {
     "data": {
      "text/plain": [
       "0.8369496699425049"
      ]
     },
     "execution_count": 92,
     "metadata": {},
     "output_type": "execute_result"
    }
   ],
   "source": [
    "# f1 score for Stacking\n",
    "\n",
    "f1_score(y_val, y_pred, average='weighted')"
   ]
  },
  {
   "cell_type": "code",
   "execution_count": 93,
   "id": "critical-organ",
   "metadata": {},
   "outputs": [
    {
     "data": {
      "text/plain": [
       "0.8377305877305877"
      ]
     },
     "execution_count": 93,
     "metadata": {},
     "output_type": "execute_result"
    }
   ],
   "source": [
    "#recall_score weighted\n",
    "recall_score(y_val, y_pred, average='weighted')\n"
   ]
  },
  {
   "cell_type": "code",
   "execution_count": 94,
   "id": "tropical-pollution",
   "metadata": {},
   "outputs": [
    {
     "data": {
      "text/plain": [
       "0.8375748719051861"
      ]
     },
     "execution_count": 94,
     "metadata": {},
     "output_type": "execute_result"
    }
   ],
   "source": [
    "#precision_score weighted\n",
    "precision_score(y_val, y_pred, average='weighted')"
   ]
  },
  {
   "cell_type": "code",
   "execution_count": 144,
   "id": "legitimate-bonus",
   "metadata": {
    "scrolled": true
   },
   "outputs": [
    {
     "data": {
      "text/plain": [
       "0.9568148228402766"
      ]
     },
     "execution_count": 144,
     "metadata": {},
     "output_type": "execute_result"
    },
    {
     "data": {
      "image/png": "[encoded data removed]",
      "text/plain": [
       "<Figure size 640x480 with 2 Axes>"
      ]
     },
     "metadata": {},
     "output_type": "display_data"
    }
   ],
   "source": [
    "# predict on the hold out test set\n",
    "predictions = stacker.predict(X_val)\n",
    "#analysis as a confusion matrix\n",
    "cm = confusion_matrix(y_val, predictions, labels=stacker.classes_)\n",
    "disp = ConfusionMatrixDisplay(confusion_matrix=cm, display_labels=stacker.classes_)\n",
    "disp.plot()\n",
    "plt.title(\"Stacking Classifier Confusion Matrix\", fontsize = 18)\n",
    "plt.xlabel('Predicted label', fontsize=18)\n",
    "plt.ylabel('True label', fontsize=18)\n",
    "\n",
    "plt.xticks(rotation = 90)\n",
    "#generate our AUC curve data\n",
    "roc_auc_score(y_val, stacker.predict_proba(X_val), multi_class='ovr')"
   ]
  },
  {
   "cell_type": "code",
   "execution_count": 96,
   "id": "backed-webster",
   "metadata": {},
   "outputs": [
    {
     "data": {
      "text/plain": [
       "Mediocre       6851\n",
       "No Response    4732\n",
       "Good           3673\n",
       "Bad            3392\n",
       "Name: updated_label, dtype: int64"
      ]
     },
     "execution_count": 96,
     "metadata": {},
     "output_type": "execute_result"
    }
   ],
   "source": [
    "y_val.value_counts()"
   ]
  },
  {
   "cell_type": "markdown",
   "id": "sunrise-grammar",
   "metadata": {},
   "source": [
    "## Hyperparameter tuning on ensemble methods"
   ]
  },
  {
   "cell_type": "markdown",
   "id": "blind-bibliography",
   "metadata": {},
   "source": [
    "## Source: https://www.kaggle.com/code/sigmaset/hyperparameter-tuning-ensemble-methods"
   ]
  },
  {
   "cell_type": "code",
   "execution_count": 97,
   "id": "under-lending",
   "metadata": {},
   "outputs": [],
   "source": [
    "\n",
    "import matplotlib.pyplot as plt; plt.rcdefaults()\n",
    "\n",
    "# Feature Engineering\n",
    "from sklearn.preprocessing import StandardScaler, LabelEncoder, OneHotEncoder\n",
    "from sklearn.pipeline import Pipeline\n",
    "from sklearn.impute import SimpleImputer\n",
    "from sklearn.compose import ColumnTransformer\n",
    "from sklearn.base import BaseEstimator, TransformerMixin\n",
    "from sklearn.model_selection import StratifiedShuffleSplit, train_test_split\n",
    "\n",
    "# Classification Models\n",
    "from sklearn.ensemble import RandomForestClassifier, ExtraTreesClassifier, VotingClassifier, AdaBoostClassifier, GradientBoostingClassifier\n",
    "from sklearn.tree import DecisionTreeClassifier\n",
    "from sklearn.linear_model import SGDClassifier, LogisticRegression\n",
    "from sklearn.svm import SVC, LinearSVC\n",
    "from sklearn.neighbors import KNeighborsClassifier\n",
    "\n",
    "# Hyperparameter Tuning\n",
    "from sklearn.model_selection import cross_val_score, GridSearchCV, RandomizedSearchCV, StratifiedKFold\n",
    "\n",
    "# Performance Measures\n",
    "#from sklearn.metrics import accuracy_score\n",
    "\n",
    "# Global Variables\n",
    "rnd_state = 42\n",
    "skfold = StratifiedKFold(n_splits=5)"
   ]
  },
  {
   "cell_type": "code",
   "execution_count": 98,
   "id": "armed-revision",
   "metadata": {},
   "outputs": [
    {
     "name": "stdout",
     "output_type": "stream",
     "text": [
      "CPU times: user 1.57 s, sys: 41 µs, total: 1.57 s\n",
      "Wall time: 1.57 s\n"
     ]
    },
    {
     "data": {
      "text/plain": [
       "LogisticRegression(random_state=42)"
      ]
     },
     "execution_count": 98,
     "metadata": {},
     "output_type": "execute_result"
    }
   ],
   "source": [
    "%%time\n",
    "#logistic regression\n",
    "log_clf = LogisticRegression(random_state=rnd_state, solver='lbfgs')\n",
    "log_clf.fit(X_train, y_train)"
   ]
  },
  {
   "cell_type": "code",
   "execution_count": 99,
   "id": "grand-spray",
   "metadata": {},
   "outputs": [],
   "source": [
    "log_pred = log_clf.predict(X_val)"
   ]
  },
  {
   "cell_type": "code",
   "execution_count": 100,
   "id": "active-momentum",
   "metadata": {},
   "outputs": [
    {
     "name": "stdout",
     "output_type": "stream",
     "text": [
      "CPU times: user 7.01 s, sys: 4.08 ms, total: 7.01 s\n",
      "Wall time: 7.01 s\n"
     ]
    },
    {
     "data": {
      "text/plain": [
       "0.3689943517945473"
      ]
     },
     "execution_count": 100,
     "metadata": {},
     "output_type": "execute_result"
    }
   ],
   "source": [
    "%%time\n",
    "#get cross_val_score\n",
    "log_cross_scores = cross_val_score(log_clf, X_train, y_train, cv=skfold, scoring=\"accuracy\")\n",
    "log_scores = (log_cross_scores.mean() + accuracy_score(log_pred, y_val))/2\n",
    "log_scores"
   ]
  },
  {
   "cell_type": "code",
   "execution_count": 101,
   "id": "advance-livestock",
   "metadata": {},
   "outputs": [
    {
     "name": "stdout",
     "output_type": "stream",
     "text": [
      "CV Accuracy (5-fold): [0.371 0.37  0.37  0.368 0.36 ]\n",
      "Mean CV Accuracy: 0.36797583357622454\n",
      "Test Accuracy: 0.37001287001287003\n",
      "CPU times: user 8.63 s, sys: 8.03 ms, total: 8.64 s\n",
      "Wall time: 8.64 s\n"
     ]
    }
   ],
   "source": [
    "%%time\n",
    "## five fold cross validation\n",
    "#Logistic Regression\n",
    "lr = LogisticRegression(penalty='l2', max_iter=100, C=1, random_state=42)\n",
    "lr.fit(X_train, y_train)\n",
    "lr_bow_cv_scores = cross_val_score(lr, X_train, y_train, cv=5)\n",
    "lr_bow_cv_mean_score = np.mean(lr_bow_cv_scores)\n",
    "print('CV Accuracy (5-fold):', lr_bow_cv_scores)\n",
    "print('Mean CV Accuracy:', lr_bow_cv_mean_score)\n",
    "lr_bow_test_score = lr.score(X_val, y_val)\n",
    "print('Test Accuracy:', lr_bow_test_score)\n",
    "\n"
   ]
  },
  {
   "cell_type": "code",
   "execution_count": 102,
   "id": "fatal-federation",
   "metadata": {
    "scrolled": true
   },
   "outputs": [
    {
     "name": "stdout",
     "output_type": "stream",
     "text": [
      "CPU times: user 622 ms, sys: 3.96 ms, total: 626 ms\n",
      "Wall time: 625 ms\n"
     ]
    },
    {
     "data": {
      "text/plain": [
       "SGDClassifier(eta0=0.1, max_iter=60, penalty=None, random_state=42)"
      ]
     },
     "execution_count": 102,
     "metadata": {},
     "output_type": "execute_result"
    }
   ],
   "source": [
    "%%time\n",
    "#SGD\n",
    "sgd_clf = SGDClassifier(max_iter=60, penalty = None, eta0=0.1, random_state=rnd_state, tol =1e-3)\n",
    "sgd_clf.fit(X_train, y_train)"
   ]
  },
  {
   "cell_type": "code",
   "execution_count": 103,
   "id": "elegant-cream",
   "metadata": {},
   "outputs": [
    {
     "name": "stdout",
     "output_type": "stream",
     "text": [
      "CPU times: user 2.87 s, sys: 0 ns, total: 2.87 s\n",
      "Wall time: 2.87 s\n"
     ]
    },
    {
     "data": {
      "text/plain": [
       "0.32571787530356827"
      ]
     },
     "execution_count": 103,
     "metadata": {},
     "output_type": "execute_result"
    }
   ],
   "source": [
    "%%time\n",
    "#get cross_val_score\n",
    "sgd_cross_scores = cross_val_score(sgd_clf, X_train, y_train, cv=skfold, scoring=\"accuracy\")\n",
    "sgd_pred = sgd_clf.predict(X_val)\n",
    "sgd_scores = (sgd_cross_scores.mean() + accuracy_score (sgd_pred, y_val))/2\n",
    "sgd_scores"
   ]
  },
  {
   "cell_type": "code",
   "execution_count": 104,
   "id": "objective-african",
   "metadata": {},
   "outputs": [
    {
     "name": "stdout",
     "output_type": "stream",
     "text": [
      "CPU times: user 6min, sys: 572 ms, total: 6min 1s\n",
      "Wall time: 6min 1s\n"
     ]
    },
    {
     "data": {
      "text/plain": [
       "SVC(gamma='auto')"
      ]
     },
     "execution_count": 104,
     "metadata": {},
     "output_type": "execute_result"
    }
   ],
   "source": [
    "%%time\n",
    "#svm\n",
    "svm_clf = SVC (gamma='auto')\n",
    "svm_clf.fit (X_train, y_train)"
   ]
  },
  {
   "cell_type": "code",
   "execution_count": 105,
   "id": "described-turning",
   "metadata": {},
   "outputs": [
    {
     "name": "stdout",
     "output_type": "stream",
     "text": [
      "CPU times: user 21min 13s, sys: 1.51 s, total: 21min 14s\n",
      "Wall time: 21min 14s\n"
     ]
    },
    {
     "data": {
      "text/plain": [
       "0.6057822426151973"
      ]
     },
     "execution_count": 105,
     "metadata": {},
     "output_type": "execute_result"
    }
   ],
   "source": [
    "%%time\n",
    "#get cross_val_score\n",
    "svm_cross_scores = cross_val_score(svm_clf, X_train, y_train, cv=skfold, scoring=\"accuracy\")\n",
    "svm_pred = svm_clf.predict(X_val)\n",
    "svm_scores = (svm_cross_scores.mean() + accuracy_score (svm_pred, y_val))/2\n",
    "svm_scores"
   ]
  },
  {
   "cell_type": "code",
   "execution_count": 106,
   "id": "rental-tutorial",
   "metadata": {},
   "outputs": [
    {
     "name": "stdout",
     "output_type": "stream",
     "text": [
      "CPU times: user 5.1 s, sys: 4.01 ms, total: 5.1 s\n",
      "Wall time: 5.1 s\n"
     ]
    },
    {
     "data": {
      "text/plain": [
       "0.6035262020015819"
      ]
     },
     "execution_count": 106,
     "metadata": {},
     "output_type": "execute_result"
    }
   ],
   "source": [
    "%%time\n",
    "#KNN\n",
    "knn_clf = KNeighborsClassifier()\n",
    "knn_clf.fit(X_train, y_train) \n",
    "#get cross_val_score_\n",
    "knn_cross_scores = cross_val_score(knn_clf, X_train, y_train, cv=skfold, scoring=\"accuracy\")\n",
    "knn_pred = knn_clf.predict(X_val)\n",
    "knn_scores = (knn_cross_scores.mean() + accuracy_score (knn_pred,  y_val))/2\n",
    "knn_scores"
   ]
  },
  {
   "cell_type": "code",
   "execution_count": 107,
   "id": "fundamental-mounting",
   "metadata": {},
   "outputs": [
    {
     "name": "stdout",
     "output_type": "stream",
     "text": [
      "Fitting 5 folds for each of 6 candidates, totalling 30 fits\n",
      "CPU times: user 612 ms, sys: 108 ms, total: 720 ms\n",
      "Wall time: 6.18 s\n"
     ]
    },
    {
     "data": {
      "text/plain": [
       "{'n_neighbors': 5, 'weights': 'distance'}"
      ]
     },
     "execution_count": 107,
     "metadata": {},
     "output_type": "execute_result"
    }
   ],
   "source": [
    "%%time\n",
    "#hyperparameter tuning on KNN\n",
    "\n",
    "param_grid = [{'weights': [\"uniform\", \"distance\"], 'n_neighbors': [3, 4, 5]}]\n",
    "\n",
    "grid_knn_clf = GridSearchCV(knn_clf, param_grid, cv=5, verbose=3, n_jobs=-1)\n",
    "grid_knn_clf.fit(X_train, y_train)\n",
    "grid_knn_clf.best_params_"
   ]
  },
  {
   "cell_type": "code",
   "execution_count": 108,
   "id": "coordinate-diamond",
   "metadata": {},
   "outputs": [
    {
     "name": "stdout",
     "output_type": "stream",
     "text": [
      "Fitting 5 folds for each of 6 candidates, totalling 30 fits\n",
      "Fitting 5 folds for each of 6 candidates, totalling 30 fits\n",
      "Fitting 5 folds for each of 6 candidates, totalling 30 fits\n",
      "Fitting 5 folds for each of 6 candidates, totalling 30 fits\n",
      "Fitting 5 folds for each of 6 candidates, totalling 30 fits\n",
      "CPU times: user 5.62 s, sys: 164 ms, total: 5.79 s\n",
      "Wall time: 25.4 s\n"
     ]
    },
    {
     "data": {
      "text/plain": [
       "0.6319555159263703"
      ]
     },
     "execution_count": 108,
     "metadata": {},
     "output_type": "execute_result"
    }
   ],
   "source": [
    "%%time\n",
    "#get cross validation score after hyperparameter tuning\n",
    "\n",
    "grid_knn_cross_scores = cross_val_score(grid_knn_clf, X_train, y_train, cv=skfold, scoring=\"accuracy\")\n",
    "grid_knn_pred = grid_knn_clf.predict(X_val)\n",
    "grid_knn_scores = (grid_knn_cross_scores.mean() + accuracy_score (grid_knn_pred, y_val))/2\n",
    "grid_knn_scores"
   ]
  },
  {
   "cell_type": "code",
   "execution_count": 109,
   "id": "decimal-cooper",
   "metadata": {
    "scrolled": true
   },
   "outputs": [
    {
     "name": "stdout",
     "output_type": "stream",
     "text": [
      "Fitting 5 folds for each of 108 candidates, totalling 540 fits\n",
      "CPU times: user 20.4 s, sys: 1.06 s, total: 21.4 s\n",
      "Wall time: 5min 22s\n"
     ]
    },
    {
     "data": {
      "text/plain": [
       "{'bootstrap': False,\n",
       " 'criterion': 'gini',\n",
       " 'max_depth': None,\n",
       " 'max_features': 10,\n",
       " 'min_samples_leaf': 1,\n",
       " 'min_samples_split': 2,\n",
       " 'n_estimators': 200}"
      ]
     },
     "execution_count": 109,
     "metadata": {},
     "output_type": "execute_result"
    }
   ],
   "source": [
    "%%time\n",
    "#extra tree\n",
    "ext_clf = ExtraTreesClassifier()\n",
    "\n",
    "param_grid = {\"max_depth\": [None],\n",
    "              \"max_features\": [10, 17],\n",
    "              \"min_samples_split\": [2, 3, 10],\n",
    "              \"min_samples_leaf\": [1, 3, 10],\n",
    "              \"bootstrap\": [False, True],\n",
    "              \"n_estimators\" :[50,100,200],\n",
    "              \"criterion\": [\"gini\"]}\n",
    "\n",
    "# Cross validate model with Kfold stratified cross val\n",
    "\n",
    "grid_ext_clf = GridSearchCV(ext_clf,param_grid, cv=skfold, scoring=\"accuracy\", n_jobs= 4, verbose = 1)\n",
    "grid_ext_clf.fit(X_train, y_train)\n",
    "\n",
    "grid_ext_clf.best_params_"
   ]
  },
  {
   "cell_type": "code",
   "execution_count": 110,
   "id": "double-yemen",
   "metadata": {},
   "outputs": [
    {
     "data": {
      "text/plain": [
       "0.8571718413595835"
      ]
     },
     "execution_count": 110,
     "metadata": {},
     "output_type": "execute_result"
    }
   ],
   "source": [
    "#get score after hyperparameter tuning\n",
    "grid_ext_pred = grid_ext_clf.predict(X_val)\n",
    "\n",
    "grid_ext_scores = (grid_ext_clf.best_score_ + accuracy_score (grid_ext_pred, y_val))/2\n",
    "grid_ext_scores"
   ]
  },
  {
   "cell_type": "code",
   "execution_count": 145,
   "id": "secondary-portsmouth",
   "metadata": {},
   "outputs": [
    {
     "name": "stdout",
     "output_type": "stream",
     "text": [
      "CPU times: user 1.98 s, sys: 12 ms, total: 1.99 s\n",
      "Wall time: 1.99 s\n"
     ]
    },
    {
     "data": {
      "text/plain": [
       "0.9742368877555382"
      ]
     },
     "execution_count": 145,
     "metadata": {},
     "output_type": "execute_result"
    },
    {
     "data": {
      "image/png": "[encoded data removed]",
      "text/plain": [
       "<Figure size 640x480 with 2 Axes>"
      ]
     },
     "metadata": {},
     "output_type": "display_data"
    }
   ],
   "source": [
    "%%time\n",
    "# Now let's predict on the hold out test set\n",
    "predictions = grid_ext_clf.predict(X_val)\n",
    "# analysis as a confusion matrix\n",
    "cm = confusion_matrix(y_val, predictions, labels=grid_ext_clf.classes_)\n",
    "disp = ConfusionMatrixDisplay(confusion_matrix=cm, display_labels=grid_ext_clf.classes_)\n",
    "disp.plot()\n",
    "plt.title(\"Extra Tree Confusion Matrix\", fontsize = 18)\n",
    "plt.xlabel('Predicted label', fontsize=18)\n",
    "plt.ylabel('True label', fontsize=18)\n",
    "\n",
    "plt.xticks(rotation = 90)\n",
    "# generate our AUC curve data\n",
    "roc_auc_score(y_val, grid_ext_clf.predict_proba(X_val), multi_class='ovr')"
   ]
  },
  {
   "cell_type": "code",
   "execution_count": 112,
   "id": "geological-guide",
   "metadata": {},
   "outputs": [],
   "source": [
    "#make prediction\n",
    "y_pred = grid_ext_clf.predict(X_val)"
   ]
  },
  {
   "cell_type": "code",
   "execution_count": 113,
   "id": "separate-settlement",
   "metadata": {},
   "outputs": [
    {
     "data": {
      "text/plain": [
       "0.8558022308022308"
      ]
     },
     "execution_count": 113,
     "metadata": {},
     "output_type": "execute_result"
    }
   ],
   "source": [
    "#accuracy score without balanced\n",
    "accuracy_score(y_val, y_pred)"
   ]
  },
  {
   "cell_type": "code",
   "execution_count": 114,
   "id": "infrared-purse",
   "metadata": {},
   "outputs": [
    {
     "data": {
      "text/plain": [
       "0.8444754612823726"
      ]
     },
     "execution_count": 114,
     "metadata": {},
     "output_type": "execute_result"
    }
   ],
   "source": [
    "# balanced accuracy score for ExtraTree \n",
    "balanced_accuracy_score(y_val, y_pred)\n"
   ]
  },
  {
   "cell_type": "code",
   "execution_count": 115,
   "id": "consecutive-performance",
   "metadata": {},
   "outputs": [
    {
     "data": {
      "text/plain": [
       "0.8551646008035305"
      ]
     },
     "execution_count": 115,
     "metadata": {},
     "output_type": "execute_result"
    }
   ],
   "source": [
    "# f1 score for ExtraTree\n",
    "\n",
    "f1_score(y_val, y_pred, average='weighted')"
   ]
  },
  {
   "cell_type": "code",
   "execution_count": 116,
   "id": "defensive-timing",
   "metadata": {},
   "outputs": [
    {
     "data": {
      "text/plain": [
       "0.8556609848741973"
      ]
     },
     "execution_count": 116,
     "metadata": {},
     "output_type": "execute_result"
    }
   ],
   "source": [
    "#precision_score weighted\n",
    "precision_score(y_val, y_pred, average='weighted')"
   ]
  },
  {
   "cell_type": "code",
   "execution_count": 117,
   "id": "hispanic-recommendation",
   "metadata": {},
   "outputs": [
    {
     "data": {
      "text/plain": [
       "0.8558022308022308"
      ]
     },
     "execution_count": 117,
     "metadata": {},
     "output_type": "execute_result"
    }
   ],
   "source": [
    "#recall_score weighted\n",
    "recall_score(y_val, y_pred, average='weighted')"
   ]
  },
  {
   "cell_type": "code",
   "execution_count": 118,
   "id": "understood-radar",
   "metadata": {},
   "outputs": [
    {
     "name": "stdout",
     "output_type": "stream",
     "text": [
      "Fitting 5 folds for each of 128 candidates, totalling 640 fits\n",
      "CPU times: user 48.8 s, sys: 984 ms, total: 49.8 s\n",
      "Wall time: 36min 45s\n"
     ]
    },
    {
     "data": {
      "text/plain": [
       "0.8020752535008164"
      ]
     },
     "execution_count": 118,
     "metadata": {},
     "output_type": "execute_result"
    }
   ],
   "source": [
    "%%time\n",
    "\n",
    "#AdaBoost\n",
    "ada_clf = AdaBoostClassifier(\n",
    "    DecisionTreeClassifier(random_state=rnd_state, max_depth=2),\n",
    "    random_state = rnd_state)\n",
    "\n",
    "param_grid = {\"base_estimator__criterion\" : [\"gini\", \"entropy\"],\n",
    "              \"base_estimator__splitter\" :   [\"best\", \"random\"],\n",
    "              \"algorithm\" : [\"SAMME\",\"SAMME.R\"],\n",
    "              \"n_estimators\" :[10, 100, 200, 250],\n",
    "              \"learning_rate\":  [0.05, 0.5, 1.5, 2.5]}\n",
    "\n",
    "grid_ada_clf = GridSearchCV(ada_clf, param_grid, cv=skfold, scoring=\"accuracy\", n_jobs= -1, verbose = 1)\n",
    "grid_ada_clf.fit(X_train, y_train)\n",
    "grid_ada_clf.best_params_\n",
    "\n",
    "ada_pred = grid_ada_clf.predict(X_val)\n",
    "grid_ada_scores = (grid_ada_clf.best_score_ + accuracy_score (ada_pred, y_val))/2\n",
    "grid_ada_scores"
   ]
  },
  {
   "cell_type": "code",
   "execution_count": 119,
   "id": "controlled-picture",
   "metadata": {},
   "outputs": [],
   "source": [
    "#make prediction\n",
    "y_pred = grid_ada_clf.predict(X_val)"
   ]
  },
  {
   "cell_type": "code",
   "execution_count": 120,
   "id": "varying-frank",
   "metadata": {},
   "outputs": [
    {
     "data": {
      "text/plain": [
       "0.8045366795366795"
      ]
     },
     "execution_count": 120,
     "metadata": {},
     "output_type": "execute_result"
    }
   ],
   "source": [
    "#accuracy score without balanced\n",
    "accuracy_score(y_val, y_pred)"
   ]
  },
  {
   "cell_type": "code",
   "execution_count": 121,
   "id": "legal-mission",
   "metadata": {},
   "outputs": [
    {
     "data": {
      "text/plain": [
       "0.7890110569255742"
      ]
     },
     "execution_count": 121,
     "metadata": {},
     "output_type": "execute_result"
    }
   ],
   "source": [
    "# balanced accuracy score for AdaBoost\n",
    "balanced_accuracy_score(y_val, y_pred)"
   ]
  },
  {
   "cell_type": "code",
   "execution_count": 122,
   "id": "greenhouse-guest",
   "metadata": {},
   "outputs": [
    {
     "data": {
      "text/plain": [
       "0.803025995109529"
      ]
     },
     "execution_count": 122,
     "metadata": {},
     "output_type": "execute_result"
    }
   ],
   "source": [
    "# f1 score for AdaBoost\n",
    "\n",
    "f1_score(y_val, y_pred, average='weighted')"
   ]
  },
  {
   "cell_type": "code",
   "execution_count": 123,
   "id": "virtual-amount",
   "metadata": {},
   "outputs": [
    {
     "data": {
      "text/plain": [
       "0.8049030482538007"
      ]
     },
     "execution_count": 123,
     "metadata": {},
     "output_type": "execute_result"
    }
   ],
   "source": [
    "#precision_score weighted\n",
    "precision_score(y_val, y_pred, average='weighted')"
   ]
  },
  {
   "cell_type": "code",
   "execution_count": 124,
   "id": "extraordinary-gazette",
   "metadata": {},
   "outputs": [
    {
     "data": {
      "text/plain": [
       "0.8045366795366795"
      ]
     },
     "execution_count": 124,
     "metadata": {},
     "output_type": "execute_result"
    }
   ],
   "source": [
    "#recall_score weighted\n",
    "recall_score(y_val, y_pred, average='weighted')"
   ]
  },
  {
   "cell_type": "code",
   "execution_count": 125,
   "id": "silent-villa",
   "metadata": {},
   "outputs": [],
   "source": [
    "# create function for metrics generation\n",
    "\n",
    "def get_metrics(true_labels, predicted_labels):\n",
    "    \n",
    "    print('Accuracy:', np.round(\n",
    "                        metrics.accuracy_score(true_labels, \n",
    "                                               predicted_labels),\n",
    "                        4))\n",
    "    print('Precision:', np.round(\n",
    "                        metrics.precision_score(true_labels, \n",
    "                                               predicted_labels,\n",
    "                                               average='weighted'),\n",
    "                        4))\n",
    "    print('Recall:', np.round(\n",
    "                        metrics.recall_score(true_labels, \n",
    "                                               predicted_labels,\n",
    "                                               average='weighted'),\n",
    "                        4))\n",
    "    print('F1 Score:', np.round(\n",
    "                        metrics.f1_score(true_labels, \n",
    "                                               predicted_labels,\n",
    "                                               average='weighted'),\n",
    "                        4))"
   ]
  },
  {
   "cell_type": "code",
   "execution_count": 126,
   "id": "coastal-serve",
   "metadata": {},
   "outputs": [],
   "source": [
    "# display funtion for metrics\n",
    "\n",
    "def display_classification_report(true_labels, predicted_labels, classes=['Bad', 'Good', 'Mediocre', 'No Response']):\n",
    "\n",
    "    report = metrics.classification_report(y_true=true_labels, \n",
    "                                           y_pred=predicted_labels, \n",
    "                                           labels=classes) \n",
    "    print(report)"
   ]
  },
  {
   "cell_type": "code",
   "execution_count": 127,
   "id": "matched-olive",
   "metadata": {},
   "outputs": [
    {
     "name": "stdout",
     "output_type": "stream",
     "text": [
      "Accuracy: 0.8045\n",
      "Precision: 0.8049\n",
      "Recall: 0.8045\n",
      "F1 Score: 0.803\n"
     ]
    }
   ],
   "source": [
    "\n",
    "from sklearn import metrics\n",
    "\n",
    "from sklearn.preprocessing import LabelEncoder\n",
    "from sklearn.base import clone\n",
    "from sklearn.preprocessing import label_binarize\n",
    "from scipy import interp\n",
    "from sklearn.metrics import roc_curve, auc \n",
    "\n",
    "#ada_booster_classifier metrics\n",
    "\n",
    "ada_clf_predictions = grid_ada_clf.predict(X_val)\n",
    "unique_classes = list(set(y_val))\n",
    "get_metrics(true_labels=y_val, predicted_labels=ada_clf_predictions)"
   ]
  },
  {
   "cell_type": "code",
   "execution_count": 128,
   "id": "northern-heritage",
   "metadata": {},
   "outputs": [
    {
     "name": "stdout",
     "output_type": "stream",
     "text": [
      "              precision    recall  f1-score   support\n",
      "\n",
      " No Response       0.81      0.88      0.84      4732\n",
      "         Bad       0.76      0.66      0.71      3392\n",
      "    Mediocre       0.79      0.84      0.81      6851\n",
      "        Good       0.86      0.78      0.82      3673\n",
      "\n",
      "    accuracy                           0.80     18648\n",
      "   macro avg       0.81      0.79      0.80     18648\n",
      "weighted avg       0.80      0.80      0.80     18648\n",
      "\n"
     ]
    }
   ],
   "source": [
    "#display metrics on ada_booster\n",
    "\n",
    "display_classification_report(true_labels=y_val, \n",
    "                                  predicted_labels=ada_clf_predictions, classes=unique_classes)"
   ]
  },
  {
   "cell_type": "code",
   "execution_count": 129,
   "id": "robust-driver",
   "metadata": {},
   "outputs": [
    {
     "data": {
      "text/plain": [
       "array([25309, 43648, 48256, ..., 56416,  3893, 52039])"
      ]
     },
     "execution_count": 129,
     "metadata": {},
     "output_type": "execute_result"
    }
   ],
   "source": [
    "# let's predict on on some training test data set \n",
    "train_idx, test_idx = train_test_split(np.array(range(len(non_narmalized_df['updated_label']))), test_size=0.30, random_state=42)\n",
    "test_idx"
   ]
  },
  {
   "cell_type": "code",
   "execution_count": 130,
   "id": "prepared-holiday",
   "metadata": {},
   "outputs": [
    {
     "data": {
      "text/html": [
       "<div>\n",
       "<style scoped>\n",
       "    .dataframe tbody tr th:only-of-type {\n",
       "        vertical-align: middle;\n",
       "    }\n",
       "\n",
       "    .dataframe tbody tr th {\n",
       "        vertical-align: top;\n",
       "    }\n",
       "\n",
       "    .dataframe thead th {\n",
       "        text-align: right;\n",
       "    }\n",
       "</style>\n",
       "<table border=\"1\" class=\"dataframe\">\n",
       "  <thead>\n",
       "    <tr style=\"text-align: right;\">\n",
       "      <th></th>\n",
       "      <th>cell</th>\n",
       "      <th>drug</th>\n",
       "      <th>min_conc</th>\n",
       "      <th>max_conc</th>\n",
       "      <th>min_norm_intensity</th>\n",
       "      <th>max_norm_intensity</th>\n",
       "      <th>mean_sd</th>\n",
       "      <th>convergence</th>\n",
       "      <th>upper_limit</th>\n",
       "      <th>IC50</th>\n",
       "      <th>slope</th>\n",
       "      <th>lower_limit</th>\n",
       "      <th>cluster</th>\n",
       "      <th>label</th>\n",
       "      <th>updated_label</th>\n",
       "      <th>Predicted Label</th>\n",
       "      <th>Predicted Confidence</th>\n",
       "    </tr>\n",
       "  </thead>\n",
       "  <tbody>\n",
       "    <tr>\n",
       "      <th>26014</th>\n",
       "      <td>5230</td>\n",
       "      <td>1372</td>\n",
       "      <td>0.001001</td>\n",
       "      <td>1.0</td>\n",
       "      <td>0.330783</td>\n",
       "      <td>0.762018</td>\n",
       "      <td>0.035250</td>\n",
       "      <td>1</td>\n",
       "      <td>3.492985</td>\n",
       "      <td>0.000009</td>\n",
       "      <td>-0.459039</td>\n",
       "      <td>0.350573</td>\n",
       "      <td>37</td>\n",
       "      <td>Mediocre</td>\n",
       "      <td>Mediocre</td>\n",
       "      <td>Bad</td>\n",
       "      <td>Bad</td>\n",
       "    </tr>\n",
       "    <tr>\n",
       "      <th>44531</th>\n",
       "      <td>3490</td>\n",
       "      <td>1377</td>\n",
       "      <td>0.039062</td>\n",
       "      <td>10.0</td>\n",
       "      <td>0.288951</td>\n",
       "      <td>0.405630</td>\n",
       "      <td>0.045485</td>\n",
       "      <td>1</td>\n",
       "      <td>0.625523</td>\n",
       "      <td>0.042126</td>\n",
       "      <td>-0.040830</td>\n",
       "      <td>0.112207</td>\n",
       "      <td>8</td>\n",
       "      <td>Mediocre</td>\n",
       "      <td>Mediocre</td>\n",
       "      <td>Good</td>\n",
       "      <td>Good</td>\n",
       "    </tr>\n",
       "    <tr>\n",
       "      <th>49209</th>\n",
       "      <td>3206</td>\n",
       "      <td>1017</td>\n",
       "      <td>0.019531</td>\n",
       "      <td>5.0</td>\n",
       "      <td>0.308476</td>\n",
       "      <td>1.465098</td>\n",
       "      <td>0.388898</td>\n",
       "      <td>1</td>\n",
       "      <td>0.939422</td>\n",
       "      <td>30.000000</td>\n",
       "      <td>-0.731777</td>\n",
       "      <td>-2.148837</td>\n",
       "      <td>21</td>\n",
       "      <td>Bad</td>\n",
       "      <td>Bad</td>\n",
       "      <td>Mediocre</td>\n",
       "      <td>Mediocre</td>\n",
       "    </tr>\n",
       "    <tr>\n",
       "      <th>1576</th>\n",
       "      <td>8570</td>\n",
       "      <td>1089</td>\n",
       "      <td>0.010005</td>\n",
       "      <td>10.0</td>\n",
       "      <td>1.024450</td>\n",
       "      <td>1.750020</td>\n",
       "      <td>0.161699</td>\n",
       "      <td>1</td>\n",
       "      <td>3.603242</td>\n",
       "      <td>14.490283</td>\n",
       "      <td>7.624053</td>\n",
       "      <td>1.307558</td>\n",
       "      <td>27</td>\n",
       "      <td>Bad</td>\n",
       "      <td>Bad</td>\n",
       "      <td>Bad</td>\n",
       "      <td>Bad</td>\n",
       "    </tr>\n",
       "    <tr>\n",
       "      <th>32298</th>\n",
       "      <td>6666</td>\n",
       "      <td>1034</td>\n",
       "      <td>0.007812</td>\n",
       "      <td>2.0</td>\n",
       "      <td>0.071610</td>\n",
       "      <td>1.002615</td>\n",
       "      <td>0.029620</td>\n",
       "      <td>0</td>\n",
       "      <td>1.527400</td>\n",
       "      <td>2.744948</td>\n",
       "      <td>-0.241464</td>\n",
       "      <td>-1.400324</td>\n",
       "      <td>33</td>\n",
       "      <td>Mediocre</td>\n",
       "      <td>Mediocre</td>\n",
       "      <td>Mediocre</td>\n",
       "      <td>Mediocre</td>\n",
       "    </tr>\n",
       "    <tr>\n",
       "      <th>...</th>\n",
       "      <td>...</td>\n",
       "      <td>...</td>\n",
       "      <td>...</td>\n",
       "      <td>...</td>\n",
       "      <td>...</td>\n",
       "      <td>...</td>\n",
       "      <td>...</td>\n",
       "      <td>...</td>\n",
       "      <td>...</td>\n",
       "      <td>...</td>\n",
       "      <td>...</td>\n",
       "      <td>...</td>\n",
       "      <td>...</td>\n",
       "      <td>...</td>\n",
       "      <td>...</td>\n",
       "      <td>...</td>\n",
       "      <td>...</td>\n",
       "    </tr>\n",
       "    <tr>\n",
       "      <th>55059</th>\n",
       "      <td>6413</td>\n",
       "      <td>1862</td>\n",
       "      <td>0.015625</td>\n",
       "      <td>4.0</td>\n",
       "      <td>0.079817</td>\n",
       "      <td>0.890487</td>\n",
       "      <td>0.044312</td>\n",
       "      <td>1</td>\n",
       "      <td>0.845330</td>\n",
       "      <td>0.158074</td>\n",
       "      <td>-2.299957</td>\n",
       "      <td>0.136328</td>\n",
       "      <td>25</td>\n",
       "      <td>Good</td>\n",
       "      <td>Good</td>\n",
       "      <td>Bad</td>\n",
       "      <td>Bad</td>\n",
       "    </tr>\n",
       "    <tr>\n",
       "      <th>32351</th>\n",
       "      <td>3421</td>\n",
       "      <td>1034</td>\n",
       "      <td>0.007812</td>\n",
       "      <td>2.0</td>\n",
       "      <td>0.099036</td>\n",
       "      <td>1.086286</td>\n",
       "      <td>0.050883</td>\n",
       "      <td>1</td>\n",
       "      <td>1.014895</td>\n",
       "      <td>0.453467</td>\n",
       "      <td>-1.137352</td>\n",
       "      <td>-0.038596</td>\n",
       "      <td>14</td>\n",
       "      <td>Mediocre</td>\n",
       "      <td>Mediocre</td>\n",
       "      <td>Bad</td>\n",
       "      <td>Bad</td>\n",
       "    </tr>\n",
       "    <tr>\n",
       "      <th>57440</th>\n",
       "      <td>6290</td>\n",
       "      <td>1034</td>\n",
       "      <td>0.007812</td>\n",
       "      <td>2.0</td>\n",
       "      <td>0.041965</td>\n",
       "      <td>0.801690</td>\n",
       "      <td>0.038221</td>\n",
       "      <td>1</td>\n",
       "      <td>0.761223</td>\n",
       "      <td>0.136889</td>\n",
       "      <td>-1.769766</td>\n",
       "      <td>0.045396</td>\n",
       "      <td>25</td>\n",
       "      <td>Good</td>\n",
       "      <td>Good</td>\n",
       "      <td>Mediocre</td>\n",
       "      <td>Mediocre</td>\n",
       "    </tr>\n",
       "    <tr>\n",
       "      <th>3952</th>\n",
       "      <td>8692</td>\n",
       "      <td>1372</td>\n",
       "      <td>0.001001</td>\n",
       "      <td>1.0</td>\n",
       "      <td>0.465010</td>\n",
       "      <td>0.957800</td>\n",
       "      <td>0.109323</td>\n",
       "      <td>1</td>\n",
       "      <td>4.490857</td>\n",
       "      <td>0.000011</td>\n",
       "      <td>-0.546792</td>\n",
       "      <td>0.599208</td>\n",
       "      <td>28</td>\n",
       "      <td>No Response</td>\n",
       "      <td>No Response</td>\n",
       "      <td>Mediocre</td>\n",
       "      <td>Mediocre</td>\n",
       "    </tr>\n",
       "    <tr>\n",
       "      <th>53038</th>\n",
       "      <td>12810</td>\n",
       "      <td>1997</td>\n",
       "      <td>0.009766</td>\n",
       "      <td>10.0</td>\n",
       "      <td>0.647182</td>\n",
       "      <td>1.078637</td>\n",
       "      <td>0.108978</td>\n",
       "      <td>1</td>\n",
       "      <td>0.935741</td>\n",
       "      <td>1.397168</td>\n",
       "      <td>-1.497891</td>\n",
       "      <td>0.822549</td>\n",
       "      <td>1</td>\n",
       "      <td>No Response</td>\n",
       "      <td>No Response</td>\n",
       "      <td>Mediocre</td>\n",
       "      <td>Mediocre</td>\n",
       "    </tr>\n",
       "  </tbody>\n",
       "</table>\n",
       "<p>18648 rows × 17 columns</p>\n",
       "</div>"
      ],
      "text/plain": [
       "        cell  drug  min_conc  max_conc  min_norm_intensity  \\\n",
       "26014   5230  1372  0.001001       1.0            0.330783   \n",
       "44531   3490  1377  0.039062      10.0            0.288951   \n",
       "49209   3206  1017  0.019531       5.0            0.308476   \n",
       "1576    8570  1089  0.010005      10.0            1.024450   \n",
       "32298   6666  1034  0.007812       2.0            0.071610   \n",
       "...      ...   ...       ...       ...                 ...   \n",
       "55059   6413  1862  0.015625       4.0            0.079817   \n",
       "32351   3421  1034  0.007812       2.0            0.099036   \n",
       "57440   6290  1034  0.007812       2.0            0.041965   \n",
       "3952    8692  1372  0.001001       1.0            0.465010   \n",
       "53038  12810  1997  0.009766      10.0            0.647182   \n",
       "\n",
       "       max_norm_intensity   mean_sd  convergence  upper_limit       IC50  \\\n",
       "26014            0.762018  0.035250            1     3.492985   0.000009   \n",
       "44531            0.405630  0.045485            1     0.625523   0.042126   \n",
       "49209            1.465098  0.388898            1     0.939422  30.000000   \n",
       "1576             1.750020  0.161699            1     3.603242  14.490283   \n",
       "32298            1.002615  0.029620            0     1.527400   2.744948   \n",
       "...                   ...       ...          ...          ...        ...   \n",
       "55059            0.890487  0.044312            1     0.845330   0.158074   \n",
       "32351            1.086286  0.050883            1     1.014895   0.453467   \n",
       "57440            0.801690  0.038221            1     0.761223   0.136889   \n",
       "3952             0.957800  0.109323            1     4.490857   0.000011   \n",
       "53038            1.078637  0.108978            1     0.935741   1.397168   \n",
       "\n",
       "          slope  lower_limit  cluster        label updated_label  \\\n",
       "26014 -0.459039     0.350573       37     Mediocre      Mediocre   \n",
       "44531 -0.040830     0.112207        8     Mediocre      Mediocre   \n",
       "49209 -0.731777    -2.148837       21          Bad           Bad   \n",
       "1576   7.624053     1.307558       27          Bad           Bad   \n",
       "32298 -0.241464    -1.400324       33     Mediocre      Mediocre   \n",
       "...         ...          ...      ...          ...           ...   \n",
       "55059 -2.299957     0.136328       25         Good          Good   \n",
       "32351 -1.137352    -0.038596       14     Mediocre      Mediocre   \n",
       "57440 -1.769766     0.045396       25         Good          Good   \n",
       "3952  -0.546792     0.599208       28  No Response   No Response   \n",
       "53038 -1.497891     0.822549        1  No Response   No Response   \n",
       "\n",
       "      Predicted Label Predicted Confidence  \n",
       "26014             Bad                  Bad  \n",
       "44531            Good                 Good  \n",
       "49209        Mediocre             Mediocre  \n",
       "1576              Bad                  Bad  \n",
       "32298        Mediocre             Mediocre  \n",
       "...               ...                  ...  \n",
       "55059             Bad                  Bad  \n",
       "32351             Bad                  Bad  \n",
       "57440        Mediocre             Mediocre  \n",
       "3952         Mediocre             Mediocre  \n",
       "53038        Mediocre             Mediocre  \n",
       "\n",
       "[18648 rows x 17 columns]"
      ]
     },
     "execution_count": 130,
     "metadata": {},
     "output_type": "execute_result"
    }
   ],
   "source": [
    "# with ada_booster mode\n",
    "# generate data frame with prediction on predicted label with predicted confidence on original updated_label\n",
    "predict_probas = grid_ada_clf.predict(X_val)\n",
    "test_df = non_narmalized_df.iloc[test_idx]\n",
    "test_df['Predicted Label'] = ada_clf_predictions\n",
    "test_df['Predicted Confidence'] = predict_probas\n",
    "test_df\n",
    "\n"
   ]
  },
  {
   "cell_type": "code",
   "execution_count": 131,
   "id": "tired-ability",
   "metadata": {},
   "outputs": [
    {
     "data": {
      "text/plain": [
       "Mediocre       7275\n",
       "No Response    5122\n",
       "Good           3300\n",
       "Bad            2951\n",
       "Name: Predicted Confidence, dtype: int64"
      ]
     },
     "execution_count": 131,
     "metadata": {},
     "output_type": "execute_result"
    }
   ],
   "source": [
    "#get predicted confidene labels counts\n",
    "test_df['Predicted Confidence'].value_counts()\n"
   ]
  },
  {
   "cell_type": "code",
   "execution_count": 132,
   "id": "southwest-bermuda",
   "metadata": {},
   "outputs": [
    {
     "data": {
      "text/plain": [
       "Mediocre       6920\n",
       "No Response    4745\n",
       "Good           3639\n",
       "Bad            3344\n",
       "Name: updated_label, dtype: int64"
      ]
     },
     "execution_count": 132,
     "metadata": {},
     "output_type": "execute_result"
    }
   ],
   "source": [
    "# get original labels counts\n",
    "test_df['updated_label'].value_counts()\n"
   ]
  },
  {
   "cell_type": "markdown",
   "id": "single-outreach",
   "metadata": {},
   "source": [
    "## END"
   ]
  }
 ],
 "metadata": {
  "kernelspec": {
   "display_name": "PythonDS v1.2",
   "language": "python",
   "name": "py_v1.2"
  },
  "language_info": {
   "codemirror_mode": {
    "name": "ipython",
    "version": 3
   },
   "file_extension": ".py",
   "mimetype": "text/x-python",
   "name": "python",
   "nbconvert_exporter": "python",
   "pygments_lexer": "ipython3",
   "version": "3.8.15"
  }
 },
 "nbformat": 4,
 "nbformat_minor": 5
}
