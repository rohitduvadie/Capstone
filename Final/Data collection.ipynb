{
 "cells": [
  {
   "cell_type": "markdown",
   "id": "bff29d84",
   "metadata": {},
   "source": [
    "## Import libraries"
   ]
  },
  {
   "cell_type": "code",
   "execution_count": 1,
   "id": "4cee9122",
   "metadata": {},
   "outputs": [],
   "source": [
    "import pandas as pd\n",
    "import requests\n",
    "from zipfile import ZipFile\n",
    "from io import BytesIO\n",
    "import os\n"
   ]
  },
  {
   "cell_type": "markdown",
   "id": "9a6cab6c",
   "metadata": {},
   "source": [
    "## Data collection"
   ]
  },
  {
   "cell_type": "code",
   "execution_count": 2,
   "id": "ab71286f",
   "metadata": {},
   "outputs": [],
   "source": [
    "# read in gdsc1 and gdsc2 files directly from the website\n",
    "\n",
    "def import_files():\n",
    "    r = requests.get('https://cog.sanger.ac.uk/cancerrxgene/GDSC_release8.4/GDSC1_public_raw_data_24Jul22.csv.zip')\n",
    "    files = ZipFile(BytesIO(r.content))\n",
    "    gdsc1 = pd.read_csv(files.open('GDSC1_public_raw_data_24Jul22.csv'))\n",
    "\n",
    "    r = requests.get('https://cog.sanger.ac.uk/cancerrxgene/GDSC_release8.4/GDSC2_public_raw_data_24Jul22.csv.zip')\n",
    "    files = ZipFile(BytesIO(r.content))\n",
    "    gdsc2 = pd.read_csv(files.open('GDSC2_public_raw_data_24Jul22.csv'))\n",
    "    \n",
    "    return gdsc1, gdsc2"
   ]
  },
  {
   "cell_type": "code",
   "execution_count": 3,
   "id": "05632f2c",
   "metadata": {},
   "outputs": [
    {
     "name": "stderr",
     "output_type": "stream",
     "text": [
      "/var/folders/nn/zyrgwx2n2kz51m6jgsh64jv00000gn/T/ipykernel_89432/236325571.py:6: DtypeWarning: Columns (1) have mixed types. Specify dtype option on import or set low_memory=False.\n",
      "  gdsc1 = pd.read_csv(files.open('GDSC1_public_raw_data_24Jul22.csv'))\n"
     ]
    }
   ],
   "source": [
    "gdsc1, gdsc2 = import_files()"
   ]
  },
  {
   "cell_type": "code",
   "execution_count": 4,
   "id": "0d8cef14",
   "metadata": {},
   "outputs": [],
   "source": [
    "# combine gdsc1 and gdsc2 files into one file and save locally\n",
    "\n",
    "def combine_data(gdsc1, gdsc2):\n",
    "    \n",
    "    gdsc = pd.concat([gdsc1, gdsc2])\n",
    "    gdsc.drop_duplicates(inplace=True)\n",
    "    \n",
    "    if os.path.exists('data') == False:\n",
    "        os.makedirs('data')\n",
    "    gdsc.to_csv('data/gdsc.csv', index=False)\n",
    "    \n",
    "    return gdsc"
   ]
  },
  {
   "cell_type": "code",
   "execution_count": 5,
   "id": "ac8b945c",
   "metadata": {},
   "outputs": [],
   "source": [
    "gdsc = combine_data(gdsc1, gdsc2)"
   ]
  },
  {
   "cell_type": "code",
   "execution_count": null,
   "id": "225d617e",
   "metadata": {},
   "outputs": [],
   "source": []
  }
 ],
 "metadata": {
  "kernelspec": {
   "display_name": "Python 3 (ipykernel)",
   "language": "python",
   "name": "python3"
  },
  "language_info": {
   "codemirror_mode": {
    "name": "ipython",
    "version": 3
   },
   "file_extension": ".py",
   "mimetype": "text/x-python",
   "name": "python",
   "nbconvert_exporter": "python",
   "pygments_lexer": "ipython3",
   "version": "3.10.4"
  }
 },
 "nbformat": 4,
 "nbformat_minor": 5
}
