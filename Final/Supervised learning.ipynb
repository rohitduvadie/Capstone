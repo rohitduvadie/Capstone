{
 "cells": [
  {
   "cell_type": "code",
   "execution_count": null,
   "id": "d7a9ecce",
   "metadata": {},
   "outputs": [],
   "source": [
    "import pandas as pd\n",
    "import numpy as np\n",
    "from fastprogress.fastprogress import progress_bar \n",
    "from sklearn.model_selection import train_test_split\n",
    "from sklearn.ensemble import RandomForestClassifier\n",
    "from sklearn.metrics import f1_score, balanced_accuracy_score, make_scorer, confusion_matrix, ConfusionMatrixDisplay, roc_auc_score, precision_score, recall_score, accuracy_score\n",
    "from matplotlib import pyplot as plt\n",
    "import os\n",
    "import pickle"
   ]
  },
  {
   "cell_type": "code",
   "execution_count": null,
   "id": "501466fe",
   "metadata": {},
   "outputs": [],
   "source": [
    "# get data and split into test and train\n",
    "\n",
    "def get_data(model_name, n_clusters):\n",
    "    data = pd.read_csv(f'analysis/triplicate_batch_{model_name}_kmeans{n_clusters}_labels.csv')\n",
    "    \n",
    "    # change convergence column to binary from bool\n",
    "    data['convergence'] = np.where(data['convergence']==True, 1, 0)\n",
    "    \n",
    "    # some of the values are extremely large or small, so make new values that do not go over 30 or under 0.0000001\n",
    "    data['IC50'] = data['IC50'].where(data['IC50']<30, 30)\n",
    "    data['IC50'] = data['IC50'].where(data['IC50']>0.0000001, 0)\n",
    "    \n",
    "    # define X and y\n",
    "    X = data.iloc[:,:12]\n",
    "    y = data.iloc[:,-1]\n",
    "    \n",
    "    # split into test and train sets\n",
    "    random_state = 1\n",
    "    test_size = 0.3\n",
    "\n",
    "    X_train, X_test, y_train, y_test = train_test_split(X, y, test_size=test_size, random_state=random_state, stratify=y)\n",
    "    \n",
    "    return X_train, X_test, y_train, y_test"
   ]
  },
  {
   "cell_type": "code",
   "execution_count": null,
   "id": "b77496a9",
   "metadata": {},
   "outputs": [],
   "source": [
    "X_train, X_test, y_train, y_test = get_data(model_name='VGG19', n_clusters=40)"
   ]
  },
  {
   "cell_type": "code",
   "execution_count": null,
   "id": "570dad47",
   "metadata": {},
   "outputs": [],
   "source": [
    "# train a model and return predictions\n",
    "\n",
    "def model_predict(model_name):\n",
    "    rf = RandomForestClassifier(n_estimators=200,\n",
    "                               max_depth=75,\n",
    "                               min_samples_leaf=1,\n",
    "                               min_samples_split=3)\n",
    "    rf.fit(X_train, y_train)\n",
    "    \n",
    "    # save the model\n",
    "    if os.path.exists('supervised') == False:\n",
    "        os.makedirs('supervised')\n",
    "    \n",
    "    with open(f\"supervised/{model_name}.pkl\", \"wb\") as f:\n",
    "        pickle.dump(rf, f)\n",
    "    \n",
    "    # get predictions\n",
    "    y_pred = rf.predict(X_test)\n",
    "    \n",
    "    return y_pred, rf"
   ]
  },
  {
   "cell_type": "code",
   "execution_count": null,
   "id": "70667a79",
   "metadata": {},
   "outputs": [],
   "source": [
    "y_pred, rf = model_predict(model_name='RF')"
   ]
  },
  {
   "cell_type": "code",
   "execution_count": null,
   "id": "f8914eb7",
   "metadata": {},
   "outputs": [],
   "source": [
    "# score using multiple metrics\n",
    "\n",
    "def get_metrics(y_test, y_pred):\n",
    "    \n",
    "    print('Accuracy:', np.round(accuracy_score(y_test, y_pred), 4))\n",
    "    print('Balanced Accuracy', np.round(balanced_accuracy_score(y_test, y_pred), 4))\n",
    "    print('Precision:', np.round(precision_score(y_test, y_pred, average='weighted'), 4))\n",
    "    print('Recall:', np.round(recall_score(y_test, y_pred, average='weighted'), 4))\n",
    "    print('F1 Score:', np.round(f1_score(y_test, y_pred, average='weighted'), 4))\n",
    "    \n",
    "get_metrics(y_test, y_pred)"
   ]
  },
  {
   "cell_type": "code",
   "execution_count": null,
   "id": "ccd8df6e",
   "metadata": {},
   "outputs": [],
   "source": [
    "# function to display the confusion matrix\n",
    "\n",
    "def cm_display(y_true, y_pred, model_name):\n",
    "    \n",
    "    labels = pd.Series(pd.concat([pd.Series(y_true), pd.Series(y_pred)]).unique()).sort_values()\n",
    "\n",
    "    cm = confusion_matrix(y_true, y_pred)\n",
    "    disp = ConfusionMatrixDisplay(confusion_matrix=cm, display_labels=labels)\n",
    "    fig, ax = plt.subplots(figsize=(10,10))\n",
    "    disp.plot(ax=ax, xticks_rotation = 'vertical')\n",
    "    plt.title('Random Forest Confusion Matrix')\n",
    "    \n",
    "    if os.path.exists('supervised') == False:\n",
    "        os.makedirs('supervised')\n",
    "\n",
    "    plt.savefig(f'supervised/{model_name}_confusion_matrix.png', bbox_inches='tight')\n",
    "    "
   ]
  },
  {
   "cell_type": "code",
   "execution_count": null,
   "id": "fb53b07c",
   "metadata": {},
   "outputs": [],
   "source": [
    "# plot the confusion matrix\n",
    "\n",
    "cm_display(y_test, y_pred, model_name='RF')"
   ]
  },
  {
   "cell_type": "code",
   "execution_count": null,
   "id": "dac1e302",
   "metadata": {},
   "outputs": [],
   "source": [
    "# extract the feature importances\n",
    "\n",
    "def feature_importances(X, trained_rf, model_name):\n",
    "\n",
    "    plt.barh(X.columns, (trained_rf.feature_importances_)*100)\n",
    "    plt.xlabel('% Importance')\n",
    "    plt.title('Random Forest Feature Importance')\n",
    "\n",
    "    if os.path.exists('supervised') == False:\n",
    "        os.makedirs('supervised')\n",
    "\n",
    "    plt.savefig(f'supervised/{model_name}_features.png', bbox_inches='tight')\n"
   ]
  },
  {
   "cell_type": "code",
   "execution_count": null,
   "id": "4d8b607b",
   "metadata": {},
   "outputs": [],
   "source": [
    "# display the feature importances\n",
    "\n",
    "feature_importances(X=X_test, trained_rf=rf, model_name='RF')"
   ]
  },
  {
   "cell_type": "code",
   "execution_count": null,
   "id": "2f395fcd",
   "metadata": {},
   "outputs": [],
   "source": []
  }
 ],
 "metadata": {
  "kernelspec": {
   "display_name": "PythonDS v1.2",
   "language": "python",
   "name": "py_v1.2"
  },
  "language_info": {
   "codemirror_mode": {
    "name": "ipython",
    "version": 3
   },
   "file_extension": ".py",
   "mimetype": "text/x-python",
   "name": "python",
   "nbconvert_exporter": "python",
   "pygments_lexer": "ipython3",
   "version": "3.8.15"
  }
 },
 "nbformat": 4,
 "nbformat_minor": 5
}
