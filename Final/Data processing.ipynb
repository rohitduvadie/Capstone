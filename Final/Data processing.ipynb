{
 "cells": [
  {
   "cell_type": "markdown",
   "id": "e51da039",
   "metadata": {},
   "source": [
    "## Import libraries"
   ]
  },
  {
   "cell_type": "code",
   "execution_count": 1,
   "id": "4cee9122",
   "metadata": {},
   "outputs": [],
   "source": [
    "import pandas as pd\n",
    "from fastprogress.fastprogress import progress_bar\n",
    "import os\n"
   ]
  },
  {
   "cell_type": "markdown",
   "id": "8083de5c",
   "metadata": {},
   "source": [
    "## Data processing to replicates"
   ]
  },
  {
   "cell_type": "code",
   "execution_count": 2,
   "id": "4a09b248",
   "metadata": {},
   "outputs": [],
   "source": [
    "# load gdsc file or import own file here\n",
    "\n",
    "def load_data(filepath):\n",
    "    gdsc = pd.read_csv()\n",
    "    \n",
    "    return gdsc"
   ]
  },
  {
   "cell_type": "code",
   "execution_count": 3,
   "id": "5f9f721e",
   "metadata": {},
   "outputs": [
    {
     "name": "stderr",
     "output_type": "stream",
     "text": [
      "/scratch/tmp/24597510.1.default.q/ipykernel_24792/381174919.py:4: DtypeWarning: Columns (1,4,11) have mixed types. Specify dtype option on import or set low_memory=False.\n",
      "  gdsc = pd.read_csv('data/gdsc.csv')\n"
     ]
    }
   ],
   "source": [
    "gdsc = load_data('data/gdsc.csv')"
   ]
  },
  {
   "cell_type": "code",
   "execution_count": 4,
   "id": "c573539e",
   "metadata": {},
   "outputs": [],
   "source": [
    "# figure out which conditions have 3 or more replicates\n",
    "\n",
    "def find_replicates(gdsc):\n",
    "    # unique plate, cell line, tag, drug, assay, seeding density, duration, and concentrations\n",
    "    replicates = pd.DataFrame(gdsc[['DRUGSET_ID','CELL_ID','TAG','DRUG_ID','ASSAY','SEEDING_DENSITY','DURATION','CONC']].value_counts(dropna=False))\n",
    "    replicates = replicates.reset_index()\n",
    "    replicates.rename(columns={0:'replicates'}, inplace=True)\n",
    "\n",
    "    # remove conc column and drop duplicates so it's essentially only counting replicates for one conc\n",
    "    replicates.drop(['CONC'], axis=1, inplace=True)\n",
    "    replicates.drop_duplicates(inplace=True)\n",
    "\n",
    "    # only keep 3 or more replicates\n",
    "    replicates = replicates[replicates['replicates']>2]\n",
    "    \n",
    "    # remove samples we don't need\n",
    "    replicates = replicates[replicates['TAG']!='DMSO']\n",
    "    replicates = replicates[replicates['TAG']!='B']\n",
    "    replicates = replicates[replicates['TAG']!='UN-USED']\n",
    "    replicates = replicates[replicates['TAG']!='NC-1']\n",
    "    \n",
    "    # make a list for indexing the file_combo and dropping rows we don't need\n",
    "    rep_ind = []\n",
    "\n",
    "    for i in progress_bar(replicates.index):\n",
    "        index = replicates.loc[i]\n",
    "        rep_ind.append((index['DRUGSET_ID'], index['CELL_ID'], index['DRUG_ID'], index['TAG'], index['SEEDING_DENSITY'], index['ASSAY'], index['DURATION']))\n",
    "    \n",
    "    # make a new file that just has the data in replicate form \n",
    "    rep_file = gdsc.set_index(['DRUGSET_ID','CELL_ID','DRUG_ID','TAG','SEEDING_DENSITY','ASSAY','DURATION']).copy()\n",
    "    rep_file = rep_file.loc[rep_ind]\n",
    "    rep_file.reset_index(inplace=True)\n",
    "    \n",
    "    # save locally\n",
    "    if os.path.exists('data') == False:\n",
    "        os.makedirs('data')\n",
    "    rep_file.to_csv('data/replicates.csv', index=False)\n",
    "\n",
    "    return rep_file\n"
   ]
  },
  {
   "cell_type": "code",
   "execution_count": 5,
   "id": "630c214d",
   "metadata": {},
   "outputs": [
    {
     "data": {
      "text/html": [
       "\n",
       "<style>\n",
       "    /* Turns off some styling */\n",
       "    progress {\n",
       "        /* gets rid of default border in Firefox and Opera. */\n",
       "        border: none;\n",
       "        /* Needs to be in here for Safari polyfill so background images work as expected. */\n",
       "        background-size: auto;\n",
       "    }\n",
       "    progress:not([value]), progress:not([value])::-webkit-progress-bar {\n",
       "        background: repeating-linear-gradient(45deg, #7e7e7e, #7e7e7e 10px, #5c5c5c 10px, #5c5c5c 20px);\n",
       "    }\n",
       "    .progress-bar-interrupted, .progress-bar-interrupted::-webkit-progress-bar {\n",
       "        background: #F44336;\n",
       "    }\n",
       "</style>\n"
      ],
      "text/plain": [
       "<IPython.core.display.HTML object>"
      ]
     },
     "metadata": {},
     "output_type": "display_data"
    },
    {
     "data": {
      "text/html": [
       "\n",
       "    <div>\n",
       "      <progress value='301248' class='' max='301248' style='width:300px; height:20px; vertical-align: middle;'></progress>\n",
       "      100.00% [301248/301248 00:21&lt;00:00]\n",
       "    </div>\n",
       "    "
      ],
      "text/plain": [
       "<IPython.core.display.HTML object>"
      ]
     },
     "metadata": {},
     "output_type": "display_data"
    }
   ],
   "source": [
    "replicates = find_replicates(gdsc)"
   ]
  },
  {
   "cell_type": "markdown",
   "id": "b797c8a3",
   "metadata": {},
   "source": [
    "## Normalization"
   ]
  },
  {
   "cell_type": "code",
   "execution_count": 13,
   "id": "6af288a6",
   "metadata": {},
   "outputs": [],
   "source": [
    "# normalize the intensity values for every plate and cell line using the NC-0 control\n",
    "\n",
    "def data_normalization(replicates):\n",
    "    data_norm = pd.DataFrame()\n",
    "    \n",
    "    # divide intensity values for each unique plate and cell line by the average of the control NC-0 intensity\n",
    "    for plate in progress_bar(replicates['DRUGSET_ID'].unique()):\n",
    "        df = replicates[replicates['DRUGSET_ID']==plate].copy()\n",
    "        for cell in df['CELL_ID'].unique():\n",
    "            df2 = df[df['CELL_ID']==cell].copy()\n",
    "            df2['norm_intensity'] = df2['INTENSITY'] / df2[df2['TAG']=='NC-0']['INTENSITY'].mean()\n",
    "            data_norm = pd.concat([data_norm, df2])\n",
    "    \n",
    "    # remove the controls since they are no longer needed\n",
    "    data_norm = data_norm[data_norm['TAG']!='NC-0']\n",
    "    \n",
    "    # save locally\n",
    "    if os.path.exists('data') == False:\n",
    "        os.makedirs('data')  \n",
    "    data_norm.to_csv('data/replicates_normalized.csv', index=False)\n",
    "    \n",
    "    return data_norm"
   ]
  },
  {
   "cell_type": "code",
   "execution_count": 14,
   "id": "5eb08067",
   "metadata": {},
   "outputs": [
    {
     "data": {
      "text/html": [
       "\n",
       "<style>\n",
       "    /* Turns off some styling */\n",
       "    progress {\n",
       "        /* gets rid of default border in Firefox and Opera. */\n",
       "        border: none;\n",
       "        /* Needs to be in here for Safari polyfill so background images work as expected. */\n",
       "        background-size: auto;\n",
       "    }\n",
       "    progress:not([value]), progress:not([value])::-webkit-progress-bar {\n",
       "        background: repeating-linear-gradient(45deg, #7e7e7e, #7e7e7e 10px, #5c5c5c 10px, #5c5c5c 20px);\n",
       "    }\n",
       "    .progress-bar-interrupted, .progress-bar-interrupted::-webkit-progress-bar {\n",
       "        background: #F44336;\n",
       "    }\n",
       "</style>\n"
      ],
      "text/plain": [
       "<IPython.core.display.HTML object>"
      ]
     },
     "metadata": {},
     "output_type": "display_data"
    },
    {
     "data": {
      "text/html": [
       "\n",
       "    <div>\n",
       "      <progress value='231' class='' max='232' style='width:300px; height:20px; vertical-align: middle;'></progress>\n",
       "      99.57% [231/232 1:15:52&lt;00:19]\n",
       "    </div>\n",
       "    "
      ],
      "text/plain": [
       "<IPython.core.display.HTML object>"
      ]
     },
     "metadata": {},
     "output_type": "display_data"
    }
   ],
   "source": [
    "data_norm = data_normalization(replicates)"
   ]
  },
  {
   "cell_type": "markdown",
   "id": "1983c19e",
   "metadata": {},
   "source": [
    "## Data processing to triplicates"
   ]
  },
  {
   "cell_type": "code",
   "execution_count": 15,
   "id": "dc6e7671",
   "metadata": {},
   "outputs": [],
   "source": [
    "# limit data to only those conditions with triplicates\n",
    "# for the replicates greater than 3, batch into triplicates\n",
    "\n",
    "def make_triplicates(data_norm):\n",
    "    triplicates_df = pd.DataFrame()\n",
    "\n",
    "    # narrow dataset down to each plate, cell line, assay, duration, seeding density, and drug\n",
    "    for plate in progress_bar(data_norm['DRUGSET_ID'].unique()):\n",
    "        df = data_norm[data_norm['DRUGSET_ID']==plate].copy()\n",
    "        for cell in df['CELL_ID'].unique():\n",
    "            df2 = df[df['CELL_ID']==cell].copy()\n",
    "            for assay in df2['ASSAY'].unique():\n",
    "                df3 = df2[df2['ASSAY']==assay].copy()\n",
    "                for duration in df3['DURATION'].unique():\n",
    "                    df4 = df3[df3['DURATION']==duration].copy()\n",
    "                    for seeding in df4['SEEDING_DENSITY'].unique():\n",
    "                        df5 = df4[df4['SEEDING_DENSITY']==seeding].copy()\n",
    "                        for drug in df5['DRUG_ID'].unique():\n",
    "                            df6 = df5[df5['DRUG_ID']==drug].copy()\n",
    "                        \n",
    "                            # find the number of replicates per concentration\n",
    "                            df7 = pd.DataFrame(df6[['DRUGSET_ID','CELL_ID','ASSAY','DURATION','SEEDING_DENSITY','DRUG_ID','CONC']].value_counts())\n",
    "                            df7.reset_index(inplace=True)\n",
    "                            df7.rename(columns={0:'counts'}, inplace=True)\n",
    "                        \n",
    "                            # make sure there are at least 5 concentrations\n",
    "                            if len(df7) > 4:\n",
    "                            \n",
    "                                # if all of the concentrations have three replicates, add to triplicates_df\n",
    "                                if False not in list(df7['counts']==3):\n",
    "                                \n",
    "                                    #default batch number is 0\n",
    "                                    df6['batch'] = 0\n",
    "                                    triplicates_df = pd.concat([triplicates_df, df6])\n",
    "                                \n",
    "                                # if all the concentrations are not in triplicates already, batch them into threes\n",
    "                                else:\n",
    "                                \n",
    "                                    # find the number of batches of 3 from the minimum number of replicates\n",
    "                                    multiple = df7['counts'].min()//3\n",
    "                                \n",
    "                                    # make the list of batches\n",
    "                                    batches = list(range(3, (multiple*3)+1, 3))\n",
    "                                \n",
    "                                    # for every concentration, make batches of three and add to triplicates_df\n",
    "                                    for conc in df6['CONC'].unique():\n",
    "                                        df8 = df6[df6['CONC']==conc].copy()\n",
    "                                        for batch in batches:\n",
    "                                            df9 = df8[batch-3:batch].copy()\n",
    "                                            df9['batch'] = batch\n",
    "                                            triplicates_df = pd.concat([triplicates_df, df9])\n",
    "    # save locally\n",
    "    if os.path.exists('data') == False:\n",
    "        os.makedirs('data')\n",
    "    triplicates_df.to_csv('data/triplicates_normalized.csv', index=False)\n",
    "    \n",
    "    return triplicates_df"
   ]
  },
  {
   "cell_type": "code",
   "execution_count": 16,
   "id": "f0522206",
   "metadata": {},
   "outputs": [
    {
     "data": {
      "text/html": [
       "\n",
       "<style>\n",
       "    /* Turns off some styling */\n",
       "    progress {\n",
       "        /* gets rid of default border in Firefox and Opera. */\n",
       "        border: none;\n",
       "        /* Needs to be in here for Safari polyfill so background images work as expected. */\n",
       "        background-size: auto;\n",
       "    }\n",
       "    progress:not([value]), progress:not([value])::-webkit-progress-bar {\n",
       "        background: repeating-linear-gradient(45deg, #7e7e7e, #7e7e7e 10px, #5c5c5c 10px, #5c5c5c 20px);\n",
       "    }\n",
       "    .progress-bar-interrupted, .progress-bar-interrupted::-webkit-progress-bar {\n",
       "        background: #F44336;\n",
       "    }\n",
       "</style>\n"
      ],
      "text/plain": [
       "<IPython.core.display.HTML object>"
      ]
     },
     "metadata": {},
     "output_type": "display_data"
    },
    {
     "data": {
      "text/html": [
       "\n",
       "    <div>\n",
       "      <progress value='154' class='' max='154' style='width:300px; height:20px; vertical-align: middle;'></progress>\n",
       "      100.00% [154/154 4:11:42&lt;00:00]\n",
       "    </div>\n",
       "    "
      ],
      "text/plain": [
       "<IPython.core.display.HTML object>"
      ]
     },
     "metadata": {},
     "output_type": "display_data"
    }
   ],
   "source": [
    "triplicates = make_triplicates(data_norm)"
   ]
  },
  {
   "cell_type": "code",
   "execution_count": null,
   "id": "f7dba232",
   "metadata": {},
   "outputs": [],
   "source": []
  }
 ],
 "metadata": {
  "celltoolbar": "Raw Cell Format",
  "kernelspec": {
   "display_name": "PythonDS v1.2",
   "language": "python",
   "name": "py_v1.2"
  },
  "language_info": {
   "codemirror_mode": {
    "name": "ipython",
    "version": 3
   },
   "file_extension": ".py",
   "mimetype": "text/x-python",
   "name": "python",
   "nbconvert_exporter": "python",
   "pygments_lexer": "ipython3",
   "version": "3.8.15"
  }
 },
 "nbformat": 4,
 "nbformat_minor": 5
}
